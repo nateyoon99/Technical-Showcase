{
 "cells": [
  {
   "cell_type": "markdown",
   "metadata": {},
   "source": [
    "# Term Project - Final Exmination - Part B\n",
    "* BMIS - 342: Section: 02\n",
    "* Group Members: Reese Averill, Nate Yoon, Matthew Kucsak, Terrell Elgee, Cole Schmidlin\n",
    "* Due date: 5/5/21 @ 12pm\n",
    "* Purpose: To take what we've learned all semester in Data Analytics and apply it to the Excel \"plants\" workbook. We want to cover topics of preprocessing data, exploring the dataset, clustering, and classification analysis.\n",
    "\n",
    "<b>Scenario:</b> \n",
    "\n",
    "There is a dataset of iris. While we know what specie each case is, we are interested in\n",
    "know whether we can use dimensions of petal and sepal to differentiate them by using clustering\n",
    "technique. Meanwhile, we are also interested in building a predictive model to predict what specie\n",
    "a new case is. We will build the predictive model using decision tree and neural networks.\n",
    "\n",
    "<b>Questions:</b>\n",
    "\n",
    "* Can we use features to cluster different species?\n",
    "* Answer: Yes\n",
    "* If yes, then how many categories (clusters) of iris can we come up with? What variables contribute to the clustering most?\n",
    "* Answer: \n",
    "* Once we have clusters, each of which is a specie. Can we build a predictive model to predict species? (Note: The dataset has specie information of each case. After you cluster the cases, you would have another set of specie information. When you create predictive models, you should use the original specie information.)   \n",
    "* Which technique, Decision Tree or Neural Nets, predicts better?"
   ]
  },
  {
   "cell_type": "code",
   "execution_count": 1,
   "metadata": {},
   "outputs": [
    {
     "name": "stdout",
     "output_type": "stream",
     "text": [
      "no display found. Using non-interactive Agg backend\n"
     ]
    }
   ],
   "source": [
    "# Importing libraries\n",
    "import pandas as pd\n",
    "import seaborn as sns\n",
    "import matplotlib.pyplot as plt\n",
    "from sklearn.model_selection import train_test_split\n",
    "from sklearn.neural_network import MLPClassifier\n",
    "from sklearn import metrics\n",
    "\n",
    "from sklearn.tree import export_graphviz\n",
    "import graphviz\n",
    "\n",
    "from sklearn.tree import DecisionTreeClassifier, export_graphviz\n",
    "\n",
    "from sklearn import tree\n",
    "\n",
    "from sklearn.linear_model import LinearRegression, Lasso, Ridge, LassoCV, BayesianRidge\n",
    "from sklearn.linear_model import LogisticRegression\n",
    "from sklearn.model_selection import train_test_split\n",
    "\n",
    "import statsmodels.formula.api as sm\n",
    "import matplotlib.pylab as plt\n",
    "\n",
    "from dmba import regressionSummary, exhaustive_search\n",
    "from dmba import backward_elimination, forward_selection, stepwise_selection\n",
    "from dmba import adjusted_r2_score, AIC_score, BIC_score"
   ]
  },
  {
   "cell_type": "code",
   "execution_count": 2,
   "metadata": {},
   "outputs": [
    {
     "data": {
      "text/html": [
       "<div>\n",
       "<style scoped>\n",
       "    .dataframe tbody tr th:only-of-type {\n",
       "        vertical-align: middle;\n",
       "    }\n",
       "\n",
       "    .dataframe tbody tr th {\n",
       "        vertical-align: top;\n",
       "    }\n",
       "\n",
       "    .dataframe thead th {\n",
       "        text-align: right;\n",
       "    }\n",
       "</style>\n",
       "<table border=\"1\" class=\"dataframe\">\n",
       "  <thead>\n",
       "    <tr style=\"text-align: right;\">\n",
       "      <th></th>\n",
       "      <th>ID</th>\n",
       "      <th>sepal_length</th>\n",
       "      <th>sepal_width</th>\n",
       "      <th>petal_length</th>\n",
       "      <th>petal_width</th>\n",
       "      <th>species</th>\n",
       "    </tr>\n",
       "  </thead>\n",
       "  <tbody>\n",
       "    <tr>\n",
       "      <th>0</th>\n",
       "      <td>1</td>\n",
       "      <td>4.3</td>\n",
       "      <td>2.8</td>\n",
       "      <td>1.9</td>\n",
       "      <td>NaN</td>\n",
       "      <td>0</td>\n",
       "    </tr>\n",
       "    <tr>\n",
       "      <th>1</th>\n",
       "      <td>2</td>\n",
       "      <td>4.8</td>\n",
       "      <td>3.4</td>\n",
       "      <td>1.6</td>\n",
       "      <td>0.2</td>\n",
       "      <td>0</td>\n",
       "    </tr>\n",
       "    <tr>\n",
       "      <th>2</th>\n",
       "      <td>3</td>\n",
       "      <td>5.0</td>\n",
       "      <td>3.0</td>\n",
       "      <td>1.8</td>\n",
       "      <td>0.4</td>\n",
       "      <td>0</td>\n",
       "    </tr>\n",
       "    <tr>\n",
       "      <th>3</th>\n",
       "      <td>4</td>\n",
       "      <td>4.8</td>\n",
       "      <td>3.0</td>\n",
       "      <td>1.4</td>\n",
       "      <td>0.3</td>\n",
       "      <td>0</td>\n",
       "    </tr>\n",
       "    <tr>\n",
       "      <th>4</th>\n",
       "      <td>5</td>\n",
       "      <td>5.1</td>\n",
       "      <td>3.8</td>\n",
       "      <td>1.6</td>\n",
       "      <td>0.2</td>\n",
       "      <td>0</td>\n",
       "    </tr>\n",
       "  </tbody>\n",
       "</table>\n",
       "</div>"
      ],
      "text/plain": [
       "   ID  sepal_length  sepal_width  petal_length  petal_width  species\n",
       "0   1           4.3          2.8           1.9          NaN        0\n",
       "1   2           4.8          3.4           1.6          0.2        0\n",
       "2   3           5.0          3.0           1.8          0.4        0\n",
       "3   4           4.8          3.0           1.4          0.3        0\n",
       "4   5           5.1          3.8           1.6          0.2        0"
      ]
     },
     "execution_count": 2,
     "metadata": {},
     "output_type": "execute_result"
    }
   ],
   "source": [
    "# Loading the dataset\n",
    "plants = pd.read_excel('http://barney.gonzaga.edu/~chuang/data/plants.xlsx')\n",
    "plants.head()"
   ]
  },
  {
   "cell_type": "markdown",
   "metadata": {},
   "source": [
    "## Preprocessing The Data"
   ]
  },
  {
   "cell_type": "markdown",
   "metadata": {},
   "source": [
    "### Identifying and deal with missing data"
   ]
  },
  {
   "cell_type": "code",
   "execution_count": 3,
   "metadata": {},
   "outputs": [
    {
     "data": {
      "text/html": [
       "<div>\n",
       "<style scoped>\n",
       "    .dataframe tbody tr th:only-of-type {\n",
       "        vertical-align: middle;\n",
       "    }\n",
       "\n",
       "    .dataframe tbody tr th {\n",
       "        vertical-align: top;\n",
       "    }\n",
       "\n",
       "    .dataframe thead th {\n",
       "        text-align: right;\n",
       "    }\n",
       "</style>\n",
       "<table border=\"1\" class=\"dataframe\">\n",
       "  <thead>\n",
       "    <tr style=\"text-align: right;\">\n",
       "      <th></th>\n",
       "      <th>ID</th>\n",
       "      <th>sepal_length</th>\n",
       "      <th>sepal_width</th>\n",
       "      <th>petal_length</th>\n",
       "      <th>petal_width</th>\n",
       "      <th>species</th>\n",
       "    </tr>\n",
       "  </thead>\n",
       "  <tbody>\n",
       "    <tr>\n",
       "      <th>0</th>\n",
       "      <td>False</td>\n",
       "      <td>False</td>\n",
       "      <td>False</td>\n",
       "      <td>False</td>\n",
       "      <td>True</td>\n",
       "      <td>False</td>\n",
       "    </tr>\n",
       "    <tr>\n",
       "      <th>1</th>\n",
       "      <td>False</td>\n",
       "      <td>False</td>\n",
       "      <td>False</td>\n",
       "      <td>False</td>\n",
       "      <td>False</td>\n",
       "      <td>False</td>\n",
       "    </tr>\n",
       "    <tr>\n",
       "      <th>2</th>\n",
       "      <td>False</td>\n",
       "      <td>False</td>\n",
       "      <td>False</td>\n",
       "      <td>False</td>\n",
       "      <td>False</td>\n",
       "      <td>False</td>\n",
       "    </tr>\n",
       "    <tr>\n",
       "      <th>3</th>\n",
       "      <td>False</td>\n",
       "      <td>False</td>\n",
       "      <td>False</td>\n",
       "      <td>False</td>\n",
       "      <td>False</td>\n",
       "      <td>False</td>\n",
       "    </tr>\n",
       "    <tr>\n",
       "      <th>4</th>\n",
       "      <td>False</td>\n",
       "      <td>False</td>\n",
       "      <td>False</td>\n",
       "      <td>False</td>\n",
       "      <td>False</td>\n",
       "      <td>False</td>\n",
       "    </tr>\n",
       "    <tr>\n",
       "      <th>...</th>\n",
       "      <td>...</td>\n",
       "      <td>...</td>\n",
       "      <td>...</td>\n",
       "      <td>...</td>\n",
       "      <td>...</td>\n",
       "      <td>...</td>\n",
       "    </tr>\n",
       "    <tr>\n",
       "      <th>321</th>\n",
       "      <td>False</td>\n",
       "      <td>False</td>\n",
       "      <td>False</td>\n",
       "      <td>False</td>\n",
       "      <td>False</td>\n",
       "      <td>False</td>\n",
       "    </tr>\n",
       "    <tr>\n",
       "      <th>322</th>\n",
       "      <td>False</td>\n",
       "      <td>False</td>\n",
       "      <td>False</td>\n",
       "      <td>False</td>\n",
       "      <td>False</td>\n",
       "      <td>False</td>\n",
       "    </tr>\n",
       "    <tr>\n",
       "      <th>323</th>\n",
       "      <td>False</td>\n",
       "      <td>False</td>\n",
       "      <td>False</td>\n",
       "      <td>False</td>\n",
       "      <td>True</td>\n",
       "      <td>False</td>\n",
       "    </tr>\n",
       "    <tr>\n",
       "      <th>324</th>\n",
       "      <td>False</td>\n",
       "      <td>False</td>\n",
       "      <td>False</td>\n",
       "      <td>False</td>\n",
       "      <td>False</td>\n",
       "      <td>False</td>\n",
       "    </tr>\n",
       "    <tr>\n",
       "      <th>325</th>\n",
       "      <td>False</td>\n",
       "      <td>False</td>\n",
       "      <td>False</td>\n",
       "      <td>False</td>\n",
       "      <td>False</td>\n",
       "      <td>False</td>\n",
       "    </tr>\n",
       "  </tbody>\n",
       "</table>\n",
       "<p>326 rows × 6 columns</p>\n",
       "</div>"
      ],
      "text/plain": [
       "        ID  sepal_length  sepal_width  petal_length  petal_width  species\n",
       "0    False         False        False         False         True    False\n",
       "1    False         False        False         False        False    False\n",
       "2    False         False        False         False        False    False\n",
       "3    False         False        False         False        False    False\n",
       "4    False         False        False         False        False    False\n",
       "..     ...           ...          ...           ...          ...      ...\n",
       "321  False         False        False         False        False    False\n",
       "322  False         False        False         False        False    False\n",
       "323  False         False        False         False         True    False\n",
       "324  False         False        False         False        False    False\n",
       "325  False         False        False         False        False    False\n",
       "\n",
       "[326 rows x 6 columns]"
      ]
     },
     "execution_count": 3,
     "metadata": {},
     "output_type": "execute_result"
    }
   ],
   "source": [
    "# Identifying missing values\n",
    "plants.isnull()"
   ]
  },
  {
   "cell_type": "code",
   "execution_count": 4,
   "metadata": {},
   "outputs": [
    {
     "data": {
      "text/plain": [
       "ID               0\n",
       "sepal_length     1\n",
       "sepal_width      5\n",
       "petal_length    10\n",
       "petal_width      8\n",
       "species          0\n",
       "dtype: int64"
      ]
     },
     "execution_count": 4,
     "metadata": {},
     "output_type": "execute_result"
    }
   ],
   "source": [
    "# Finding number of missing values of each column: Summarizing missing data\n",
    "plants.isnull().sum()"
   ]
  },
  {
   "cell_type": "code",
   "execution_count": 5,
   "metadata": {},
   "outputs": [
    {
     "data": {
      "text/plain": [
       "0       True\n",
       "1      False\n",
       "2      False\n",
       "3      False\n",
       "4      False\n",
       "       ...  \n",
       "321    False\n",
       "322    False\n",
       "323     True\n",
       "324    False\n",
       "325    False\n",
       "Length: 326, dtype: bool"
      ]
     },
     "execution_count": 5,
     "metadata": {},
     "output_type": "execute_result"
    }
   ],
   "source": [
    "# Identifying records that have missing values\n",
    "plants.isnull().any(axis=1)"
   ]
  },
  {
   "cell_type": "code",
   "execution_count": 6,
   "metadata": {},
   "outputs": [
    {
     "data": {
      "text/html": [
       "<div>\n",
       "<style scoped>\n",
       "    .dataframe tbody tr th:only-of-type {\n",
       "        vertical-align: middle;\n",
       "    }\n",
       "\n",
       "    .dataframe tbody tr th {\n",
       "        vertical-align: top;\n",
       "    }\n",
       "\n",
       "    .dataframe thead th {\n",
       "        text-align: right;\n",
       "    }\n",
       "</style>\n",
       "<table border=\"1\" class=\"dataframe\">\n",
       "  <thead>\n",
       "    <tr style=\"text-align: right;\">\n",
       "      <th></th>\n",
       "      <th>ID</th>\n",
       "      <th>sepal_length</th>\n",
       "      <th>sepal_width</th>\n",
       "      <th>petal_length</th>\n",
       "      <th>petal_width</th>\n",
       "      <th>species</th>\n",
       "    </tr>\n",
       "  </thead>\n",
       "  <tbody>\n",
       "    <tr>\n",
       "      <th>0</th>\n",
       "      <td>1</td>\n",
       "      <td>4.3</td>\n",
       "      <td>2.8</td>\n",
       "      <td>1.9</td>\n",
       "      <td>NaN</td>\n",
       "      <td>0</td>\n",
       "    </tr>\n",
       "    <tr>\n",
       "      <th>32</th>\n",
       "      <td>33</td>\n",
       "      <td>5.4</td>\n",
       "      <td>2.9</td>\n",
       "      <td>1.7</td>\n",
       "      <td>NaN</td>\n",
       "      <td>0</td>\n",
       "    </tr>\n",
       "    <tr>\n",
       "      <th>35</th>\n",
       "      <td>36</td>\n",
       "      <td>5.7</td>\n",
       "      <td>3.6</td>\n",
       "      <td>NaN</td>\n",
       "      <td>0.2</td>\n",
       "      <td>0</td>\n",
       "    </tr>\n",
       "    <tr>\n",
       "      <th>38</th>\n",
       "      <td>39</td>\n",
       "      <td>5.3</td>\n",
       "      <td>NaN</td>\n",
       "      <td>1.4</td>\n",
       "      <td>0.2</td>\n",
       "      <td>0</td>\n",
       "    </tr>\n",
       "    <tr>\n",
       "      <th>39</th>\n",
       "      <td>40</td>\n",
       "      <td>4.7</td>\n",
       "      <td>NaN</td>\n",
       "      <td>NaN</td>\n",
       "      <td>NaN</td>\n",
       "      <td>0</td>\n",
       "    </tr>\n",
       "    <tr>\n",
       "      <th>46</th>\n",
       "      <td>47</td>\n",
       "      <td>4.6</td>\n",
       "      <td>3.0</td>\n",
       "      <td>NaN</td>\n",
       "      <td>0.5</td>\n",
       "      <td>0</td>\n",
       "    </tr>\n",
       "    <tr>\n",
       "      <th>62</th>\n",
       "      <td>63</td>\n",
       "      <td>NaN</td>\n",
       "      <td>3.1</td>\n",
       "      <td>1.8</td>\n",
       "      <td>0.3</td>\n",
       "      <td>0</td>\n",
       "    </tr>\n",
       "    <tr>\n",
       "      <th>67</th>\n",
       "      <td>68</td>\n",
       "      <td>5.2</td>\n",
       "      <td>3.8</td>\n",
       "      <td>NaN</td>\n",
       "      <td>0.4</td>\n",
       "      <td>0</td>\n",
       "    </tr>\n",
       "    <tr>\n",
       "      <th>102</th>\n",
       "      <td>103</td>\n",
       "      <td>5.2</td>\n",
       "      <td>2.7</td>\n",
       "      <td>NaN</td>\n",
       "      <td>0.5</td>\n",
       "      <td>0</td>\n",
       "    </tr>\n",
       "    <tr>\n",
       "      <th>115</th>\n",
       "      <td>116</td>\n",
       "      <td>5.5</td>\n",
       "      <td>2.4</td>\n",
       "      <td>3.7</td>\n",
       "      <td>NaN</td>\n",
       "      <td>1</td>\n",
       "    </tr>\n",
       "    <tr>\n",
       "      <th>142</th>\n",
       "      <td>143</td>\n",
       "      <td>5.1</td>\n",
       "      <td>NaN</td>\n",
       "      <td>4.4</td>\n",
       "      <td>1.6</td>\n",
       "      <td>1</td>\n",
       "    </tr>\n",
       "    <tr>\n",
       "      <th>166</th>\n",
       "      <td>167</td>\n",
       "      <td>5.3</td>\n",
       "      <td>3.0</td>\n",
       "      <td>NaN</td>\n",
       "      <td>1.8</td>\n",
       "      <td>1</td>\n",
       "    </tr>\n",
       "    <tr>\n",
       "      <th>191</th>\n",
       "      <td>192</td>\n",
       "      <td>4.9</td>\n",
       "      <td>NaN</td>\n",
       "      <td>NaN</td>\n",
       "      <td>1.0</td>\n",
       "      <td>1</td>\n",
       "    </tr>\n",
       "    <tr>\n",
       "      <th>199</th>\n",
       "      <td>200</td>\n",
       "      <td>5.8</td>\n",
       "      <td>2.7</td>\n",
       "      <td>4.1</td>\n",
       "      <td>NaN</td>\n",
       "      <td>1</td>\n",
       "    </tr>\n",
       "    <tr>\n",
       "      <th>228</th>\n",
       "      <td>229</td>\n",
       "      <td>5.8</td>\n",
       "      <td>2.4</td>\n",
       "      <td>NaN</td>\n",
       "      <td>2.1</td>\n",
       "      <td>2</td>\n",
       "    </tr>\n",
       "    <tr>\n",
       "      <th>239</th>\n",
       "      <td>240</td>\n",
       "      <td>5.8</td>\n",
       "      <td>NaN</td>\n",
       "      <td>5.1</td>\n",
       "      <td>1.9</td>\n",
       "      <td>2</td>\n",
       "    </tr>\n",
       "    <tr>\n",
       "      <th>262</th>\n",
       "      <td>263</td>\n",
       "      <td>5.9</td>\n",
       "      <td>3.6</td>\n",
       "      <td>NaN</td>\n",
       "      <td>1.5</td>\n",
       "      <td>2</td>\n",
       "    </tr>\n",
       "    <tr>\n",
       "      <th>266</th>\n",
       "      <td>267</td>\n",
       "      <td>6.4</td>\n",
       "      <td>3.2</td>\n",
       "      <td>6.3</td>\n",
       "      <td>NaN</td>\n",
       "      <td>2</td>\n",
       "    </tr>\n",
       "    <tr>\n",
       "      <th>297</th>\n",
       "      <td>298</td>\n",
       "      <td>5.7</td>\n",
       "      <td>2.5</td>\n",
       "      <td>5.0</td>\n",
       "      <td>NaN</td>\n",
       "      <td>2</td>\n",
       "    </tr>\n",
       "    <tr>\n",
       "      <th>316</th>\n",
       "      <td>317</td>\n",
       "      <td>7.3</td>\n",
       "      <td>2.9</td>\n",
       "      <td>NaN</td>\n",
       "      <td>1.8</td>\n",
       "      <td>2</td>\n",
       "    </tr>\n",
       "    <tr>\n",
       "      <th>323</th>\n",
       "      <td>324</td>\n",
       "      <td>7.6</td>\n",
       "      <td>2.4</td>\n",
       "      <td>6.8</td>\n",
       "      <td>NaN</td>\n",
       "      <td>2</td>\n",
       "    </tr>\n",
       "  </tbody>\n",
       "</table>\n",
       "</div>"
      ],
      "text/plain": [
       "      ID  sepal_length  sepal_width  petal_length  petal_width  species\n",
       "0      1           4.3          2.8           1.9          NaN        0\n",
       "32    33           5.4          2.9           1.7          NaN        0\n",
       "35    36           5.7          3.6           NaN          0.2        0\n",
       "38    39           5.3          NaN           1.4          0.2        0\n",
       "39    40           4.7          NaN           NaN          NaN        0\n",
       "46    47           4.6          3.0           NaN          0.5        0\n",
       "62    63           NaN          3.1           1.8          0.3        0\n",
       "67    68           5.2          3.8           NaN          0.4        0\n",
       "102  103           5.2          2.7           NaN          0.5        0\n",
       "115  116           5.5          2.4           3.7          NaN        1\n",
       "142  143           5.1          NaN           4.4          1.6        1\n",
       "166  167           5.3          3.0           NaN          1.8        1\n",
       "191  192           4.9          NaN           NaN          1.0        1\n",
       "199  200           5.8          2.7           4.1          NaN        1\n",
       "228  229           5.8          2.4           NaN          2.1        2\n",
       "239  240           5.8          NaN           5.1          1.9        2\n",
       "262  263           5.9          3.6           NaN          1.5        2\n",
       "266  267           6.4          3.2           6.3          NaN        2\n",
       "297  298           5.7          2.5           5.0          NaN        2\n",
       "316  317           7.3          2.9           NaN          1.8        2\n",
       "323  324           7.6          2.4           6.8          NaN        2"
      ]
     },
     "execution_count": 6,
     "metadata": {},
     "output_type": "execute_result"
    }
   ],
   "source": [
    "# Identifying and displaying records that have missing values\n",
    "plants[plants.isnull().any(axis=1)]"
   ]
  },
  {
   "cell_type": "code",
   "execution_count": 7,
   "metadata": {},
   "outputs": [],
   "source": [
    "# Dropping all missing values of Nan\n",
    "\n",
    "plants.dropna(subset = ['sepal_length'], inplace=True)\n",
    "plants.dropna(subset = ['sepal_width'], inplace=True)\n",
    "plants.dropna(subset = ['petal_length'], inplace=True)\n",
    "plants.dropna(subset = ['petal_width'], inplace=True)"
   ]
  },
  {
   "cell_type": "code",
   "execution_count": 8,
   "metadata": {
    "scrolled": true
   },
   "outputs": [
    {
     "data": {
      "text/html": [
       "<div>\n",
       "<style scoped>\n",
       "    .dataframe tbody tr th:only-of-type {\n",
       "        vertical-align: middle;\n",
       "    }\n",
       "\n",
       "    .dataframe tbody tr th {\n",
       "        vertical-align: top;\n",
       "    }\n",
       "\n",
       "    .dataframe thead th {\n",
       "        text-align: right;\n",
       "    }\n",
       "</style>\n",
       "<table border=\"1\" class=\"dataframe\">\n",
       "  <thead>\n",
       "    <tr style=\"text-align: right;\">\n",
       "      <th></th>\n",
       "      <th>ID</th>\n",
       "      <th>sepal_length</th>\n",
       "      <th>sepal_width</th>\n",
       "      <th>petal_length</th>\n",
       "      <th>petal_width</th>\n",
       "      <th>species</th>\n",
       "    </tr>\n",
       "  </thead>\n",
       "  <tbody>\n",
       "    <tr>\n",
       "      <th>1</th>\n",
       "      <td>2</td>\n",
       "      <td>4.8</td>\n",
       "      <td>3.4</td>\n",
       "      <td>1.6</td>\n",
       "      <td>0.2</td>\n",
       "      <td>0</td>\n",
       "    </tr>\n",
       "    <tr>\n",
       "      <th>2</th>\n",
       "      <td>3</td>\n",
       "      <td>5.0</td>\n",
       "      <td>3.0</td>\n",
       "      <td>1.8</td>\n",
       "      <td>0.4</td>\n",
       "      <td>0</td>\n",
       "    </tr>\n",
       "    <tr>\n",
       "      <th>3</th>\n",
       "      <td>4</td>\n",
       "      <td>4.8</td>\n",
       "      <td>3.0</td>\n",
       "      <td>1.4</td>\n",
       "      <td>0.3</td>\n",
       "      <td>0</td>\n",
       "    </tr>\n",
       "    <tr>\n",
       "      <th>4</th>\n",
       "      <td>5</td>\n",
       "      <td>5.1</td>\n",
       "      <td>3.8</td>\n",
       "      <td>1.6</td>\n",
       "      <td>0.2</td>\n",
       "      <td>0</td>\n",
       "    </tr>\n",
       "    <tr>\n",
       "      <th>5</th>\n",
       "      <td>6</td>\n",
       "      <td>5.0</td>\n",
       "      <td>3.2</td>\n",
       "      <td>1.2</td>\n",
       "      <td>0.2</td>\n",
       "      <td>0</td>\n",
       "    </tr>\n",
       "    <tr>\n",
       "      <th>...</th>\n",
       "      <td>...</td>\n",
       "      <td>...</td>\n",
       "      <td>...</td>\n",
       "      <td>...</td>\n",
       "      <td>...</td>\n",
       "      <td>...</td>\n",
       "    </tr>\n",
       "    <tr>\n",
       "      <th>320</th>\n",
       "      <td>321</td>\n",
       "      <td>6.2</td>\n",
       "      <td>3.4</td>\n",
       "      <td>5.4</td>\n",
       "      <td>2.3</td>\n",
       "      <td>2</td>\n",
       "    </tr>\n",
       "    <tr>\n",
       "      <th>321</th>\n",
       "      <td>322</td>\n",
       "      <td>6.8</td>\n",
       "      <td>2.6</td>\n",
       "      <td>6.8</td>\n",
       "      <td>2.4</td>\n",
       "      <td>2</td>\n",
       "    </tr>\n",
       "    <tr>\n",
       "      <th>322</th>\n",
       "      <td>323</td>\n",
       "      <td>6.0</td>\n",
       "      <td>2.2</td>\n",
       "      <td>5.0</td>\n",
       "      <td>1.5</td>\n",
       "      <td>2</td>\n",
       "    </tr>\n",
       "    <tr>\n",
       "      <th>324</th>\n",
       "      <td>325</td>\n",
       "      <td>6.4</td>\n",
       "      <td>3.1</td>\n",
       "      <td>5.5</td>\n",
       "      <td>1.8</td>\n",
       "      <td>2</td>\n",
       "    </tr>\n",
       "    <tr>\n",
       "      <th>325</th>\n",
       "      <td>326</td>\n",
       "      <td>5.8</td>\n",
       "      <td>2.8</td>\n",
       "      <td>5.1</td>\n",
       "      <td>2.4</td>\n",
       "      <td>2</td>\n",
       "    </tr>\n",
       "  </tbody>\n",
       "</table>\n",
       "<p>305 rows × 6 columns</p>\n",
       "</div>"
      ],
      "text/plain": [
       "      ID  sepal_length  sepal_width  petal_length  petal_width  species\n",
       "1      2           4.8          3.4           1.6          0.2        0\n",
       "2      3           5.0          3.0           1.8          0.4        0\n",
       "3      4           4.8          3.0           1.4          0.3        0\n",
       "4      5           5.1          3.8           1.6          0.2        0\n",
       "5      6           5.0          3.2           1.2          0.2        0\n",
       "..   ...           ...          ...           ...          ...      ...\n",
       "320  321           6.2          3.4           5.4          2.3        2\n",
       "321  322           6.8          2.6           6.8          2.4        2\n",
       "322  323           6.0          2.2           5.0          1.5        2\n",
       "324  325           6.4          3.1           5.5          1.8        2\n",
       "325  326           5.8          2.8           5.1          2.4        2\n",
       "\n",
       "[305 rows x 6 columns]"
      ]
     },
     "execution_count": 8,
     "metadata": {},
     "output_type": "execute_result"
    }
   ],
   "source": [
    "plants"
   ]
  },
  {
   "cell_type": "markdown",
   "metadata": {},
   "source": [
    "### Identify and deal with outliers, which are those greater than or less than three standard deviations"
   ]
  },
  {
   "cell_type": "code",
   "execution_count": 9,
   "metadata": {},
   "outputs": [],
   "source": [
    "# -- We are creating new columns for sepal and petal to calculate Z-Scores --\n",
    "\n",
    "# -- Standardizing price --\n",
    "from scipy import stats\n",
    "plants['sepal_length_z'] = stats.zscore(plants['sepal_length'])\n",
    "plants['sepal_width_z'] = stats.zscore(plants['sepal_width'])\n",
    "plants['petal_length_z'] = stats.zscore(plants['petal_length'])\n",
    "plants['petal_width_z'] = stats.zscore(plants['petal_width'])"
   ]
  },
  {
   "cell_type": "code",
   "execution_count": 10,
   "metadata": {
    "scrolled": false
   },
   "outputs": [
    {
     "data": {
      "text/html": [
       "<div>\n",
       "<style scoped>\n",
       "    .dataframe tbody tr th:only-of-type {\n",
       "        vertical-align: middle;\n",
       "    }\n",
       "\n",
       "    .dataframe tbody tr th {\n",
       "        vertical-align: top;\n",
       "    }\n",
       "\n",
       "    .dataframe thead th {\n",
       "        text-align: right;\n",
       "    }\n",
       "</style>\n",
       "<table border=\"1\" class=\"dataframe\">\n",
       "  <thead>\n",
       "    <tr style=\"text-align: right;\">\n",
       "      <th></th>\n",
       "      <th>ID</th>\n",
       "      <th>sepal_length</th>\n",
       "      <th>sepal_width</th>\n",
       "      <th>petal_length</th>\n",
       "      <th>petal_width</th>\n",
       "      <th>species</th>\n",
       "      <th>sepal_length_z</th>\n",
       "      <th>sepal_width_z</th>\n",
       "      <th>petal_length_z</th>\n",
       "      <th>petal_width_z</th>\n",
       "    </tr>\n",
       "  </thead>\n",
       "  <tbody>\n",
       "    <tr>\n",
       "      <th>116</th>\n",
       "      <td>117</td>\n",
       "      <td>8.900000</td>\n",
       "      <td>2.6</td>\n",
       "      <td>3.3</td>\n",
       "      <td>1.3</td>\n",
       "      <td>1</td>\n",
       "      <td>3.421957</td>\n",
       "      <td>-0.814827</td>\n",
       "      <td>-0.266091</td>\n",
       "      <td>0.070337</td>\n",
       "    </tr>\n",
       "    <tr>\n",
       "      <th>154</th>\n",
       "      <td>155</td>\n",
       "      <td>8.975003</td>\n",
       "      <td>2.9</td>\n",
       "      <td>4.9</td>\n",
       "      <td>1.5</td>\n",
       "      <td>1</td>\n",
       "      <td>3.505314</td>\n",
       "      <td>-0.252114</td>\n",
       "      <td>0.624529</td>\n",
       "      <td>0.332794</td>\n",
       "    </tr>\n",
       "    <tr>\n",
       "      <th>261</th>\n",
       "      <td>262</td>\n",
       "      <td>9.157097</td>\n",
       "      <td>3.3</td>\n",
       "      <td>5.2</td>\n",
       "      <td>2.4</td>\n",
       "      <td>2</td>\n",
       "      <td>3.707692</td>\n",
       "      <td>0.498170</td>\n",
       "      <td>0.791520</td>\n",
       "      <td>1.513851</td>\n",
       "    </tr>\n",
       "    <tr>\n",
       "      <th>282</th>\n",
       "      <td>283</td>\n",
       "      <td>8.975003</td>\n",
       "      <td>3.8</td>\n",
       "      <td>6.7</td>\n",
       "      <td>2.2</td>\n",
       "      <td>2</td>\n",
       "      <td>3.505314</td>\n",
       "      <td>1.436026</td>\n",
       "      <td>1.626476</td>\n",
       "      <td>1.251394</td>\n",
       "    </tr>\n",
       "  </tbody>\n",
       "</table>\n",
       "</div>"
      ],
      "text/plain": [
       "      ID  sepal_length  sepal_width  petal_length  petal_width  species  \\\n",
       "116  117      8.900000          2.6           3.3          1.3        1   \n",
       "154  155      8.975003          2.9           4.9          1.5        1   \n",
       "261  262      9.157097          3.3           5.2          2.4        2   \n",
       "282  283      8.975003          3.8           6.7          2.2        2   \n",
       "\n",
       "     sepal_length_z  sepal_width_z  petal_length_z  petal_width_z  \n",
       "116        3.421957      -0.814827       -0.266091       0.070337  \n",
       "154        3.505314      -0.252114        0.624529       0.332794  \n",
       "261        3.707692       0.498170        0.791520       1.513851  \n",
       "282        3.505314       1.436026        1.626476       1.251394  "
      ]
     },
     "execution_count": 10,
     "metadata": {},
     "output_type": "execute_result"
    }
   ],
   "source": [
    "# -- We want to consider any data values that have z-score \n",
    "# -- greater than 3 standard deviation as outliers. --\n",
    "\n",
    "plants[(plants['sepal_length_z']>3) | (plants['sepal_length_z']<-3)]\n",
    "# plants[(plants['sepal_width_z']>3) | (plants['sepal_width_z']<-3)]\n",
    "# plants[(plants['petal_length_z']>3) | (plants['petal_length_z']<-3)]\n",
    "# plants[(plants['petal_width_z']>3) | (plants['petal_width_z']<-3)]"
   ]
  },
  {
   "cell_type": "markdown",
   "metadata": {},
   "source": [
    "#### Visualizing in Box Plots"
   ]
  },
  {
   "cell_type": "code",
   "execution_count": 11,
   "metadata": {},
   "outputs": [
    {
     "data": {
      "text/plain": [
       "Text(0.5, 1.0, 'Sepal Length Box Plot')"
      ]
     },
     "execution_count": 11,
     "metadata": {},
     "output_type": "execute_result"
    }
   ],
   "source": [
    "# -- Box plot for sepal length --\n",
    "\n",
    "plt.boxplot(plants['sepal_length'], vert = True)\n",
    "plt.ylabel('Sepal Length')\n",
    "plt.title('Sepal Length Box Plot')"
   ]
  },
  {
   "cell_type": "code",
   "execution_count": 12,
   "metadata": {},
   "outputs": [
    {
     "data": {
      "text/plain": [
       "Text(0.5, 1.0, 'Sepal Width Box Plot')"
      ]
     },
     "execution_count": 12,
     "metadata": {},
     "output_type": "execute_result"
    }
   ],
   "source": [
    "# -- Box plot for sepal width --\n",
    "\n",
    "plt.boxplot(plants['sepal_width'], vert = True)\n",
    "plt.ylabel('Sepal Width')\n",
    "plt.title('Sepal Width Box Plot')"
   ]
  },
  {
   "cell_type": "code",
   "execution_count": 13,
   "metadata": {},
   "outputs": [
    {
     "data": {
      "text/plain": [
       "Text(0.5, 1.0, 'Petal Length Box Plot')"
      ]
     },
     "execution_count": 13,
     "metadata": {},
     "output_type": "execute_result"
    }
   ],
   "source": [
    "# -- Box plot for petal length --\n",
    "\n",
    "plt.boxplot(plants['petal_length'], vert = True)\n",
    "plt.ylabel('Petal Length')\n",
    "plt.title('Petal Length Box Plot')"
   ]
  },
  {
   "cell_type": "code",
   "execution_count": 14,
   "metadata": {
    "scrolled": true
   },
   "outputs": [
    {
     "data": {
      "text/plain": [
       "Text(0.5, 1.0, 'Petal Width Box Plot')"
      ]
     },
     "execution_count": 14,
     "metadata": {},
     "output_type": "execute_result"
    }
   ],
   "source": [
    "# -- Box plot for petal width --\n",
    "\n",
    "plt.boxplot(plants['petal_width'], vert = True)\n",
    "plt.ylabel('Petal Width')\n",
    "plt.title('Petal Width Box Plot')"
   ]
  },
  {
   "cell_type": "markdown",
   "metadata": {},
   "source": [
    "### Identify and deal with duplicate data"
   ]
  },
  {
   "cell_type": "code",
   "execution_count": 15,
   "metadata": {},
   "outputs": [
    {
     "data": {
      "text/html": [
       "<div>\n",
       "<style scoped>\n",
       "    .dataframe tbody tr th:only-of-type {\n",
       "        vertical-align: middle;\n",
       "    }\n",
       "\n",
       "    .dataframe tbody tr th {\n",
       "        vertical-align: top;\n",
       "    }\n",
       "\n",
       "    .dataframe thead th {\n",
       "        text-align: right;\n",
       "    }\n",
       "</style>\n",
       "<table border=\"1\" class=\"dataframe\">\n",
       "  <thead>\n",
       "    <tr style=\"text-align: right;\">\n",
       "      <th></th>\n",
       "      <th>ID</th>\n",
       "      <th>sepal_length</th>\n",
       "      <th>sepal_width</th>\n",
       "      <th>petal_length</th>\n",
       "      <th>petal_width</th>\n",
       "      <th>species</th>\n",
       "      <th>sepal_length_z</th>\n",
       "      <th>sepal_width_z</th>\n",
       "      <th>petal_length_z</th>\n",
       "      <th>petal_width_z</th>\n",
       "    </tr>\n",
       "  </thead>\n",
       "  <tbody>\n",
       "    <tr>\n",
       "      <th>1</th>\n",
       "      <td>2</td>\n",
       "      <td>4.8</td>\n",
       "      <td>3.4</td>\n",
       "      <td>1.6</td>\n",
       "      <td>0.2</td>\n",
       "      <td>0</td>\n",
       "      <td>-1.134735</td>\n",
       "      <td>0.685741</td>\n",
       "      <td>-1.212374</td>\n",
       "      <td>-1.373178</td>\n",
       "    </tr>\n",
       "    <tr>\n",
       "      <th>2</th>\n",
       "      <td>3</td>\n",
       "      <td>5.0</td>\n",
       "      <td>3.0</td>\n",
       "      <td>1.8</td>\n",
       "      <td>0.4</td>\n",
       "      <td>0</td>\n",
       "      <td>-0.912457</td>\n",
       "      <td>-0.064543</td>\n",
       "      <td>-1.101047</td>\n",
       "      <td>-1.110721</td>\n",
       "    </tr>\n",
       "    <tr>\n",
       "      <th>3</th>\n",
       "      <td>4</td>\n",
       "      <td>4.8</td>\n",
       "      <td>3.0</td>\n",
       "      <td>1.4</td>\n",
       "      <td>0.3</td>\n",
       "      <td>0</td>\n",
       "      <td>-1.134735</td>\n",
       "      <td>-0.064543</td>\n",
       "      <td>-1.323702</td>\n",
       "      <td>-1.241950</td>\n",
       "    </tr>\n",
       "    <tr>\n",
       "      <th>4</th>\n",
       "      <td>5</td>\n",
       "      <td>5.1</td>\n",
       "      <td>3.8</td>\n",
       "      <td>1.6</td>\n",
       "      <td>0.2</td>\n",
       "      <td>0</td>\n",
       "      <td>-0.801319</td>\n",
       "      <td>1.436026</td>\n",
       "      <td>-1.212374</td>\n",
       "      <td>-1.373178</td>\n",
       "    </tr>\n",
       "    <tr>\n",
       "      <th>5</th>\n",
       "      <td>6</td>\n",
       "      <td>5.0</td>\n",
       "      <td>3.2</td>\n",
       "      <td>1.2</td>\n",
       "      <td>0.2</td>\n",
       "      <td>0</td>\n",
       "      <td>-0.912457</td>\n",
       "      <td>0.310599</td>\n",
       "      <td>-1.435029</td>\n",
       "      <td>-1.373178</td>\n",
       "    </tr>\n",
       "    <tr>\n",
       "      <th>...</th>\n",
       "      <td>...</td>\n",
       "      <td>...</td>\n",
       "      <td>...</td>\n",
       "      <td>...</td>\n",
       "      <td>...</td>\n",
       "      <td>...</td>\n",
       "      <td>...</td>\n",
       "      <td>...</td>\n",
       "      <td>...</td>\n",
       "      <td>...</td>\n",
       "    </tr>\n",
       "    <tr>\n",
       "      <th>320</th>\n",
       "      <td>321</td>\n",
       "      <td>6.2</td>\n",
       "      <td>3.4</td>\n",
       "      <td>5.4</td>\n",
       "      <td>2.3</td>\n",
       "      <td>2</td>\n",
       "      <td>0.421208</td>\n",
       "      <td>0.685741</td>\n",
       "      <td>0.902847</td>\n",
       "      <td>1.382623</td>\n",
       "    </tr>\n",
       "    <tr>\n",
       "      <th>321</th>\n",
       "      <td>322</td>\n",
       "      <td>6.8</td>\n",
       "      <td>2.6</td>\n",
       "      <td>6.8</td>\n",
       "      <td>2.4</td>\n",
       "      <td>2</td>\n",
       "      <td>1.088041</td>\n",
       "      <td>-0.814827</td>\n",
       "      <td>1.682140</td>\n",
       "      <td>1.513851</td>\n",
       "    </tr>\n",
       "    <tr>\n",
       "      <th>322</th>\n",
       "      <td>323</td>\n",
       "      <td>6.0</td>\n",
       "      <td>2.2</td>\n",
       "      <td>5.0</td>\n",
       "      <td>1.5</td>\n",
       "      <td>2</td>\n",
       "      <td>0.198931</td>\n",
       "      <td>-1.565111</td>\n",
       "      <td>0.680193</td>\n",
       "      <td>0.332794</td>\n",
       "    </tr>\n",
       "    <tr>\n",
       "      <th>324</th>\n",
       "      <td>325</td>\n",
       "      <td>6.4</td>\n",
       "      <td>3.1</td>\n",
       "      <td>5.5</td>\n",
       "      <td>1.8</td>\n",
       "      <td>2</td>\n",
       "      <td>0.643486</td>\n",
       "      <td>0.123028</td>\n",
       "      <td>0.958511</td>\n",
       "      <td>0.726480</td>\n",
       "    </tr>\n",
       "    <tr>\n",
       "      <th>325</th>\n",
       "      <td>326</td>\n",
       "      <td>5.8</td>\n",
       "      <td>2.8</td>\n",
       "      <td>5.1</td>\n",
       "      <td>2.4</td>\n",
       "      <td>2</td>\n",
       "      <td>-0.023347</td>\n",
       "      <td>-0.439685</td>\n",
       "      <td>0.735856</td>\n",
       "      <td>1.513851</td>\n",
       "    </tr>\n",
       "  </tbody>\n",
       "</table>\n",
       "<p>305 rows × 10 columns</p>\n",
       "</div>"
      ],
      "text/plain": [
       "      ID  sepal_length  sepal_width  petal_length  petal_width  species  \\\n",
       "1      2           4.8          3.4           1.6          0.2        0   \n",
       "2      3           5.0          3.0           1.8          0.4        0   \n",
       "3      4           4.8          3.0           1.4          0.3        0   \n",
       "4      5           5.1          3.8           1.6          0.2        0   \n",
       "5      6           5.0          3.2           1.2          0.2        0   \n",
       "..   ...           ...          ...           ...          ...      ...   \n",
       "320  321           6.2          3.4           5.4          2.3        2   \n",
       "321  322           6.8          2.6           6.8          2.4        2   \n",
       "322  323           6.0          2.2           5.0          1.5        2   \n",
       "324  325           6.4          3.1           5.5          1.8        2   \n",
       "325  326           5.8          2.8           5.1          2.4        2   \n",
       "\n",
       "     sepal_length_z  sepal_width_z  petal_length_z  petal_width_z  \n",
       "1         -1.134735       0.685741       -1.212374      -1.373178  \n",
       "2         -0.912457      -0.064543       -1.101047      -1.110721  \n",
       "3         -1.134735      -0.064543       -1.323702      -1.241950  \n",
       "4         -0.801319       1.436026       -1.212374      -1.373178  \n",
       "5         -0.912457       0.310599       -1.435029      -1.373178  \n",
       "..              ...            ...             ...            ...  \n",
       "320        0.421208       0.685741        0.902847       1.382623  \n",
       "321        1.088041      -0.814827        1.682140       1.513851  \n",
       "322        0.198931      -1.565111        0.680193       0.332794  \n",
       "324        0.643486       0.123028        0.958511       0.726480  \n",
       "325       -0.023347      -0.439685        0.735856       1.513851  \n",
       "\n",
       "[305 rows x 10 columns]"
      ]
     },
     "execution_count": 15,
     "metadata": {},
     "output_type": "execute_result"
    }
   ],
   "source": [
    "# -- Standard method --\n",
    "plants.drop_duplicates()"
   ]
  },
  {
   "cell_type": "code",
   "execution_count": 16,
   "metadata": {},
   "outputs": [
    {
     "data": {
      "text/html": [
       "<div>\n",
       "<style scoped>\n",
       "    .dataframe tbody tr th:only-of-type {\n",
       "        vertical-align: middle;\n",
       "    }\n",
       "\n",
       "    .dataframe tbody tr th {\n",
       "        vertical-align: top;\n",
       "    }\n",
       "\n",
       "    .dataframe thead th {\n",
       "        text-align: right;\n",
       "    }\n",
       "</style>\n",
       "<table border=\"1\" class=\"dataframe\">\n",
       "  <thead>\n",
       "    <tr style=\"text-align: right;\">\n",
       "      <th></th>\n",
       "      <th>sepal_length</th>\n",
       "      <th>sepal_width</th>\n",
       "      <th>petal_length</th>\n",
       "      <th>petal_width</th>\n",
       "      <th>species</th>\n",
       "      <th>sepal_length_z</th>\n",
       "      <th>sepal_width_z</th>\n",
       "      <th>petal_length_z</th>\n",
       "      <th>petal_width_z</th>\n",
       "    </tr>\n",
       "  </thead>\n",
       "  <tbody>\n",
       "    <tr>\n",
       "      <th>1</th>\n",
       "      <td>4.8</td>\n",
       "      <td>3.4</td>\n",
       "      <td>1.6</td>\n",
       "      <td>0.2</td>\n",
       "      <td>0</td>\n",
       "      <td>-1.134735</td>\n",
       "      <td>0.685741</td>\n",
       "      <td>-1.212374</td>\n",
       "      <td>-1.373178</td>\n",
       "    </tr>\n",
       "    <tr>\n",
       "      <th>2</th>\n",
       "      <td>5.0</td>\n",
       "      <td>3.0</td>\n",
       "      <td>1.8</td>\n",
       "      <td>0.4</td>\n",
       "      <td>0</td>\n",
       "      <td>-0.912457</td>\n",
       "      <td>-0.064543</td>\n",
       "      <td>-1.101047</td>\n",
       "      <td>-1.110721</td>\n",
       "    </tr>\n",
       "    <tr>\n",
       "      <th>3</th>\n",
       "      <td>4.8</td>\n",
       "      <td>3.0</td>\n",
       "      <td>1.4</td>\n",
       "      <td>0.3</td>\n",
       "      <td>0</td>\n",
       "      <td>-1.134735</td>\n",
       "      <td>-0.064543</td>\n",
       "      <td>-1.323702</td>\n",
       "      <td>-1.241950</td>\n",
       "    </tr>\n",
       "    <tr>\n",
       "      <th>4</th>\n",
       "      <td>5.1</td>\n",
       "      <td>3.8</td>\n",
       "      <td>1.6</td>\n",
       "      <td>0.2</td>\n",
       "      <td>0</td>\n",
       "      <td>-0.801319</td>\n",
       "      <td>1.436026</td>\n",
       "      <td>-1.212374</td>\n",
       "      <td>-1.373178</td>\n",
       "    </tr>\n",
       "    <tr>\n",
       "      <th>5</th>\n",
       "      <td>5.0</td>\n",
       "      <td>3.2</td>\n",
       "      <td>1.2</td>\n",
       "      <td>0.2</td>\n",
       "      <td>0</td>\n",
       "      <td>-0.912457</td>\n",
       "      <td>0.310599</td>\n",
       "      <td>-1.435029</td>\n",
       "      <td>-1.373178</td>\n",
       "    </tr>\n",
       "    <tr>\n",
       "      <th>...</th>\n",
       "      <td>...</td>\n",
       "      <td>...</td>\n",
       "      <td>...</td>\n",
       "      <td>...</td>\n",
       "      <td>...</td>\n",
       "      <td>...</td>\n",
       "      <td>...</td>\n",
       "      <td>...</td>\n",
       "      <td>...</td>\n",
       "    </tr>\n",
       "    <tr>\n",
       "      <th>320</th>\n",
       "      <td>6.2</td>\n",
       "      <td>3.4</td>\n",
       "      <td>5.4</td>\n",
       "      <td>2.3</td>\n",
       "      <td>2</td>\n",
       "      <td>0.421208</td>\n",
       "      <td>0.685741</td>\n",
       "      <td>0.902847</td>\n",
       "      <td>1.382623</td>\n",
       "    </tr>\n",
       "    <tr>\n",
       "      <th>321</th>\n",
       "      <td>6.8</td>\n",
       "      <td>2.6</td>\n",
       "      <td>6.8</td>\n",
       "      <td>2.4</td>\n",
       "      <td>2</td>\n",
       "      <td>1.088041</td>\n",
       "      <td>-0.814827</td>\n",
       "      <td>1.682140</td>\n",
       "      <td>1.513851</td>\n",
       "    </tr>\n",
       "    <tr>\n",
       "      <th>322</th>\n",
       "      <td>6.0</td>\n",
       "      <td>2.2</td>\n",
       "      <td>5.0</td>\n",
       "      <td>1.5</td>\n",
       "      <td>2</td>\n",
       "      <td>0.198931</td>\n",
       "      <td>-1.565111</td>\n",
       "      <td>0.680193</td>\n",
       "      <td>0.332794</td>\n",
       "    </tr>\n",
       "    <tr>\n",
       "      <th>324</th>\n",
       "      <td>6.4</td>\n",
       "      <td>3.1</td>\n",
       "      <td>5.5</td>\n",
       "      <td>1.8</td>\n",
       "      <td>2</td>\n",
       "      <td>0.643486</td>\n",
       "      <td>0.123028</td>\n",
       "      <td>0.958511</td>\n",
       "      <td>0.726480</td>\n",
       "    </tr>\n",
       "    <tr>\n",
       "      <th>325</th>\n",
       "      <td>5.8</td>\n",
       "      <td>2.8</td>\n",
       "      <td>5.1</td>\n",
       "      <td>2.4</td>\n",
       "      <td>2</td>\n",
       "      <td>-0.023347</td>\n",
       "      <td>-0.439685</td>\n",
       "      <td>0.735856</td>\n",
       "      <td>1.513851</td>\n",
       "    </tr>\n",
       "  </tbody>\n",
       "</table>\n",
       "<p>305 rows × 9 columns</p>\n",
       "</div>"
      ],
      "text/plain": [
       "     sepal_length  sepal_width  petal_length  petal_width  species  \\\n",
       "1             4.8          3.4           1.6          0.2        0   \n",
       "2             5.0          3.0           1.8          0.4        0   \n",
       "3             4.8          3.0           1.4          0.3        0   \n",
       "4             5.1          3.8           1.6          0.2        0   \n",
       "5             5.0          3.2           1.2          0.2        0   \n",
       "..            ...          ...           ...          ...      ...   \n",
       "320           6.2          3.4           5.4          2.3        2   \n",
       "321           6.8          2.6           6.8          2.4        2   \n",
       "322           6.0          2.2           5.0          1.5        2   \n",
       "324           6.4          3.1           5.5          1.8        2   \n",
       "325           5.8          2.8           5.1          2.4        2   \n",
       "\n",
       "     sepal_length_z  sepal_width_z  petal_length_z  petal_width_z  \n",
       "1         -1.134735       0.685741       -1.212374      -1.373178  \n",
       "2         -0.912457      -0.064543       -1.101047      -1.110721  \n",
       "3         -1.134735      -0.064543       -1.323702      -1.241950  \n",
       "4         -0.801319       1.436026       -1.212374      -1.373178  \n",
       "5         -0.912457       0.310599       -1.435029      -1.373178  \n",
       "..              ...            ...             ...            ...  \n",
       "320        0.421208       0.685741        0.902847       1.382623  \n",
       "321        1.088041      -0.814827        1.682140       1.513851  \n",
       "322        0.198931      -1.565111        0.680193       0.332794  \n",
       "324        0.643486       0.123028        0.958511       0.726480  \n",
       "325       -0.023347      -0.439685        0.735856       1.513851  \n",
       "\n",
       "[305 rows x 9 columns]"
      ]
     },
     "execution_count": 16,
     "metadata": {},
     "output_type": "execute_result"
    }
   ],
   "source": [
    "# -- the index column is in fact one primary key column, which prevents duplicate records from happening --\n",
    "# -- it must be removed --\n",
    "plants.drop('ID', axis=1)"
   ]
  },
  {
   "cell_type": "code",
   "execution_count": 17,
   "metadata": {},
   "outputs": [
    {
     "data": {
      "text/plain": [
       "1      False\n",
       "2      False\n",
       "3      False\n",
       "4      False\n",
       "5      False\n",
       "       ...  \n",
       "320    False\n",
       "321    False\n",
       "322    False\n",
       "324    False\n",
       "325    False\n",
       "Length: 305, dtype: bool"
      ]
     },
     "execution_count": 17,
     "metadata": {},
     "output_type": "execute_result"
    }
   ],
   "source": [
    "# -- Find duplicate records --\n",
    "plants.duplicated()"
   ]
  },
  {
   "cell_type": "code",
   "execution_count": 18,
   "metadata": {},
   "outputs": [
    {
     "data": {
      "text/plain": [
       "0"
      ]
     },
     "execution_count": 18,
     "metadata": {},
     "output_type": "execute_result"
    }
   ],
   "source": [
    "# Finding how many duplicated records there are\n",
    "plants.duplicated().sum()"
   ]
  },
  {
   "cell_type": "code",
   "execution_count": 19,
   "metadata": {},
   "outputs": [
    {
     "data": {
      "text/html": [
       "<div>\n",
       "<style scoped>\n",
       "    .dataframe tbody tr th:only-of-type {\n",
       "        vertical-align: middle;\n",
       "    }\n",
       "\n",
       "    .dataframe tbody tr th {\n",
       "        vertical-align: top;\n",
       "    }\n",
       "\n",
       "    .dataframe thead th {\n",
       "        text-align: right;\n",
       "    }\n",
       "</style>\n",
       "<table border=\"1\" class=\"dataframe\">\n",
       "  <thead>\n",
       "    <tr style=\"text-align: right;\">\n",
       "      <th></th>\n",
       "      <th>ID</th>\n",
       "      <th>sepal_length</th>\n",
       "      <th>sepal_width</th>\n",
       "      <th>petal_length</th>\n",
       "      <th>petal_width</th>\n",
       "      <th>species</th>\n",
       "      <th>sepal_length_z</th>\n",
       "      <th>sepal_width_z</th>\n",
       "      <th>petal_length_z</th>\n",
       "      <th>petal_width_z</th>\n",
       "    </tr>\n",
       "  </thead>\n",
       "  <tbody>\n",
       "  </tbody>\n",
       "</table>\n",
       "</div>"
      ],
      "text/plain": [
       "Empty DataFrame\n",
       "Columns: [ID, sepal_length, sepal_width, petal_length, petal_width, species, sepal_length_z, sepal_width_z, petal_length_z, petal_width_z]\n",
       "Index: []"
      ]
     },
     "execution_count": 19,
     "metadata": {},
     "output_type": "execute_result"
    }
   ],
   "source": [
    "# Finding records that are duplicated\n",
    "plants[plants.duplicated()]"
   ]
  },
  {
   "cell_type": "code",
   "execution_count": 20,
   "metadata": {},
   "outputs": [
    {
     "data": {
      "text/html": [
       "<div>\n",
       "<style scoped>\n",
       "    .dataframe tbody tr th:only-of-type {\n",
       "        vertical-align: middle;\n",
       "    }\n",
       "\n",
       "    .dataframe tbody tr th {\n",
       "        vertical-align: top;\n",
       "    }\n",
       "\n",
       "    .dataframe thead th {\n",
       "        text-align: right;\n",
       "    }\n",
       "</style>\n",
       "<table border=\"1\" class=\"dataframe\">\n",
       "  <thead>\n",
       "    <tr style=\"text-align: right;\">\n",
       "      <th></th>\n",
       "      <th>ID</th>\n",
       "      <th>sepal_length</th>\n",
       "      <th>sepal_width</th>\n",
       "      <th>petal_length</th>\n",
       "      <th>petal_width</th>\n",
       "      <th>species</th>\n",
       "      <th>sepal_length_z</th>\n",
       "      <th>sepal_width_z</th>\n",
       "      <th>petal_length_z</th>\n",
       "      <th>petal_width_z</th>\n",
       "    </tr>\n",
       "  </thead>\n",
       "  <tbody>\n",
       "    <tr>\n",
       "      <th>1</th>\n",
       "      <td>2</td>\n",
       "      <td>4.8</td>\n",
       "      <td>3.4</td>\n",
       "      <td>1.6</td>\n",
       "      <td>0.2</td>\n",
       "      <td>0</td>\n",
       "      <td>-1.134735</td>\n",
       "      <td>0.685741</td>\n",
       "      <td>-1.212374</td>\n",
       "      <td>-1.373178</td>\n",
       "    </tr>\n",
       "    <tr>\n",
       "      <th>2</th>\n",
       "      <td>3</td>\n",
       "      <td>5.0</td>\n",
       "      <td>3.0</td>\n",
       "      <td>1.8</td>\n",
       "      <td>0.4</td>\n",
       "      <td>0</td>\n",
       "      <td>-0.912457</td>\n",
       "      <td>-0.064543</td>\n",
       "      <td>-1.101047</td>\n",
       "      <td>-1.110721</td>\n",
       "    </tr>\n",
       "    <tr>\n",
       "      <th>3</th>\n",
       "      <td>4</td>\n",
       "      <td>4.8</td>\n",
       "      <td>3.0</td>\n",
       "      <td>1.4</td>\n",
       "      <td>0.3</td>\n",
       "      <td>0</td>\n",
       "      <td>-1.134735</td>\n",
       "      <td>-0.064543</td>\n",
       "      <td>-1.323702</td>\n",
       "      <td>-1.241950</td>\n",
       "    </tr>\n",
       "    <tr>\n",
       "      <th>4</th>\n",
       "      <td>5</td>\n",
       "      <td>5.1</td>\n",
       "      <td>3.8</td>\n",
       "      <td>1.6</td>\n",
       "      <td>0.2</td>\n",
       "      <td>0</td>\n",
       "      <td>-0.801319</td>\n",
       "      <td>1.436026</td>\n",
       "      <td>-1.212374</td>\n",
       "      <td>-1.373178</td>\n",
       "    </tr>\n",
       "    <tr>\n",
       "      <th>5</th>\n",
       "      <td>6</td>\n",
       "      <td>5.0</td>\n",
       "      <td>3.2</td>\n",
       "      <td>1.2</td>\n",
       "      <td>0.2</td>\n",
       "      <td>0</td>\n",
       "      <td>-0.912457</td>\n",
       "      <td>0.310599</td>\n",
       "      <td>-1.435029</td>\n",
       "      <td>-1.373178</td>\n",
       "    </tr>\n",
       "    <tr>\n",
       "      <th>...</th>\n",
       "      <td>...</td>\n",
       "      <td>...</td>\n",
       "      <td>...</td>\n",
       "      <td>...</td>\n",
       "      <td>...</td>\n",
       "      <td>...</td>\n",
       "      <td>...</td>\n",
       "      <td>...</td>\n",
       "      <td>...</td>\n",
       "      <td>...</td>\n",
       "    </tr>\n",
       "    <tr>\n",
       "      <th>320</th>\n",
       "      <td>321</td>\n",
       "      <td>6.2</td>\n",
       "      <td>3.4</td>\n",
       "      <td>5.4</td>\n",
       "      <td>2.3</td>\n",
       "      <td>2</td>\n",
       "      <td>0.421208</td>\n",
       "      <td>0.685741</td>\n",
       "      <td>0.902847</td>\n",
       "      <td>1.382623</td>\n",
       "    </tr>\n",
       "    <tr>\n",
       "      <th>321</th>\n",
       "      <td>322</td>\n",
       "      <td>6.8</td>\n",
       "      <td>2.6</td>\n",
       "      <td>6.8</td>\n",
       "      <td>2.4</td>\n",
       "      <td>2</td>\n",
       "      <td>1.088041</td>\n",
       "      <td>-0.814827</td>\n",
       "      <td>1.682140</td>\n",
       "      <td>1.513851</td>\n",
       "    </tr>\n",
       "    <tr>\n",
       "      <th>322</th>\n",
       "      <td>323</td>\n",
       "      <td>6.0</td>\n",
       "      <td>2.2</td>\n",
       "      <td>5.0</td>\n",
       "      <td>1.5</td>\n",
       "      <td>2</td>\n",
       "      <td>0.198931</td>\n",
       "      <td>-1.565111</td>\n",
       "      <td>0.680193</td>\n",
       "      <td>0.332794</td>\n",
       "    </tr>\n",
       "    <tr>\n",
       "      <th>324</th>\n",
       "      <td>325</td>\n",
       "      <td>6.4</td>\n",
       "      <td>3.1</td>\n",
       "      <td>5.5</td>\n",
       "      <td>1.8</td>\n",
       "      <td>2</td>\n",
       "      <td>0.643486</td>\n",
       "      <td>0.123028</td>\n",
       "      <td>0.958511</td>\n",
       "      <td>0.726480</td>\n",
       "    </tr>\n",
       "    <tr>\n",
       "      <th>325</th>\n",
       "      <td>326</td>\n",
       "      <td>5.8</td>\n",
       "      <td>2.8</td>\n",
       "      <td>5.1</td>\n",
       "      <td>2.4</td>\n",
       "      <td>2</td>\n",
       "      <td>-0.023347</td>\n",
       "      <td>-0.439685</td>\n",
       "      <td>0.735856</td>\n",
       "      <td>1.513851</td>\n",
       "    </tr>\n",
       "  </tbody>\n",
       "</table>\n",
       "<p>305 rows × 10 columns</p>\n",
       "</div>"
      ],
      "text/plain": [
       "      ID  sepal_length  sepal_width  petal_length  petal_width  species  \\\n",
       "1      2           4.8          3.4           1.6          0.2        0   \n",
       "2      3           5.0          3.0           1.8          0.4        0   \n",
       "3      4           4.8          3.0           1.4          0.3        0   \n",
       "4      5           5.1          3.8           1.6          0.2        0   \n",
       "5      6           5.0          3.2           1.2          0.2        0   \n",
       "..   ...           ...          ...           ...          ...      ...   \n",
       "320  321           6.2          3.4           5.4          2.3        2   \n",
       "321  322           6.8          2.6           6.8          2.4        2   \n",
       "322  323           6.0          2.2           5.0          1.5        2   \n",
       "324  325           6.4          3.1           5.5          1.8        2   \n",
       "325  326           5.8          2.8           5.1          2.4        2   \n",
       "\n",
       "     sepal_length_z  sepal_width_z  petal_length_z  petal_width_z  \n",
       "1         -1.134735       0.685741       -1.212374      -1.373178  \n",
       "2         -0.912457      -0.064543       -1.101047      -1.110721  \n",
       "3         -1.134735      -0.064543       -1.323702      -1.241950  \n",
       "4         -0.801319       1.436026       -1.212374      -1.373178  \n",
       "5         -0.912457       0.310599       -1.435029      -1.373178  \n",
       "..              ...            ...             ...            ...  \n",
       "320        0.421208       0.685741        0.902847       1.382623  \n",
       "321        1.088041      -0.814827        1.682140       1.513851  \n",
       "322        0.198931      -1.565111        0.680193       0.332794  \n",
       "324        0.643486       0.123028        0.958511       0.726480  \n",
       "325       -0.023347      -0.439685        0.735856       1.513851  \n",
       "\n",
       "[305 rows x 10 columns]"
      ]
     },
     "execution_count": 20,
     "metadata": {},
     "output_type": "execute_result"
    }
   ],
   "source": [
    "# -- Remove duplicate records and keep the first one --\n",
    "plants.drop_duplicates(inplace=True)\n",
    "plants"
   ]
  },
  {
   "cell_type": "markdown",
   "metadata": {},
   "source": [
    "### To increase readability of visualizations, you may want to add species names to the dataset.\n",
    "\n",
    "### The data set has lebels for the three species\n",
    "* 0: setosa\n",
    "* 1: versicolor\n",
    "* 2: virginica"
   ]
  },
  {
   "cell_type": "code",
   "execution_count": 21,
   "metadata": {},
   "outputs": [
    {
     "data": {
      "text/html": [
       "<div>\n",
       "<style scoped>\n",
       "    .dataframe tbody tr th:only-of-type {\n",
       "        vertical-align: middle;\n",
       "    }\n",
       "\n",
       "    .dataframe tbody tr th {\n",
       "        vertical-align: top;\n",
       "    }\n",
       "\n",
       "    .dataframe thead th {\n",
       "        text-align: right;\n",
       "    }\n",
       "</style>\n",
       "<table border=\"1\" class=\"dataframe\">\n",
       "  <thead>\n",
       "    <tr style=\"text-align: right;\">\n",
       "      <th></th>\n",
       "      <th>ID</th>\n",
       "      <th>sepal_length</th>\n",
       "      <th>sepal_width</th>\n",
       "      <th>petal_length</th>\n",
       "      <th>petal_width</th>\n",
       "      <th>species</th>\n",
       "      <th>sepal_length_z</th>\n",
       "      <th>sepal_width_z</th>\n",
       "      <th>petal_length_z</th>\n",
       "      <th>petal_width_z</th>\n",
       "    </tr>\n",
       "  </thead>\n",
       "  <tbody>\n",
       "    <tr>\n",
       "      <th>1</th>\n",
       "      <td>2</td>\n",
       "      <td>4.8</td>\n",
       "      <td>3.4</td>\n",
       "      <td>1.6</td>\n",
       "      <td>0.2</td>\n",
       "      <td>setosa</td>\n",
       "      <td>-1.134735</td>\n",
       "      <td>0.685741</td>\n",
       "      <td>-1.212374</td>\n",
       "      <td>-1.373178</td>\n",
       "    </tr>\n",
       "    <tr>\n",
       "      <th>2</th>\n",
       "      <td>3</td>\n",
       "      <td>5.0</td>\n",
       "      <td>3.0</td>\n",
       "      <td>1.8</td>\n",
       "      <td>0.4</td>\n",
       "      <td>setosa</td>\n",
       "      <td>-0.912457</td>\n",
       "      <td>-0.064543</td>\n",
       "      <td>-1.101047</td>\n",
       "      <td>-1.110721</td>\n",
       "    </tr>\n",
       "    <tr>\n",
       "      <th>3</th>\n",
       "      <td>4</td>\n",
       "      <td>4.8</td>\n",
       "      <td>3.0</td>\n",
       "      <td>1.4</td>\n",
       "      <td>0.3</td>\n",
       "      <td>setosa</td>\n",
       "      <td>-1.134735</td>\n",
       "      <td>-0.064543</td>\n",
       "      <td>-1.323702</td>\n",
       "      <td>-1.241950</td>\n",
       "    </tr>\n",
       "    <tr>\n",
       "      <th>4</th>\n",
       "      <td>5</td>\n",
       "      <td>5.1</td>\n",
       "      <td>3.8</td>\n",
       "      <td>1.6</td>\n",
       "      <td>0.2</td>\n",
       "      <td>setosa</td>\n",
       "      <td>-0.801319</td>\n",
       "      <td>1.436026</td>\n",
       "      <td>-1.212374</td>\n",
       "      <td>-1.373178</td>\n",
       "    </tr>\n",
       "    <tr>\n",
       "      <th>5</th>\n",
       "      <td>6</td>\n",
       "      <td>5.0</td>\n",
       "      <td>3.2</td>\n",
       "      <td>1.2</td>\n",
       "      <td>0.2</td>\n",
       "      <td>setosa</td>\n",
       "      <td>-0.912457</td>\n",
       "      <td>0.310599</td>\n",
       "      <td>-1.435029</td>\n",
       "      <td>-1.373178</td>\n",
       "    </tr>\n",
       "    <tr>\n",
       "      <th>...</th>\n",
       "      <td>...</td>\n",
       "      <td>...</td>\n",
       "      <td>...</td>\n",
       "      <td>...</td>\n",
       "      <td>...</td>\n",
       "      <td>...</td>\n",
       "      <td>...</td>\n",
       "      <td>...</td>\n",
       "      <td>...</td>\n",
       "      <td>...</td>\n",
       "    </tr>\n",
       "    <tr>\n",
       "      <th>320</th>\n",
       "      <td>321</td>\n",
       "      <td>6.2</td>\n",
       "      <td>3.4</td>\n",
       "      <td>5.4</td>\n",
       "      <td>2.3</td>\n",
       "      <td>virginica</td>\n",
       "      <td>0.421208</td>\n",
       "      <td>0.685741</td>\n",
       "      <td>0.902847</td>\n",
       "      <td>1.382623</td>\n",
       "    </tr>\n",
       "    <tr>\n",
       "      <th>321</th>\n",
       "      <td>322</td>\n",
       "      <td>6.8</td>\n",
       "      <td>2.6</td>\n",
       "      <td>6.8</td>\n",
       "      <td>2.4</td>\n",
       "      <td>virginica</td>\n",
       "      <td>1.088041</td>\n",
       "      <td>-0.814827</td>\n",
       "      <td>1.682140</td>\n",
       "      <td>1.513851</td>\n",
       "    </tr>\n",
       "    <tr>\n",
       "      <th>322</th>\n",
       "      <td>323</td>\n",
       "      <td>6.0</td>\n",
       "      <td>2.2</td>\n",
       "      <td>5.0</td>\n",
       "      <td>1.5</td>\n",
       "      <td>virginica</td>\n",
       "      <td>0.198931</td>\n",
       "      <td>-1.565111</td>\n",
       "      <td>0.680193</td>\n",
       "      <td>0.332794</td>\n",
       "    </tr>\n",
       "    <tr>\n",
       "      <th>324</th>\n",
       "      <td>325</td>\n",
       "      <td>6.4</td>\n",
       "      <td>3.1</td>\n",
       "      <td>5.5</td>\n",
       "      <td>1.8</td>\n",
       "      <td>virginica</td>\n",
       "      <td>0.643486</td>\n",
       "      <td>0.123028</td>\n",
       "      <td>0.958511</td>\n",
       "      <td>0.726480</td>\n",
       "    </tr>\n",
       "    <tr>\n",
       "      <th>325</th>\n",
       "      <td>326</td>\n",
       "      <td>5.8</td>\n",
       "      <td>2.8</td>\n",
       "      <td>5.1</td>\n",
       "      <td>2.4</td>\n",
       "      <td>virginica</td>\n",
       "      <td>-0.023347</td>\n",
       "      <td>-0.439685</td>\n",
       "      <td>0.735856</td>\n",
       "      <td>1.513851</td>\n",
       "    </tr>\n",
       "  </tbody>\n",
       "</table>\n",
       "<p>305 rows × 10 columns</p>\n",
       "</div>"
      ],
      "text/plain": [
       "      ID  sepal_length  sepal_width  petal_length  petal_width    species  \\\n",
       "1      2           4.8          3.4           1.6          0.2     setosa   \n",
       "2      3           5.0          3.0           1.8          0.4     setosa   \n",
       "3      4           4.8          3.0           1.4          0.3     setosa   \n",
       "4      5           5.1          3.8           1.6          0.2     setosa   \n",
       "5      6           5.0          3.2           1.2          0.2     setosa   \n",
       "..   ...           ...          ...           ...          ...        ...   \n",
       "320  321           6.2          3.4           5.4          2.3  virginica   \n",
       "321  322           6.8          2.6           6.8          2.4  virginica   \n",
       "322  323           6.0          2.2           5.0          1.5  virginica   \n",
       "324  325           6.4          3.1           5.5          1.8  virginica   \n",
       "325  326           5.8          2.8           5.1          2.4  virginica   \n",
       "\n",
       "     sepal_length_z  sepal_width_z  petal_length_z  petal_width_z  \n",
       "1         -1.134735       0.685741       -1.212374      -1.373178  \n",
       "2         -0.912457      -0.064543       -1.101047      -1.110721  \n",
       "3         -1.134735      -0.064543       -1.323702      -1.241950  \n",
       "4         -0.801319       1.436026       -1.212374      -1.373178  \n",
       "5         -0.912457       0.310599       -1.435029      -1.373178  \n",
       "..              ...            ...             ...            ...  \n",
       "320        0.421208       0.685741        0.902847       1.382623  \n",
       "321        1.088041      -0.814827        1.682140       1.513851  \n",
       "322        0.198931      -1.565111        0.680193       0.332794  \n",
       "324        0.643486       0.123028        0.958511       0.726480  \n",
       "325       -0.023347      -0.439685        0.735856       1.513851  \n",
       "\n",
       "[305 rows x 10 columns]"
      ]
     },
     "execution_count": 21,
     "metadata": {},
     "output_type": "execute_result"
    }
   ],
   "source": [
    "# Adding species names to the dataset (replacing 0,1,2 with species names)\n",
    "plants['species'] = plants['species'].replace([0,1,2],['setosa', 'versicolor', 'virginica'])\n",
    "plants"
   ]
  },
  {
   "cell_type": "markdown",
   "metadata": {},
   "source": [
    "## Explore the dataset"
   ]
  },
  {
   "cell_type": "markdown",
   "metadata": {},
   "source": [
    "### Histograms of each variable"
   ]
  },
  {
   "cell_type": "code",
   "execution_count": 22,
   "metadata": {},
   "outputs": [
    {
     "data": {
      "text/plain": [
       "Text(0.5, 1.0, 'Histogram Using Sepal_Length')"
      ]
     },
     "execution_count": 22,
     "metadata": {},
     "output_type": "execute_result"
    }
   ],
   "source": [
    "# Creating histogram with sepal_length variables\n",
    "plants['sepal_length'].plot.hist()\n",
    "plt.grid()\n",
    "plt.xlabel('Sepal Length')\n",
    "plt.ylabel('Count')\n",
    "plt.title('Histogram Using Sepal_Length')"
   ]
  },
  {
   "cell_type": "code",
   "execution_count": 23,
   "metadata": {},
   "outputs": [
    {
     "data": {
      "text/plain": [
       "Text(0.5, 1.0, 'Histogram Using Sepal_Width')"
      ]
     },
     "execution_count": 23,
     "metadata": {},
     "output_type": "execute_result"
    }
   ],
   "source": [
    "# Creating histogram with sepal_length variables\n",
    "plants['sepal_width'].plot.hist()\n",
    "plt.grid()\n",
    "plt.xlabel('Sepal Width')\n",
    "plt.ylabel('Count')\n",
    "plt.title('Histogram Using Sepal_Width')"
   ]
  },
  {
   "cell_type": "code",
   "execution_count": 24,
   "metadata": {},
   "outputs": [
    {
     "data": {
      "text/plain": [
       "Text(0.5, 1.0, 'Histogram Using Petal_Length')"
      ]
     },
     "execution_count": 24,
     "metadata": {},
     "output_type": "execute_result"
    }
   ],
   "source": [
    "# Creating histogram with petal_length and petal_width variables\n",
    "plants['petal_length'].plot.hist()\n",
    "plt.grid()\n",
    "plt.xlabel('Petal Length')\n",
    "plt.ylabel('Count')\n",
    "plt.title('Histogram Using Petal_Length')"
   ]
  },
  {
   "cell_type": "code",
   "execution_count": 25,
   "metadata": {},
   "outputs": [
    {
     "data": {
      "text/plain": [
       "Text(0.5, 1.0, 'Histogram Using Petal_Length')"
      ]
     },
     "execution_count": 25,
     "metadata": {},
     "output_type": "execute_result"
    }
   ],
   "source": [
    "# Creating histogram with petal_length and petal_width variables\n",
    "plants['petal_length'].plot.hist()\n",
    "plt.grid()\n",
    "plt.xlabel('Petal Length')\n",
    "plt.ylabel('Count')\n",
    "plt.title('Histogram Using Petal_Length')"
   ]
  },
  {
   "cell_type": "markdown",
   "metadata": {},
   "source": [
    "### Correlation chart"
   ]
  },
  {
   "cell_type": "code",
   "execution_count": 26,
   "metadata": {},
   "outputs": [
    {
     "data": {
      "text/plain": [
       "Text(0.5, 1.0, 'Correlation Chart')"
      ]
     },
     "execution_count": 26,
     "metadata": {},
     "output_type": "execute_result"
    }
   ],
   "source": [
    "# Creating correlation chart \n",
    "plants = pd.DataFrame(plants,columns=['ID', 'sepal_length', 'sepal_width', 'petal_length', 'petal_width', 'species'])\n",
    "\n",
    "corrMatrix = plants.corr()\n",
    "sns.heatmap(corrMatrix, annot=True)\n",
    "plt.title('Correlation Chart')"
   ]
  },
  {
   "cell_type": "markdown",
   "metadata": {},
   "source": [
    "## Clustering"
   ]
  },
  {
   "cell_type": "markdown",
   "metadata": {},
   "source": [
    "### For clustering, we choose to analyze sepal_length and sepal_width. We wanted to do this because we thought the correlation between the two was more similar than petal_length and petal_width. We were looking to get a closer analysis to see the exact relationship both of these variables had with eachother for clustering and classficiation analytics."
   ]
  },
  {
   "cell_type": "code",
   "execution_count": 27,
   "metadata": {},
   "outputs": [
    {
     "data": {
      "text/plain": [
       "Text(0.5, 1.0, 'Correlation Between Sepal Length & Sepal Width')"
      ]
     },
     "execution_count": 27,
     "metadata": {},
     "output_type": "execute_result"
    },
    {
     "data": {
      "image/png": "[encoded data removed]",
      "text/plain": [
       "<Figure size 1080x720 with 1 Axes>"
      ]
     },
     "metadata": {
      "needs_background": "light"
     },
     "output_type": "display_data"
    }
   ],
   "source": [
    "# -- Plot the distribution (Scatter plot) --\n",
    "%matplotlib inline\n",
    "\n",
    "plt.figure(figsize=(15,10))\n",
    "sns.scatterplot(x=plants['sepal_length'],\n",
    "                y=plants['sepal_width'])\n",
    "plt.title('Correlation Between Sepal Length & Sepal Width')"
   ]
  },
  {
   "cell_type": "markdown",
   "metadata": {},
   "source": [
    "### Standardize Data"
   ]
  },
  {
   "cell_type": "code",
   "execution_count": 28,
   "metadata": {},
   "outputs": [],
   "source": [
    "# -- Using Sklearn --\n",
    "from sklearn.preprocessing import StandardScaler\n",
    "scaler = StandardScaler()\n",
    "plants[['sepal_length','sepal_width']] = scaler.fit_transform(plants[['sepal_length','sepal_width']].to_numpy())\n"
   ]
  },
  {
   "cell_type": "code",
   "execution_count": 29,
   "metadata": {},
   "outputs": [
    {
     "data": {
      "text/plain": [
       "array([[-1.13473508,  0.68574139],\n",
       "       [-0.91245743, -0.06454274],\n",
       "       [-1.13473508, -0.06454274],\n",
       "       [-0.8013186 ,  1.43602552],\n",
       "       [-0.91245743,  0.31059933],\n",
       "       [-0.69017978,  1.81116758],\n",
       "       [-0.46790212,  1.62359655],\n",
       "       [-0.69017978,  0.87331242],\n",
       "       [-0.91245743,  1.06088345],\n",
       "       [-0.46790212, -0.25211377],\n",
       "       [-0.91245743,  0.49817036],\n",
       "       [-0.46790212,  1.99873861],\n",
       "       [-0.46790212,  1.24845448],\n",
       "       [-0.3567633 , -0.25211377],\n",
       "       [-0.8013186 ,  1.43602552],\n",
       "       [-0.91245743, -0.06454274],\n",
       "       [-1.02359626, -1.37753996],\n",
       "       [-0.57904095, -0.62725583],\n",
       "       [-0.46790212,  0.68574139],\n",
       "       [-0.24562447,  0.49817036],\n",
       "       [-0.91245743,  0.68574139],\n",
       "       [-0.91245743,  0.87331242],\n",
       "       [-0.3567633 ,  2.18630964],\n",
       "       [-0.02334682,  1.43602552],\n",
       "       [-1.46815156, -1.37753996],\n",
       "       [-0.57904095,  0.68574139],\n",
       "       [-1.02359626,  0.12302829],\n",
       "       [-0.02334682,  0.87331242],\n",
       "       [-0.91245743,  0.68574139],\n",
       "       [-1.35701274,  0.68574139],\n",
       "       [-0.8013186 , -0.06454274],\n",
       "       [-1.13473508,  0.12302829],\n",
       "       [-1.35701274,  0.31059933],\n",
       "       [-0.8013186 ,  1.24845448],\n",
       "       [-1.35701274,  0.12302829],\n",
       "       [-1.69042921, -0.06454274],\n",
       "       [-0.02334682,  1.81116758],\n",
       "       [-0.46790212, -0.62725583],\n",
       "       [-0.02334682,  0.87331242],\n",
       "       [-0.13448565,  2.56145171],\n",
       "       [-1.02359626,  0.12302829],\n",
       "       [-0.91245743,  0.87331242],\n",
       "       [-0.8013186 ,  1.62359655],\n",
       "       [-0.8013186 ,  0.87331242],\n",
       "       [-0.69017978,  0.68574139],\n",
       "       [-1.24587391,  0.12302829],\n",
       "       [-0.24562447,  1.06088345],\n",
       "       [-1.57929039, -0.06454274],\n",
       "       [-1.02359626,  0.12302829],\n",
       "       [-1.24587391, -0.62725583],\n",
       "       [-1.35701274,  0.68574139],\n",
       "       [-1.35701274,  0.31059933],\n",
       "       [-0.91245743,  0.68574139],\n",
       "       [-0.24562447,  1.62359655],\n",
       "       [-0.3567633 ,  0.87331242],\n",
       "       [-1.69042921, -1.37753996],\n",
       "       [-1.57929039,  1.62359655],\n",
       "       [-1.13473508,  0.68574139],\n",
       "       [-0.46790212,  0.31059933],\n",
       "       [-1.13473508, -1.18996893],\n",
       "       [-1.57929039,  0.87331242],\n",
       "       [-1.24587391, -0.25211377],\n",
       "       [-0.69017978, -0.06454274],\n",
       "       [-1.57929039,  0.31059933],\n",
       "       [-1.24587391,  0.31059933],\n",
       "       [-1.02359626, -0.06454274],\n",
       "       [-0.8013186 ,  1.43602552],\n",
       "       [-0.02334682,  2.56145171],\n",
       "       [-1.24587391,  0.87331242],\n",
       "       [-0.46790212,  2.18630964],\n",
       "       [-0.02334682, -0.81482687],\n",
       "       [-1.57929039,  1.24845448],\n",
       "       [-0.8013186 ,  0.68574139],\n",
       "       [-0.69017978,  1.43602552],\n",
       "       [-1.24587391,  0.12302829],\n",
       "       [-1.24587391,  0.31059933],\n",
       "       [-0.3567633 ,  1.62359655],\n",
       "       [-0.46790212,  2.18630964],\n",
       "       [-1.57929039, -1.18996893],\n",
       "       [-1.46815156, -0.4396848 ],\n",
       "       [-0.91245743,  2.56145171],\n",
       "       [-0.13448565,  1.43602552],\n",
       "       [-0.69017978,  1.99873861],\n",
       "       [-1.02359626,  0.12302829],\n",
       "       [-1.13473508, -0.06454274],\n",
       "       [-1.24587391,  0.12302829],\n",
       "       [-0.8013186 ,  0.49817036],\n",
       "       [-1.35701274,  1.06088345],\n",
       "       [-0.8013186 ,  0.87331242],\n",
       "       [-0.13448565,  0.31059933],\n",
       "       [-1.13473508,  0.12302829],\n",
       "       [-1.46815156,  1.99873861],\n",
       "       [-0.57904095,  1.24845448],\n",
       "       [-1.02359626,  2.56145171],\n",
       "       [-0.57904095, -0.06454274],\n",
       "       [-0.46790212,  1.62359655],\n",
       "       [-0.46790212,  0.68574139],\n",
       "       [-1.13473508,  3.7256078 ],\n",
       "       [-1.57929039, -0.25211377],\n",
       "       [-0.69017978,  0.87331242],\n",
       "       [ 1.19918027, -1.56511099],\n",
       "       [-0.3567633 , -1.75268202],\n",
       "       [-0.69017978, -1.37753996],\n",
       "       [ 0.75462497, -1.0023979 ],\n",
       "       [-0.8013186 , -1.18996893],\n",
       "       [-0.91245743, -1.94025306],\n",
       "       [ 3.4219568 , -0.81482687],\n",
       "       [-0.3567633 , -1.37753996],\n",
       "       [ 0.08779201, -0.62725583],\n",
       "       [-0.13448565, -1.0023979 ],\n",
       "       [-0.24562447, -0.06454274],\n",
       "       [ 0.19893083, -1.37753996],\n",
       "       [ 1.08804145, -1.18996893],\n",
       "       [ 0.53234731, -1.0023979 ],\n",
       "       [ 0.53234731, -0.4396848 ],\n",
       "       [ 0.86576379,  0.12302829],\n",
       "       [-0.24562447,  0.12302829],\n",
       "       [-0.13448565, -0.81482687],\n",
       "       [-0.13448565, -0.25211377],\n",
       "       [-0.02334682, -0.4396848 ],\n",
       "       [ 0.97690262,  0.12302829],\n",
       "       [ 0.53234731, -1.37753996],\n",
       "       [ 0.19893083,  0.49817036],\n",
       "       [ 0.31006966, -0.25211377],\n",
       "       [-0.91245743,  0.49817036],\n",
       "       [ 0.42120849, -1.75268202],\n",
       "       [ 1.08804145, -0.4396848 ],\n",
       "       [ 0.42120849, -1.94025306],\n",
       "       [ 0.31006966, -0.25211377],\n",
       "       [-0.8013186 ,  0.68574139],\n",
       "       [-0.69017978, -0.62725583],\n",
       "       [ 0.97690262, -1.75268202],\n",
       "       [ 0.08779201, -0.06454274],\n",
       "       [-0.02334682, -0.62725583],\n",
       "       [ 0.19893083, -1.18996893],\n",
       "       [-0.3567633 , -1.18996893],\n",
       "       [ 0.42120849, -0.25211377],\n",
       "       [ 0.64348614, -0.25211377],\n",
       "       [-0.24562447, -0.62725583],\n",
       "       [ 0.97690262, -0.06454274],\n",
       "       [-0.02334682, -0.81482687],\n",
       "       [-0.24562447, -1.94025306],\n",
       "       [ 0.08779201, -0.25211377],\n",
       "       [ 3.50531444, -0.25211377],\n",
       "       [ 1.19918027, -1.75268202],\n",
       "       [-0.13448565, -0.62725583],\n",
       "       [-0.69017978, -1.18996893],\n",
       "       [-0.3567633 , -1.0023979 ],\n",
       "       [ 0.42120849, -1.56511099],\n",
       "       [-0.46790212, -0.06454274],\n",
       "       [-0.24562447, -0.25211377],\n",
       "       [-0.8013186 , -1.0023979 ],\n",
       "       [ 0.97690262,  0.12302829],\n",
       "       [-0.3567633 , -0.4396848 ],\n",
       "       [-0.13448565, -0.4396848 ],\n",
       "       [ 0.19893083, -1.94025306],\n",
       "       [ 0.31006966, -0.4396848 ],\n",
       "       [-0.24562447, -0.06454274],\n",
       "       [ 0.19893083, -0.25211377],\n",
       "       [-0.3567633 , -0.81482687],\n",
       "       [-0.46790212, -1.0023979 ],\n",
       "       [-0.91245743, -0.25211377],\n",
       "       [-0.91245743, -1.37753996],\n",
       "       [-0.02334682,  0.49817036],\n",
       "       [-1.02359626, -0.62725583],\n",
       "       [-0.3567633 , -1.18996893],\n",
       "       [ 0.75462497, -0.4396848 ],\n",
       "       [ 0.75462497, -1.75268202],\n",
       "       [ 0.64348614,  0.31059933],\n",
       "       [-0.13448565, -0.06454274],\n",
       "       [-0.3567633 ,  0.12302829],\n",
       "       [ 0.19893083, -1.56511099],\n",
       "       [ 0.86576379, -0.06454274],\n",
       "       [-0.13448565, -0.4396848 ],\n",
       "       [ 0.53234731,  0.49817036],\n",
       "       [ 0.64348614, -1.75268202],\n",
       "       [-0.57904095,  0.68574139],\n",
       "       [ 1.19918027,  0.12302829],\n",
       "       [ 0.31006966, -0.4396848 ],\n",
       "       [-0.57904095, -1.94025306],\n",
       "       [ 0.75462497, -1.0023979 ],\n",
       "       [-1.02359626, -0.06454274],\n",
       "       [ 0.75462497,  0.49817036],\n",
       "       [-0.24562447, -1.0023979 ],\n",
       "       [-0.69017978, -0.62725583],\n",
       "       [ 0.31006966, -1.37753996],\n",
       "       [-0.91245743, -0.4396848 ],\n",
       "       [ 0.86576379, -0.25211377],\n",
       "       [ 0.42120849, -1.56511099],\n",
       "       [ 0.19893083,  0.68574139],\n",
       "       [-0.46790212, -0.25211377],\n",
       "       [-0.02334682, -0.25211377],\n",
       "       [ 0.31006966, -0.06454274],\n",
       "       [-0.8013186 , -0.62725583],\n",
       "       [-0.02334682, -1.0023979 ],\n",
       "       [ 0.75462497, -0.4396848 ],\n",
       "       [ 0.08779201,  0.31059933],\n",
       "       [-0.3567633 , -0.81482687],\n",
       "       [-0.8013186 , -1.18996893],\n",
       "       [-0.91245743,  0.49817036],\n",
       "       [ 1.3103191 ,  0.31059933],\n",
       "       [-0.69017978,  0.49817036],\n",
       "       [ 1.3103191 ,  3.63872483],\n",
       "       [ 0.19893083, -0.62725583],\n",
       "       [-0.91245743,  1.24845448],\n",
       "       [-0.02334682, -0.62725583],\n",
       "       [ 0.19893083,  0.49817036],\n",
       "       [ 2.08829088, -0.4396848 ],\n",
       "       [-1.02359626,  0.49817036],\n",
       "       [-1.02359626, -1.0023979 ],\n",
       "       [ 1.3103191 ,  0.68574139],\n",
       "       [ 1.19918027, -1.37753996],\n",
       "       [ 1.42145792, -1.18996893],\n",
       "       [ 0.19893083, -0.06454274],\n",
       "       [ 0.86576379, -0.62725583],\n",
       "       [ 0.75462497,  0.31059933],\n",
       "       [-0.69017978,  0.87331242],\n",
       "       [ 0.97690262,  0.49817036],\n",
       "       [ 0.75462497, -0.25211377],\n",
       "       [-0.24562447,  0.68574139],\n",
       "       [ 0.97690262,  0.12302829],\n",
       "       [ 0.53234731, -0.62725583],\n",
       "       [ 2.08829088, -0.06454274],\n",
       "       [-0.91245743, -0.25211377],\n",
       "       [ 1.53259675, -0.81482687],\n",
       "       [ 0.42120849, -1.37753996],\n",
       "       [ 1.64373558, -0.06454274],\n",
       "       [ 0.19893083, -1.37753996],\n",
       "       [ 1.53259675, -0.25211377],\n",
       "       [ 1.7548744 , -1.18996893],\n",
       "       [ 0.75462497, -0.06454274],\n",
       "       [-0.02334682, -0.25211377],\n",
       "       [ 1.64373558, -0.4396848 ],\n",
       "       [ 0.64348614, -0.4396848 ],\n",
       "       [ 1.08804145,  0.68574139],\n",
       "       [ 0.08779201, -0.06454274],\n",
       "       [ 1.08804145,  1.06088345],\n",
       "       [ 0.75462497, -0.06454274],\n",
       "       [ 0.64348614,  0.31059933],\n",
       "       [-0.57904095, -0.06454274],\n",
       "       [ 0.31006966, -0.06454274],\n",
       "       [-0.91245743, -0.4396848 ],\n",
       "       [ 1.97715206,  0.49817036],\n",
       "       [ 2.31056854,  1.43602552],\n",
       "       [-0.02334682,  1.06088345],\n",
       "       [ 3.70769171,  0.49817036],\n",
       "       [ 0.42120849, -0.4396848 ],\n",
       "       [-0.69017978, -0.06454274],\n",
       "       [ 0.53234731, -0.4396848 ],\n",
       "       [-1.02359626, -1.56511099],\n",
       "       [-0.57904095, -1.37753996],\n",
       "       [ 0.97690262,  1.06088345],\n",
       "       [ 1.42145792,  0.87331242],\n",
       "       [ 0.53234731, -0.25211377],\n",
       "       [ 1.64373558, -0.25211377],\n",
       "       [ 1.08804145, -0.06454274],\n",
       "       [ 1.53259675,  0.31059933],\n",
       "       [ 1.7548744 ,  1.06088345],\n",
       "       [ 0.64348614, -0.62725583],\n",
       "       [ 0.75462497, -0.06454274],\n",
       "       [ 1.42145792, -0.06454274],\n",
       "       [ 1.19918027,  0.12302829],\n",
       "       [ 0.86576379,  0.49817036],\n",
       "       [ 2.08829088,  1.06088345],\n",
       "       [ 3.50531444,  1.43602552],\n",
       "       [-0.57904095,  1.24845448],\n",
       "       [-0.69017978, -0.81482687],\n",
       "       [ 0.53234731,  0.49817036],\n",
       "       [-0.24562447, -0.81482687],\n",
       "       [ 0.64348614, -0.62725583],\n",
       "       [-0.8013186 , -1.18996893],\n",
       "       [ 1.97715206, -1.0023979 ],\n",
       "       [ 0.97690262, -0.06454274],\n",
       "       [-0.02334682, -1.37753996],\n",
       "       [ 0.53234731,  0.68574139],\n",
       "       [ 1.7548744 , -0.4396848 ],\n",
       "       [ 0.97690262, -0.62725583],\n",
       "       [ 1.53259675, -0.06454274],\n",
       "       [ 1.19918027, -0.81482687],\n",
       "       [-0.24562447,  0.31059933],\n",
       "       [-0.3567633 , -0.25211377],\n",
       "       [ 0.97690262, -1.0023979 ],\n",
       "       [ 2.08829088, -0.81482687],\n",
       "       [ 0.64348614, -0.4396848 ],\n",
       "       [-0.57904095, -0.25211377],\n",
       "       [ 0.97690262,  0.49817036],\n",
       "       [ 0.53234731, -1.0023979 ],\n",
       "       [ 2.31056854,  1.43602552],\n",
       "       [-0.13448565, -1.18996893],\n",
       "       [ 1.19918027,  0.31059933],\n",
       "       [ 2.08829088,  0.31059933],\n",
       "       [ 1.86601323, -1.18996893],\n",
       "       [ 1.08804145,  0.31059933],\n",
       "       [ 0.75462497,  1.06088345],\n",
       "       [ 0.31006966, -0.81482687],\n",
       "       [-0.46790212,  1.43602552],\n",
       "       [ 1.19918027,  0.12302829],\n",
       "       [ 1.53259675,  1.06088345],\n",
       "       [-0.57904095,  1.24845448],\n",
       "       [ 0.97690262, -1.18996893],\n",
       "       [ 0.42120849,  0.68574139],\n",
       "       [ 1.08804145, -0.81482687],\n",
       "       [ 0.19893083, -1.56511099],\n",
       "       [ 0.64348614,  0.12302829],\n",
       "       [-0.02334682, -0.4396848 ]])"
      ]
     },
     "execution_count": 29,
     "metadata": {},
     "output_type": "execute_result"
    }
   ],
   "source": [
    "# -- Scaling --\n",
    "import scipy.stats as stats\n",
    "\n",
    "z_score = stats.zscore(plants[['sepal_length','sepal_width']])\n",
    "z_score"
   ]
  },
  {
   "cell_type": "code",
   "execution_count": 30,
   "metadata": {},
   "outputs": [
    {
     "data": {
      "text/html": [
       "<div>\n",
       "<style scoped>\n",
       "    .dataframe tbody tr th:only-of-type {\n",
       "        vertical-align: middle;\n",
       "    }\n",
       "\n",
       "    .dataframe tbody tr th {\n",
       "        vertical-align: top;\n",
       "    }\n",
       "\n",
       "    .dataframe thead th {\n",
       "        text-align: right;\n",
       "    }\n",
       "</style>\n",
       "<table border=\"1\" class=\"dataframe\">\n",
       "  <thead>\n",
       "    <tr style=\"text-align: right;\">\n",
       "      <th></th>\n",
       "      <th>sepal_length_z</th>\n",
       "      <th>sepal_width_z</th>\n",
       "    </tr>\n",
       "  </thead>\n",
       "  <tbody>\n",
       "    <tr>\n",
       "      <th>0</th>\n",
       "      <td>-1.134735</td>\n",
       "      <td>0.685741</td>\n",
       "    </tr>\n",
       "    <tr>\n",
       "      <th>1</th>\n",
       "      <td>-0.912457</td>\n",
       "      <td>-0.064543</td>\n",
       "    </tr>\n",
       "    <tr>\n",
       "      <th>2</th>\n",
       "      <td>-1.134735</td>\n",
       "      <td>-0.064543</td>\n",
       "    </tr>\n",
       "    <tr>\n",
       "      <th>3</th>\n",
       "      <td>-0.801319</td>\n",
       "      <td>1.436026</td>\n",
       "    </tr>\n",
       "    <tr>\n",
       "      <th>4</th>\n",
       "      <td>-0.912457</td>\n",
       "      <td>0.310599</td>\n",
       "    </tr>\n",
       "  </tbody>\n",
       "</table>\n",
       "</div>"
      ],
      "text/plain": [
       "   sepal_length_z  sepal_width_z\n",
       "0       -1.134735       0.685741\n",
       "1       -0.912457      -0.064543\n",
       "2       -1.134735      -0.064543\n",
       "3       -0.801319       1.436026\n",
       "4       -0.912457       0.310599"
      ]
     },
     "execution_count": 30,
     "metadata": {},
     "output_type": "execute_result"
    }
   ],
   "source": [
    "# -- Save standardized data into a DataFrame --\n",
    "\n",
    "X_z = pd.DataFrame(z_score,columns=['sepal_length_z','sepal_width_z'])\n",
    "\n",
    "X_z.head()"
   ]
  },
  {
   "cell_type": "markdown",
   "metadata": {},
   "source": [
    "## Use the model to predict five cases that are chosen from each original specie. \n",
    "\n",
    "### Modeling the data for 5 cases (K = 5)"
   ]
  },
  {
   "cell_type": "code",
   "execution_count": 31,
   "metadata": {},
   "outputs": [],
   "source": [
    "# -- fit the model with data --\n",
    "# -- Creating three clusters --\n",
    "\n",
    "from sklearn.cluster import KMeans\n",
    "k = 5\n",
    "kmeans_df = KMeans(n_clusters = 5).fit(X_z)"
   ]
  },
  {
   "cell_type": "code",
   "execution_count": 32,
   "metadata": {},
   "outputs": [
    {
     "data": {
      "text/plain": [
       "array([1, 1, 1, 3, 1, 3, 3, 1, 3, 1, 1, 3, 3, 1, 3, 1, 0, 0, 1, 1, 1, 1,\n",
       "       3, 3, 0, 1, 1, 3, 1, 1, 1, 1, 1, 3, 1, 1, 3, 0, 3, 3, 1, 1, 3, 1,\n",
       "       1, 1, 3, 1, 1, 1, 1, 1, 1, 3, 1, 0, 3, 1, 1, 0, 1, 1, 1, 1, 1, 1,\n",
       "       3, 3, 1, 3, 0, 3, 1, 3, 1, 1, 3, 3, 0, 1, 3, 3, 3, 1, 1, 1, 1, 1,\n",
       "       1, 1, 1, 3, 3, 3, 1, 3, 1, 3, 1, 1, 0, 0, 0, 0, 0, 0, 4, 0, 0, 0,\n",
       "       1, 0, 0, 0, 2, 2, 1, 0, 2, 0, 2, 0, 2, 2, 1, 0, 2, 0, 2, 1, 0, 0,\n",
       "       2, 0, 0, 0, 2, 2, 0, 2, 0, 0, 2, 4, 0, 0, 0, 0, 0, 1, 1, 0, 2, 0,\n",
       "       0, 0, 2, 1, 2, 0, 0, 1, 0, 2, 1, 0, 2, 0, 2, 2, 1, 0, 2, 0, 2, 0,\n",
       "       1, 2, 2, 0, 0, 1, 2, 0, 0, 0, 1, 2, 0, 2, 1, 2, 2, 0, 0, 2, 2, 0,\n",
       "       0, 1, 4, 1, 3, 0, 3, 0, 2, 4, 1, 0, 4, 0, 4, 2, 2, 2, 1, 2, 2, 1,\n",
       "       2, 2, 4, 1, 4, 0, 4, 0, 4, 4, 2, 2, 4, 2, 2, 2, 2, 2, 2, 1, 2, 1,\n",
       "       4, 4, 3, 4, 2, 1, 2, 0, 0, 2, 4, 2, 4, 2, 4, 4, 2, 2, 4, 2, 2, 4,\n",
       "       4, 3, 0, 2, 0, 2, 0, 4, 2, 0, 2, 4, 2, 4, 2, 1, 1, 2, 4, 2, 1, 2,\n",
       "       0, 4, 0, 2, 4, 4, 2, 2, 0, 3, 2, 4, 3, 0, 2, 2, 0, 2, 0],\n",
       "      dtype=int32)"
      ]
     },
     "execution_count": 32,
     "metadata": {},
     "output_type": "execute_result"
    }
   ],
   "source": [
    "# -- Obtain the labels --\n",
    "\n",
    "label = kmeans_df.labels_\n",
    "\n",
    "label"
   ]
  },
  {
   "cell_type": "code",
   "execution_count": 33,
   "metadata": {},
   "outputs": [
    {
     "data": {
      "text/plain": [
       "array([[-0.13306079, -1.15149282],\n",
       "       [-0.88107706,  0.25543137],\n",
       "       [ 0.63587389, -0.01058395],\n",
       "       [-0.53629525,  1.72435471],\n",
       "       [ 1.99223373,  0.05425225]])"
      ]
     },
     "execution_count": 33,
     "metadata": {},
     "output_type": "execute_result"
    }
   ],
   "source": [
    "# -- obtain the centroids --\n",
    "cluster_center = kmeans_df.cluster_centers_\n",
    "cluster_center"
   ]
  },
  {
   "cell_type": "markdown",
   "metadata": {},
   "source": [
    "### Combining The Data"
   ]
  },
  {
   "cell_type": "code",
   "execution_count": 34,
   "metadata": {},
   "outputs": [],
   "source": [
    "# -- Merge original data, rescaled data and cluster labels --\n",
    "\n",
    "clt = pd.DataFrame(label, columns=['label'])\n",
    "\n",
    "df_cluster = pd.concat([plants,X_z,clt],axis=1)"
   ]
  },
  {
   "cell_type": "markdown",
   "metadata": {},
   "source": [
    "### Plotting Cluster - sepal_length and sepal_width"
   ]
  },
  {
   "cell_type": "code",
   "execution_count": 35,
   "metadata": {
    "scrolled": true
   },
   "outputs": [
    {
     "data": {
      "image/png": "[encoded data removed]",
      "text/plain": [
       "<Figure size 1080x720 with 1 Axes>"
      ]
     },
     "metadata": {
      "needs_background": "light"
     },
     "output_type": "display_data"
    }
   ],
   "source": [
    "# -- plot clusters --\n",
    " \n",
    "plt.figure(figsize = (15,10))\n",
    "sns.scatterplot(df_cluster['sepal_length'],\n",
    "               df_cluster['sepal_width'],\n",
    "               hue = df_cluster['label']);\n",
    "\n",
    "# -- plot centroids of the clusters --\n",
    "\n",
    "plt.plot(cluster_center[:,0],\n",
    "        cluster_center[:,1],\n",
    "        'r*',\n",
    "        markersize = 10);"
   ]
  },
  {
   "cell_type": "markdown",
   "metadata": {},
   "source": [
    "## Classification"
   ]
  },
  {
   "cell_type": "markdown",
   "metadata": {},
   "source": [
    "### Splitting into training and testing data"
   ]
  },
  {
   "cell_type": "code",
   "execution_count": 36,
   "metadata": {},
   "outputs": [],
   "source": [
    "# -- split training and testing --\n",
    "X = plants[['sepal_length','sepal_width']] # -- predictors --\n",
    "y = plants['species']             # -- target --\n",
    "\n",
    "# -- Split the data --\n",
    "X_train, X_test, y_train, y_test = train_test_split(X,\n",
    "                                                    y,\n",
    "                                                    test_size = 0.30,\n",
    "                                                    random_state = 1)"
   ]
  },
  {
   "cell_type": "markdown",
   "metadata": {},
   "source": [
    "### Neural Networks Analysis"
   ]
  },
  {
   "cell_type": "code",
   "execution_count": 37,
   "metadata": {},
   "outputs": [
    {
     "name": "stderr",
     "output_type": "stream",
     "text": [
      "/Users/nathanyoon/opt/anaconda3/lib/python3.8/site-packages/sklearn/neural_network/_multilayer_perceptron.py:471: ConvergenceWarning: lbfgs failed to converge (status=1):\n",
      "STOP: TOTAL NO. of ITERATIONS REACHED LIMIT.\n",
      "\n",
      "Increase the number of iterations (max_iter) or scale the data as shown in:\n",
      "    https://scikit-learn.org/stable/modules/preprocessing.html\n",
      "  self.n_iter_ = _check_optimize_result(\"lbfgs\", opt_res, self.max_iter)\n"
     ]
    },
    {
     "data": {
      "text/plain": [
       "MLPClassifier(activation='logistic', hidden_layer_sizes=2, random_state=1,\n",
       "              solver='lbfgs')"
      ]
     },
     "execution_count": 37,
     "metadata": {},
     "output_type": "execute_result"
    }
   ],
   "source": [
    "# -- train neural nets --\n",
    "ann_clf = MLPClassifier(hidden_layer_sizes = (2),\n",
    "                        activation = 'logistic',\n",
    "                        solver = 'lbfgs',\n",
    "                        random_state = 1)\n",
    "\n",
    "ann_clf.fit(X_train,y_train)\n",
    "\n",
    "# -- no need to use ann_clf.fit(X_train,y_train.values)"
   ]
  },
  {
   "cell_type": "markdown",
   "metadata": {},
   "source": [
    "### Validate the model with testing data"
   ]
  },
  {
   "cell_type": "markdown",
   "metadata": {},
   "source": [
    "### Confusion Matrix"
   ]
  },
  {
   "cell_type": "markdown",
   "metadata": {},
   "source": [
    "#### Confusion Matrix of Training Data\n",
    "\n",
    "#### Breaking down into training and testing confusion matrix. We want to see the correlation with each species in relationship to data."
   ]
  },
  {
   "cell_type": "code",
   "execution_count": 38,
   "metadata": {
    "scrolled": true
   },
   "outputs": [
    {
     "data": {
      "text/plain": [
       "Text(0.5, 1.0, 'Confusion Matrix - Training Data')"
      ]
     },
     "execution_count": 38,
     "metadata": {},
     "output_type": "execute_result"
    },
    {
     "data": {
      "image/png": "[encoded data removed]",
      "text/plain": [
       "<Figure size 432x288 with 2 Axes>"
      ]
     },
     "metadata": {
      "needs_background": "light"
     },
     "output_type": "display_data"
    }
   ],
   "source": [
    "metrics.plot_confusion_matrix(ann_clf,\n",
    "                             X_train,\n",
    "                             y_train,\n",
    "                             cmap = 'Greens')\n",
    "plt.title('Confusion Matrix - Training Data')"
   ]
  },
  {
   "cell_type": "code",
   "execution_count": 39,
   "metadata": {},
   "outputs": [
    {
     "data": {
      "text/plain": [
       "array([[66,  4,  0],\n",
       "       [ 7, 48, 13],\n",
       "       [ 6, 23, 46]])"
      ]
     },
     "execution_count": 39,
     "metadata": {},
     "output_type": "execute_result"
    }
   ],
   "source": [
    "metrics.confusion_matrix(y_train,\n",
    "                        ann_clf.predict(X_train))"
   ]
  },
  {
   "cell_type": "markdown",
   "metadata": {},
   "source": [
    "#### Confusion Matrix of Testing Data"
   ]
  },
  {
   "cell_type": "code",
   "execution_count": 40,
   "metadata": {},
   "outputs": [
    {
     "data": {
      "text/plain": [
       "Text(0.5, 1.0, 'Confusion Matix - Test Data')"
      ]
     },
     "execution_count": 40,
     "metadata": {},
     "output_type": "execute_result"
    },
    {
     "data": {
      "image/png": "[encoded data removed]",
      "text/plain": [
       "<Figure size 432x288 with 2 Axes>"
      ]
     },
     "metadata": {
      "needs_background": "light"
     },
     "output_type": "display_data"
    }
   ],
   "source": [
    "# -- Use sklearn.metrics to present confustion_matrix --\n",
    "\n",
    "metrics.plot_confusion_matrix(ann_clf,\n",
    "                             X_test,\n",
    "                             y_test,\n",
    "                             cmap = 'Reds')\n",
    "\n",
    "plt.title('Confusion Matix - Test Data')"
   ]
  },
  {
   "cell_type": "code",
   "execution_count": 41,
   "metadata": {},
   "outputs": [
    {
     "data": {
      "text/plain": [
       "array([[20,  8,  2],\n",
       "       [ 3, 22, 11],\n",
       "       [ 3,  6, 17]])"
      ]
     },
     "execution_count": 41,
     "metadata": {},
     "output_type": "execute_result"
    }
   ],
   "source": [
    "# -- Validation performance --\n",
    "# -- Use test data --\n",
    "metrics.confusion_matrix(y_true = y_test,\n",
    "                         y_pred=ann_clf.predict(X_test))"
   ]
  },
  {
   "cell_type": "markdown",
   "metadata": {},
   "source": [
    "### Decision Tree Analysis"
   ]
  },
  {
   "cell_type": "code",
   "execution_count": 42,
   "metadata": {},
   "outputs": [],
   "source": [
    "# -- Fit the CART model --\n",
    "\n",
    "from sklearn.tree import DecisionTreeClassifier\n",
    "\n",
    "dt_clf = DecisionTreeClassifier(criterion = 'gini',max_leaf_nodes = 5)\n",
    "\n",
    "plants_CART = dt_clf.fit(X,y)"
   ]
  },
  {
   "cell_type": "code",
   "execution_count": 43,
   "metadata": {},
   "outputs": [
    {
     "data": {
      "text/plain": [
       "0.7114754098360656"
      ]
     },
     "execution_count": 43,
     "metadata": {},
     "output_type": "execute_result"
    }
   ],
   "source": [
    "# -- accuracy --\n",
    "dt_clf.score(X,y)"
   ]
  },
  {
   "cell_type": "code",
   "execution_count": 44,
   "metadata": {},
   "outputs": [
    {
     "data": {
      "text/plain": [
       "array(['setosa', 'versicolor', 'virginica'], dtype=object)"
      ]
     },
     "execution_count": 44,
     "metadata": {},
     "output_type": "execute_result"
    }
   ],
   "source": [
    "# -- target --\n",
    "y = plants['species']\n",
    "y.unique()"
   ]
  },
  {
   "cell_type": "code",
   "execution_count": 45,
   "metadata": {},
   "outputs": [
    {
     "name": "stdout",
     "output_type": "stream",
     "text": [
      "Index(['sepal_length', 'sepal_width'], dtype='object')\n",
      "['setosa', 'versicolor', 'virginica']\n"
     ]
    }
   ],
   "source": [
    "# -- Obtain variables (feature) names and target names --\n",
    "# -- Feature and target names are needed to create a decision tree --\n",
    "X_names = X.columns\n",
    "y_names = ['setosa','versicolor', 'virginica']\n",
    "print(X_names)\n",
    "print(y_names)"
   ]
  },
  {
   "cell_type": "code",
   "execution_count": 46,
   "metadata": {
    "scrolled": true
   },
   "outputs": [
    {
     "ename": "ExecutableNotFound",
     "evalue": "failed to execute ['dot', '-Kdot', '-Tsvg'], make sure the Graphviz executables are on your systems' PATH",
     "output_type": "error",
     "traceback": [
      "\u001b[0;31m---------------------------------------------------------------------------\u001b[0m",
      "\u001b[0;31mFileNotFoundError\u001b[0m                         Traceback (most recent call last)",
      "\u001b[0;32m~/opt/anaconda3/lib/python3.8/site-packages/graphviz/backend.py\u001b[0m in \u001b[0;36mrun\u001b[0;34m(cmd, input, capture_output, check, encoding, quiet, **kwargs)\u001b[0m\n\u001b[1;32m    163\u001b[0m     \u001b[0;32mtry\u001b[0m\u001b[0;34m:\u001b[0m\u001b[0;34m\u001b[0m\u001b[0;34m\u001b[0m\u001b[0m\n\u001b[0;32m--> 164\u001b[0;31m         \u001b[0mproc\u001b[0m \u001b[0;34m=\u001b[0m \u001b[0msubprocess\u001b[0m\u001b[0;34m.\u001b[0m\u001b[0mPopen\u001b[0m\u001b[0;34m(\u001b[0m\u001b[0mcmd\u001b[0m\u001b[0;34m,\u001b[0m \u001b[0mstartupinfo\u001b[0m\u001b[0;34m=\u001b[0m\u001b[0mget_startupinfo\u001b[0m\u001b[0;34m(\u001b[0m\u001b[0;34m)\u001b[0m\u001b[0;34m,\u001b[0m \u001b[0;34m**\u001b[0m\u001b[0mkwargs\u001b[0m\u001b[0;34m)\u001b[0m\u001b[0;34m\u001b[0m\u001b[0;34m\u001b[0m\u001b[0m\n\u001b[0m\u001b[1;32m    165\u001b[0m     \u001b[0;32mexcept\u001b[0m \u001b[0mOSError\u001b[0m \u001b[0;32mas\u001b[0m \u001b[0me\u001b[0m\u001b[0;34m:\u001b[0m\u001b[0;34m\u001b[0m\u001b[0;34m\u001b[0m\u001b[0m\n",
      "\u001b[0;32m~/opt/anaconda3/lib/python3.8/subprocess.py\u001b[0m in \u001b[0;36m__init__\u001b[0;34m(self, args, bufsize, executable, stdin, stdout, stderr, preexec_fn, close_fds, shell, cwd, env, universal_newlines, startupinfo, creationflags, restore_signals, start_new_session, pass_fds, encoding, errors, text)\u001b[0m\n\u001b[1;32m    853\u001b[0m \u001b[0;34m\u001b[0m\u001b[0m\n\u001b[0;32m--> 854\u001b[0;31m             self._execute_child(args, executable, preexec_fn, close_fds,\n\u001b[0m\u001b[1;32m    855\u001b[0m                                 \u001b[0mpass_fds\u001b[0m\u001b[0;34m,\u001b[0m \u001b[0mcwd\u001b[0m\u001b[0;34m,\u001b[0m \u001b[0menv\u001b[0m\u001b[0;34m,\u001b[0m\u001b[0;34m\u001b[0m\u001b[0;34m\u001b[0m\u001b[0m\n",
      "\u001b[0;32m~/opt/anaconda3/lib/python3.8/subprocess.py\u001b[0m in \u001b[0;36m_execute_child\u001b[0;34m(self, args, executable, preexec_fn, close_fds, pass_fds, cwd, env, startupinfo, creationflags, shell, p2cread, p2cwrite, c2pread, c2pwrite, errread, errwrite, restore_signals, start_new_session)\u001b[0m\n\u001b[1;32m   1701\u001b[0m                         \u001b[0merr_msg\u001b[0m \u001b[0;34m=\u001b[0m \u001b[0mos\u001b[0m\u001b[0;34m.\u001b[0m\u001b[0mstrerror\u001b[0m\u001b[0;34m(\u001b[0m\u001b[0merrno_num\u001b[0m\u001b[0;34m)\u001b[0m\u001b[0;34m\u001b[0m\u001b[0;34m\u001b[0m\u001b[0m\n\u001b[0;32m-> 1702\u001b[0;31m                     \u001b[0;32mraise\u001b[0m \u001b[0mchild_exception_type\u001b[0m\u001b[0;34m(\u001b[0m\u001b[0merrno_num\u001b[0m\u001b[0;34m,\u001b[0m \u001b[0merr_msg\u001b[0m\u001b[0;34m,\u001b[0m \u001b[0merr_filename\u001b[0m\u001b[0;34m)\u001b[0m\u001b[0;34m\u001b[0m\u001b[0;34m\u001b[0m\u001b[0m\n\u001b[0m\u001b[1;32m   1703\u001b[0m                 \u001b[0;32mraise\u001b[0m \u001b[0mchild_exception_type\u001b[0m\u001b[0;34m(\u001b[0m\u001b[0merr_msg\u001b[0m\u001b[0;34m)\u001b[0m\u001b[0;34m\u001b[0m\u001b[0;34m\u001b[0m\u001b[0m\n",
      "\u001b[0;31mFileNotFoundError\u001b[0m: [Errno 2] No such file or directory: 'dot'",
      "\nDuring handling of the above exception, another exception occurred:\n",
      "\u001b[0;31mExecutableNotFound\u001b[0m                        Traceback (most recent call last)",
      "\u001b[0;32m~/opt/anaconda3/lib/python3.8/site-packages/IPython/core/formatters.py\u001b[0m in \u001b[0;36m__call__\u001b[0;34m(self, obj)\u001b[0m\n\u001b[1;32m    343\u001b[0m             \u001b[0mmethod\u001b[0m \u001b[0;34m=\u001b[0m \u001b[0mget_real_method\u001b[0m\u001b[0;34m(\u001b[0m\u001b[0mobj\u001b[0m\u001b[0;34m,\u001b[0m \u001b[0mself\u001b[0m\u001b[0;34m.\u001b[0m\u001b[0mprint_method\u001b[0m\u001b[0;34m)\u001b[0m\u001b[0;34m\u001b[0m\u001b[0;34m\u001b[0m\u001b[0m\n\u001b[1;32m    344\u001b[0m             \u001b[0;32mif\u001b[0m \u001b[0mmethod\u001b[0m \u001b[0;32mis\u001b[0m \u001b[0;32mnot\u001b[0m \u001b[0;32mNone\u001b[0m\u001b[0;34m:\u001b[0m\u001b[0;34m\u001b[0m\u001b[0;34m\u001b[0m\u001b[0m\n\u001b[0;32m--> 345\u001b[0;31m                 \u001b[0;32mreturn\u001b[0m \u001b[0mmethod\u001b[0m\u001b[0;34m(\u001b[0m\u001b[0;34m)\u001b[0m\u001b[0;34m\u001b[0m\u001b[0;34m\u001b[0m\u001b[0m\n\u001b[0m\u001b[1;32m    346\u001b[0m             \u001b[0;32mreturn\u001b[0m \u001b[0;32mNone\u001b[0m\u001b[0;34m\u001b[0m\u001b[0;34m\u001b[0m\u001b[0m\n\u001b[1;32m    347\u001b[0m         \u001b[0;32melse\u001b[0m\u001b[0;34m:\u001b[0m\u001b[0;34m\u001b[0m\u001b[0;34m\u001b[0m\u001b[0m\n",
      "\u001b[0;32m~/opt/anaconda3/lib/python3.8/site-packages/graphviz/files.py\u001b[0m in \u001b[0;36m_repr_svg_\u001b[0;34m(self)\u001b[0m\n\u001b[1;32m    142\u001b[0m \u001b[0;34m\u001b[0m\u001b[0m\n\u001b[1;32m    143\u001b[0m     \u001b[0;32mdef\u001b[0m \u001b[0m_repr_svg_\u001b[0m\u001b[0;34m(\u001b[0m\u001b[0mself\u001b[0m\u001b[0;34m)\u001b[0m\u001b[0;34m:\u001b[0m\u001b[0;34m\u001b[0m\u001b[0;34m\u001b[0m\u001b[0m\n\u001b[0;32m--> 144\u001b[0;31m         \u001b[0;32mreturn\u001b[0m \u001b[0mself\u001b[0m\u001b[0;34m.\u001b[0m\u001b[0mpipe\u001b[0m\u001b[0;34m(\u001b[0m\u001b[0mformat\u001b[0m\u001b[0;34m=\u001b[0m\u001b[0;34m'svg'\u001b[0m\u001b[0;34m)\u001b[0m\u001b[0;34m.\u001b[0m\u001b[0mdecode\u001b[0m\u001b[0;34m(\u001b[0m\u001b[0mself\u001b[0m\u001b[0;34m.\u001b[0m\u001b[0m_encoding\u001b[0m\u001b[0;34m)\u001b[0m\u001b[0;34m\u001b[0m\u001b[0;34m\u001b[0m\u001b[0m\n\u001b[0m\u001b[1;32m    145\u001b[0m \u001b[0;34m\u001b[0m\u001b[0m\n\u001b[1;32m    146\u001b[0m     \u001b[0;32mdef\u001b[0m \u001b[0mpipe\u001b[0m\u001b[0;34m(\u001b[0m\u001b[0mself\u001b[0m\u001b[0;34m,\u001b[0m \u001b[0mformat\u001b[0m\u001b[0;34m=\u001b[0m\u001b[0;32mNone\u001b[0m\u001b[0;34m,\u001b[0m \u001b[0mrenderer\u001b[0m\u001b[0;34m=\u001b[0m\u001b[0;32mNone\u001b[0m\u001b[0;34m,\u001b[0m \u001b[0mformatter\u001b[0m\u001b[0;34m=\u001b[0m\u001b[0;32mNone\u001b[0m\u001b[0;34m,\u001b[0m \u001b[0mquiet\u001b[0m\u001b[0;34m=\u001b[0m\u001b[0;32mFalse\u001b[0m\u001b[0;34m)\u001b[0m\u001b[0;34m:\u001b[0m\u001b[0;34m\u001b[0m\u001b[0;34m\u001b[0m\u001b[0m\n",
      "\u001b[0;32m~/opt/anaconda3/lib/python3.8/site-packages/graphviz/files.py\u001b[0m in \u001b[0;36mpipe\u001b[0;34m(self, format, renderer, formatter, quiet)\u001b[0m\n\u001b[1;32m    167\u001b[0m         \u001b[0mdata\u001b[0m \u001b[0;34m=\u001b[0m \u001b[0mtext_type\u001b[0m\u001b[0;34m(\u001b[0m\u001b[0mself\u001b[0m\u001b[0;34m.\u001b[0m\u001b[0msource\u001b[0m\u001b[0;34m)\u001b[0m\u001b[0;34m.\u001b[0m\u001b[0mencode\u001b[0m\u001b[0;34m(\u001b[0m\u001b[0mself\u001b[0m\u001b[0;34m.\u001b[0m\u001b[0m_encoding\u001b[0m\u001b[0;34m)\u001b[0m\u001b[0;34m\u001b[0m\u001b[0;34m\u001b[0m\u001b[0m\n\u001b[1;32m    168\u001b[0m \u001b[0;34m\u001b[0m\u001b[0m\n\u001b[0;32m--> 169\u001b[0;31m         out = backend.pipe(self._engine, format, data,\n\u001b[0m\u001b[1;32m    170\u001b[0m                            \u001b[0mrenderer\u001b[0m\u001b[0;34m=\u001b[0m\u001b[0mrenderer\u001b[0m\u001b[0;34m,\u001b[0m \u001b[0mformatter\u001b[0m\u001b[0;34m=\u001b[0m\u001b[0mformatter\u001b[0m\u001b[0;34m,\u001b[0m\u001b[0;34m\u001b[0m\u001b[0;34m\u001b[0m\u001b[0m\n\u001b[1;32m    171\u001b[0m                            quiet=quiet)\n",
      "\u001b[0;32m~/opt/anaconda3/lib/python3.8/site-packages/graphviz/backend.py\u001b[0m in \u001b[0;36mpipe\u001b[0;34m(engine, format, data, renderer, formatter, quiet)\u001b[0m\n\u001b[1;32m    246\u001b[0m     \"\"\"\n\u001b[1;32m    247\u001b[0m     \u001b[0mcmd\u001b[0m\u001b[0;34m,\u001b[0m \u001b[0m_\u001b[0m \u001b[0;34m=\u001b[0m \u001b[0mcommand\u001b[0m\u001b[0;34m(\u001b[0m\u001b[0mengine\u001b[0m\u001b[0;34m,\u001b[0m \u001b[0mformat\u001b[0m\u001b[0;34m,\u001b[0m \u001b[0;32mNone\u001b[0m\u001b[0;34m,\u001b[0m \u001b[0mrenderer\u001b[0m\u001b[0;34m,\u001b[0m \u001b[0mformatter\u001b[0m\u001b[0;34m)\u001b[0m\u001b[0;34m\u001b[0m\u001b[0;34m\u001b[0m\u001b[0m\n\u001b[0;32m--> 248\u001b[0;31m     \u001b[0mout\u001b[0m\u001b[0;34m,\u001b[0m \u001b[0m_\u001b[0m \u001b[0;34m=\u001b[0m \u001b[0mrun\u001b[0m\u001b[0;34m(\u001b[0m\u001b[0mcmd\u001b[0m\u001b[0;34m,\u001b[0m \u001b[0minput\u001b[0m\u001b[0;34m=\u001b[0m\u001b[0mdata\u001b[0m\u001b[0;34m,\u001b[0m \u001b[0mcapture_output\u001b[0m\u001b[0;34m=\u001b[0m\u001b[0;32mTrue\u001b[0m\u001b[0;34m,\u001b[0m \u001b[0mcheck\u001b[0m\u001b[0;34m=\u001b[0m\u001b[0;32mTrue\u001b[0m\u001b[0;34m,\u001b[0m \u001b[0mquiet\u001b[0m\u001b[0;34m=\u001b[0m\u001b[0mquiet\u001b[0m\u001b[0;34m)\u001b[0m\u001b[0;34m\u001b[0m\u001b[0;34m\u001b[0m\u001b[0m\n\u001b[0m\u001b[1;32m    249\u001b[0m     \u001b[0;32mreturn\u001b[0m \u001b[0mout\u001b[0m\u001b[0;34m\u001b[0m\u001b[0;34m\u001b[0m\u001b[0m\n\u001b[1;32m    250\u001b[0m \u001b[0;34m\u001b[0m\u001b[0m\n",
      "\u001b[0;32m~/opt/anaconda3/lib/python3.8/site-packages/graphviz/backend.py\u001b[0m in \u001b[0;36mrun\u001b[0;34m(cmd, input, capture_output, check, encoding, quiet, **kwargs)\u001b[0m\n\u001b[1;32m    165\u001b[0m     \u001b[0;32mexcept\u001b[0m \u001b[0mOSError\u001b[0m \u001b[0;32mas\u001b[0m \u001b[0me\u001b[0m\u001b[0;34m:\u001b[0m\u001b[0;34m\u001b[0m\u001b[0;34m\u001b[0m\u001b[0m\n\u001b[1;32m    166\u001b[0m         \u001b[0;32mif\u001b[0m \u001b[0me\u001b[0m\u001b[0;34m.\u001b[0m\u001b[0merrno\u001b[0m \u001b[0;34m==\u001b[0m \u001b[0merrno\u001b[0m\u001b[0;34m.\u001b[0m\u001b[0mENOENT\u001b[0m\u001b[0;34m:\u001b[0m\u001b[0;34m\u001b[0m\u001b[0;34m\u001b[0m\u001b[0m\n\u001b[0;32m--> 167\u001b[0;31m             \u001b[0;32mraise\u001b[0m \u001b[0mExecutableNotFound\u001b[0m\u001b[0;34m(\u001b[0m\u001b[0mcmd\u001b[0m\u001b[0;34m)\u001b[0m\u001b[0;34m\u001b[0m\u001b[0;34m\u001b[0m\u001b[0m\n\u001b[0m\u001b[1;32m    168\u001b[0m         \u001b[0;32melse\u001b[0m\u001b[0;34m:\u001b[0m\u001b[0;34m\u001b[0m\u001b[0;34m\u001b[0m\u001b[0m\n\u001b[1;32m    169\u001b[0m             \u001b[0;32mraise\u001b[0m\u001b[0;34m\u001b[0m\u001b[0;34m\u001b[0m\u001b[0m\n",
      "\u001b[0;31mExecutableNotFound\u001b[0m: failed to execute ['dot', '-Kdot', '-Tsvg'], make sure the Graphviz executables are on your systems' PATH"
     ]
    },
    {
     "data": {
      "text/plain": [
       "<graphviz.files.Source at 0x7fe85341aca0>"
      ]
     },
     "execution_count": 46,
     "metadata": {},
     "output_type": "execute_result"
    }
   ],
   "source": [
    "# -- Using graphviz to visually show dot_data break down in a graph --\n",
    "\n",
    "dot_data = export_graphviz(plants_CART,\n",
    "                           out_file = None,\n",
    "                           feature_names = X_names,\n",
    "                           class_names = y_names,\n",
    "                           filled = True)\n",
    "\n",
    "graph = graphviz.Source(dot_data)\n",
    "graph"
   ]
  },
  {
   "cell_type": "code",
   "execution_count": 47,
   "metadata": {
    "scrolled": true
   },
   "outputs": [
    {
     "data": {
      "text/plain": [
       "array([[84, 16,  0],\n",
       "       [ 7, 68, 29],\n",
       "       [ 9, 27, 65]])"
      ]
     },
     "execution_count": 47,
     "metadata": {},
     "output_type": "execute_result"
    }
   ],
   "source": [
    "from sklearn.metrics import confusion_matrix\n",
    "\n",
    "dt_pred = dt_clf.predict(X)\n",
    "\n",
    "confusion_matrix(y, dt_pred)"
   ]
  },
  {
   "cell_type": "markdown",
   "metadata": {},
   "source": [
    "### Prediction: Use the following data to predict their species"
   ]
  },
  {
   "cell_type": "code",
   "execution_count": 48,
   "metadata": {},
   "outputs": [
    {
     "name": "stdout",
     "output_type": "stream",
     "text": [
      "[-1.91385236 -0.82703562 -0.85604274]\n",
      "[[-2.86831648  1.47618459]\n",
      " [ 0.09892409 -1.09820882]\n",
      " [ 1.31936486  0.01615539]]\n"
     ]
    }
   ],
   "source": [
    "log_regress = LogisticRegression(solver = 'liblinear') # Instantiate an object of the class\n",
    "\n",
    "# --- Obtain and print out intercept and coefficients ---\n",
    "log_regress.fit( X = X, y = y)\n",
    "\n",
    "print(log_regress.intercept_)\n",
    "print(log_regress.coef_)"
   ]
  },
  {
   "cell_type": "code",
   "execution_count": 49,
   "metadata": {},
   "outputs": [
    {
     "data": {
      "text/html": [
       "<div>\n",
       "<style scoped>\n",
       "    .dataframe tbody tr th:only-of-type {\n",
       "        vertical-align: middle;\n",
       "    }\n",
       "\n",
       "    .dataframe tbody tr th {\n",
       "        vertical-align: top;\n",
       "    }\n",
       "\n",
       "    .dataframe thead th {\n",
       "        text-align: right;\n",
       "    }\n",
       "</style>\n",
       "<table border=\"1\" class=\"dataframe\">\n",
       "  <thead>\n",
       "    <tr style=\"text-align: right;\">\n",
       "      <th></th>\n",
       "      <th>setosa</th>\n",
       "      <th>versicolor</th>\n",
       "      <th>virginica</th>\n",
       "    </tr>\n",
       "  </thead>\n",
       "  <tbody>\n",
       "    <tr>\n",
       "      <th>0</th>\n",
       "      <td>0.789717</td>\n",
       "      <td>0.134444</td>\n",
       "      <td>0.075839</td>\n",
       "    </tr>\n",
       "    <tr>\n",
       "      <th>1</th>\n",
       "      <td>0.610485</td>\n",
       "      <td>0.283022</td>\n",
       "      <td>0.106493</td>\n",
       "    </tr>\n",
       "    <tr>\n",
       "      <th>2</th>\n",
       "      <td>0.670093</td>\n",
       "      <td>0.255065</td>\n",
       "      <td>0.074842</td>\n",
       "    </tr>\n",
       "    <tr>\n",
       "      <th>3</th>\n",
       "      <td>0.816134</td>\n",
       "      <td>0.068007</td>\n",
       "      <td>0.115859</td>\n",
       "    </tr>\n",
       "    <tr>\n",
       "      <th>4</th>\n",
       "      <td>0.694652</td>\n",
       "      <td>0.201781</td>\n",
       "      <td>0.103567</td>\n",
       "    </tr>\n",
       "    <tr>\n",
       "      <th>...</th>\n",
       "      <td>...</td>\n",
       "      <td>...</td>\n",
       "      <td>...</td>\n",
       "    </tr>\n",
       "    <tr>\n",
       "      <th>300</th>\n",
       "      <td>0.151667</td>\n",
       "      <td>0.247874</td>\n",
       "      <td>0.600459</td>\n",
       "    </tr>\n",
       "    <tr>\n",
       "      <th>301</th>\n",
       "      <td>0.001648</td>\n",
       "      <td>0.459398</td>\n",
       "      <td>0.538954</td>\n",
       "    </tr>\n",
       "    <tr>\n",
       "      <th>302</th>\n",
       "      <td>0.007657</td>\n",
       "      <td>0.665675</td>\n",
       "      <td>0.326669</td>\n",
       "    </tr>\n",
       "    <tr>\n",
       "      <th>303</th>\n",
       "      <td>0.033331</td>\n",
       "      <td>0.354927</td>\n",
       "      <td>0.611742</td>\n",
       "    </tr>\n",
       "    <tr>\n",
       "      <th>304</th>\n",
       "      <td>0.097535</td>\n",
       "      <td>0.530613</td>\n",
       "      <td>0.371852</td>\n",
       "    </tr>\n",
       "  </tbody>\n",
       "</table>\n",
       "<p>305 rows × 3 columns</p>\n",
       "</div>"
      ],
      "text/plain": [
       "       setosa  versicolor  virginica\n",
       "0    0.789717    0.134444   0.075839\n",
       "1    0.610485    0.283022   0.106493\n",
       "2    0.670093    0.255065   0.074842\n",
       "3    0.816134    0.068007   0.115859\n",
       "4    0.694652    0.201781   0.103567\n",
       "..        ...         ...        ...\n",
       "300  0.151667    0.247874   0.600459\n",
       "301  0.001648    0.459398   0.538954\n",
       "302  0.007657    0.665675   0.326669\n",
       "303  0.033331    0.354927   0.611742\n",
       "304  0.097535    0.530613   0.371852\n",
       "\n",
       "[305 rows x 3 columns]"
      ]
     },
     "execution_count": 49,
     "metadata": {},
     "output_type": "execute_result"
    }
   ],
   "source": [
    "test_prob = log_regress.predict_proba(X = X) # Use the test data, x1, to validate the model for further analysis\n",
    "preds = log_regress.predict(X = X)\n",
    "preds_prob = pd.DataFrame(test_prob)  # Convert the result into a dataframe\n",
    "\n",
    "preds_prob.columns = ['setosa','versicolor', 'virginica'] # This is dispaying prob for each column stated\n",
    "preds_prob"
   ]
  },
  {
   "cell_type": "code",
   "execution_count": 50,
   "metadata": {},
   "outputs": [
    {
     "data": {
      "text/html": [
       "<div>\n",
       "<style scoped>\n",
       "    .dataframe tbody tr th:only-of-type {\n",
       "        vertical-align: middle;\n",
       "    }\n",
       "\n",
       "    .dataframe tbody tr th {\n",
       "        vertical-align: top;\n",
       "    }\n",
       "\n",
       "    .dataframe thead th {\n",
       "        text-align: right;\n",
       "    }\n",
       "</style>\n",
       "<table border=\"1\" class=\"dataframe\">\n",
       "  <thead>\n",
       "    <tr style=\"text-align: right;\">\n",
       "      <th></th>\n",
       "      <th>sepal_length</th>\n",
       "      <th>sepal_width</th>\n",
       "      <th>petal_length</th>\n",
       "      <th>petal_width</th>\n",
       "    </tr>\n",
       "  </thead>\n",
       "  <tbody>\n",
       "    <tr>\n",
       "      <th>0</th>\n",
       "      <td>6.4</td>\n",
       "      <td>3.2</td>\n",
       "      <td>4.5</td>\n",
       "      <td>1.5</td>\n",
       "    </tr>\n",
       "    <tr>\n",
       "      <th>1</th>\n",
       "      <td>5.0</td>\n",
       "      <td>3.3</td>\n",
       "      <td>1.4</td>\n",
       "      <td>0.2</td>\n",
       "    </tr>\n",
       "    <tr>\n",
       "      <th>2</th>\n",
       "      <td>6.3</td>\n",
       "      <td>3.3</td>\n",
       "      <td>6.0</td>\n",
       "      <td>2.5</td>\n",
       "    </tr>\n",
       "    <tr>\n",
       "      <th>3</th>\n",
       "      <td>7.0</td>\n",
       "      <td>3.2</td>\n",
       "      <td>4.7</td>\n",
       "      <td>1.4</td>\n",
       "    </tr>\n",
       "    <tr>\n",
       "      <th>4</th>\n",
       "      <td>5.8</td>\n",
       "      <td>2.7</td>\n",
       "      <td>5.1</td>\n",
       "      <td>1.9</td>\n",
       "    </tr>\n",
       "    <tr>\n",
       "      <th>5</th>\n",
       "      <td>5.3</td>\n",
       "      <td>3.7</td>\n",
       "      <td>1.5</td>\n",
       "      <td>0.2</td>\n",
       "    </tr>\n",
       "  </tbody>\n",
       "</table>\n",
       "</div>"
      ],
      "text/plain": [
       "   sepal_length  sepal_width  petal_length  petal_width\n",
       "0           6.4          3.2           4.5          1.5\n",
       "1           5.0          3.3           1.4          0.2\n",
       "2           6.3          3.3           6.0          2.5\n",
       "3           7.0          3.2           4.7          1.4\n",
       "4           5.8          2.7           5.1          1.9\n",
       "5           5.3          3.7           1.5          0.2"
      ]
     },
     "execution_count": 50,
     "metadata": {},
     "output_type": "execute_result"
    }
   ],
   "source": [
    "Prediction =  pd.DataFrame({ 'sepal_length': [6.4, 5, 6.3, 7, 5.8, 5.3], \n",
    "                  'sepal_width': [3.2, 3.3, 3.3, 3.2, 2.7, 3.7],\n",
    "                    'petal_length': [4.5, 1.4, 6, 4.7, 5.1, 1.5],\n",
    "                           'petal_width': [1.5,0.2, 2.5, 1.4, 1.9, 0.2],} )\n",
    "Prediction"
   ]
  },
  {
   "cell_type": "code",
   "execution_count": 51,
   "metadata": {},
   "outputs": [
    {
     "data": {
      "text/html": [
       "<div>\n",
       "<style scoped>\n",
       "    .dataframe tbody tr th:only-of-type {\n",
       "        vertical-align: middle;\n",
       "    }\n",
       "\n",
       "    .dataframe tbody tr th {\n",
       "        vertical-align: top;\n",
       "    }\n",
       "\n",
       "    .dataframe thead th {\n",
       "        text-align: right;\n",
       "    }\n",
       "</style>\n",
       "<table border=\"1\" class=\"dataframe\">\n",
       "  <thead>\n",
       "    <tr style=\"text-align: right;\">\n",
       "      <th></th>\n",
       "      <th>sepal_length</th>\n",
       "      <th>sepal_width</th>\n",
       "    </tr>\n",
       "  </thead>\n",
       "  <tbody>\n",
       "    <tr>\n",
       "      <th>0</th>\n",
       "      <td>6.4</td>\n",
       "      <td>3.2</td>\n",
       "    </tr>\n",
       "    <tr>\n",
       "      <th>1</th>\n",
       "      <td>5.0</td>\n",
       "      <td>3.3</td>\n",
       "    </tr>\n",
       "    <tr>\n",
       "      <th>2</th>\n",
       "      <td>6.3</td>\n",
       "      <td>3.3</td>\n",
       "    </tr>\n",
       "    <tr>\n",
       "      <th>3</th>\n",
       "      <td>7.0</td>\n",
       "      <td>3.2</td>\n",
       "    </tr>\n",
       "    <tr>\n",
       "      <th>4</th>\n",
       "      <td>5.8</td>\n",
       "      <td>2.7</td>\n",
       "    </tr>\n",
       "    <tr>\n",
       "      <th>5</th>\n",
       "      <td>5.3</td>\n",
       "      <td>3.7</td>\n",
       "    </tr>\n",
       "  </tbody>\n",
       "</table>\n",
       "</div>"
      ],
      "text/plain": [
       "   sepal_length  sepal_width\n",
       "0           6.4          3.2\n",
       "1           5.0          3.3\n",
       "2           6.3          3.3\n",
       "3           7.0          3.2\n",
       "4           5.8          2.7\n",
       "5           5.3          3.7"
      ]
     },
     "execution_count": 51,
     "metadata": {},
     "output_type": "execute_result"
    }
   ],
   "source": [
    "prediction = [[6.4, 3.2],\n",
    "              [5, 3.3],\n",
    "              [6.3, 3.3],\n",
    "              [7, 3.2],\n",
    "              [5.8, 2.7],\n",
    "              [5.3, 3.7]]\n",
    "prediction = pd.DataFrame(prediction,columns=['sepal_length','sepal_width'])\n",
    "prediction"
   ]
  },
  {
   "cell_type": "code",
   "execution_count": 52,
   "metadata": {
    "scrolled": true
   },
   "outputs": [
    {
     "data": {
      "text/plain": [
       "array(['virginica', 'virginica', 'virginica', 'virginica', 'virginica',\n",
       "       'virginica'], dtype=object)"
      ]
     },
     "execution_count": 52,
     "metadata": {},
     "output_type": "execute_result"
    }
   ],
   "source": [
    "dt_clf.predict(prediction)"
   ]
  },
  {
   "cell_type": "markdown",
   "metadata": {},
   "source": [
    "### Which one, Decision Tree or Neural Network, produces better results? Why?"
   ]
  },
  {
   "cell_type": "markdown",
   "metadata": {},
   "source": [
    "### I don't think there is necessarily one that is \"better\" than the other. Each analysis displays a different story between variables in a dataset to better understand whether there is a linear or nonlinear relationship. Both can take a situation/scenario with data and manipulate it in a way to make better business decisions for complex problems. It depends on what the analyst wants and I believe both can help in many ways. It really depends on what message you're to to intepret and get across."
   ]
  },
  {
   "cell_type": "code",
   "execution_count": null,
   "metadata": {},
   "outputs": [],
   "source": []
  }
 ],
 "metadata": {
  "kernelspec": {
   "display_name": "Python 3",
   "language": "python",
   "name": "python3"
  },
  "language_info": {
   "codemirror_mode": {
    "name": "ipython",
    "version": 3
   },
   "file_extension": ".py",
   "mimetype": "text/x-python",
   "name": "python",
   "nbconvert_exporter": "python",
   "pygments_lexer": "ipython3",
   "version": "3.8.3"
  }
 },
 "nbformat": 4,
 "nbformat_minor": 4
}
