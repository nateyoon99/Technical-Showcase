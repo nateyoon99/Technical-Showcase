{
 "cells": [
  {
   "cell_type": "markdown",
   "metadata": {},
   "source": [
    "# Assignment 3: Pandas\n",
    "* Section: 02\n",
    "* Name: Nate Yoon\n",
    "* Due date: 2/21/21 @ noon\n",
    "* Purpose: To understand the use of DataFrames while utilizing the Pandas library. "
   ]
  },
  {
   "cell_type": "markdown",
   "metadata": {},
   "source": [
    "## Problem 1: Calculate total amount"
   ]
  },
  {
   "cell_type": "code",
   "execution_count": 1,
   "metadata": {},
   "outputs": [],
   "source": [
    "# Importing the essential libraries needed\n",
    "import numpy as np\n",
    "import pandas as pd\n",
    "import matplotlib.pyplot as plt\n",
    "import seaborn as sns"
   ]
  },
  {
   "cell_type": "code",
   "execution_count": 2,
   "metadata": {},
   "outputs": [
    {
     "data": {
      "text/plain": [
       "array(['April', 'Brian', 'Clara', 'Daniel', 'Emily'], dtype='<U6')"
      ]
     },
     "execution_count": 2,
     "metadata": {},
     "output_type": "execute_result"
    }
   ],
   "source": [
    "# Declaring an array called Customer that includes five customers: April, Brian, Clara, Daniel, and Emily\n",
    "Customer = np.array(['April', 'Brian', 'Clara', 'Daniel', 'Emily'])\n",
    "Customer"
   ]
  },
  {
   "cell_type": "code",
   "execution_count": 55,
   "metadata": {},
   "outputs": [
    {
     "data": {
      "text/plain": [
       "array([54, 57, 74, 77, 77])"
      ]
     },
     "execution_count": 55,
     "metadata": {},
     "output_type": "execute_result"
    }
   ],
   "source": [
    "# Using an integer random generator to produce an array named Quantity with five two digit integers.\n",
    "# Using a seed of my choice.  \n",
    "np.random.seed(0)\n",
    "Quantity = np.random.randint(10,99,size=5)  # 1D array\n",
    "Quantity"
   ]
  },
  {
   "cell_type": "code",
   "execution_count": 56,
   "metadata": {},
   "outputs": [
    {
     "data": {
      "text/plain": [
       "array([0.84725174, 0.6235637 , 0.38438171, 0.29753461, 0.05671298])"
      ]
     },
     "execution_count": 56,
     "metadata": {},
     "output_type": "execute_result"
    }
   ],
   "source": [
    "# Generating an array using np.random.rand() with 5 values\n",
    "# np.random.rand() is a function that creates an array of a specified shape and fills it with random values as per\n",
    "# standard normal distribution\n",
    "x1 = np.random.rand(5)\n",
    "x1"
   ]
  },
  {
   "cell_type": "code",
   "execution_count": 57,
   "metadata": {},
   "outputs": [
    {
     "data": {
      "text/plain": [
       "array([8.47251739, 6.23563697, 3.84381707, 2.97534607, 0.56712977])"
      ]
     },
     "execution_count": 57,
     "metadata": {},
     "output_type": "execute_result"
    }
   ],
   "source": [
    "# Multiplying the array (x1) by 10 to produce an array called Price.\n",
    "y = 10 \n",
    "Price = y*np.array(x1)\n",
    "Price"
   ]
  },
  {
   "cell_type": "code",
   "execution_count": 58,
   "metadata": {},
   "outputs": [
    {
     "data": {
      "text/html": [
       "<div>\n",
       "<style scoped>\n",
       "    .dataframe tbody tr th:only-of-type {\n",
       "        vertical-align: middle;\n",
       "    }\n",
       "\n",
       "    .dataframe tbody tr th {\n",
       "        vertical-align: top;\n",
       "    }\n",
       "\n",
       "    .dataframe thead th {\n",
       "        text-align: right;\n",
       "    }\n",
       "</style>\n",
       "<table border=\"1\" class=\"dataframe\">\n",
       "  <thead>\n",
       "    <tr style=\"text-align: right;\">\n",
       "      <th></th>\n",
       "      <th>Customer</th>\n",
       "      <th>Quantity</th>\n",
       "      <th>Price</th>\n",
       "    </tr>\n",
       "  </thead>\n",
       "  <tbody>\n",
       "    <tr>\n",
       "      <th>0</th>\n",
       "      <td>April</td>\n",
       "      <td>54</td>\n",
       "      <td>8.472517</td>\n",
       "    </tr>\n",
       "    <tr>\n",
       "      <th>1</th>\n",
       "      <td>Brian</td>\n",
       "      <td>57</td>\n",
       "      <td>6.235637</td>\n",
       "    </tr>\n",
       "    <tr>\n",
       "      <th>2</th>\n",
       "      <td>Clara</td>\n",
       "      <td>74</td>\n",
       "      <td>3.843817</td>\n",
       "    </tr>\n",
       "    <tr>\n",
       "      <th>3</th>\n",
       "      <td>Daniel</td>\n",
       "      <td>77</td>\n",
       "      <td>2.975346</td>\n",
       "    </tr>\n",
       "    <tr>\n",
       "      <th>4</th>\n",
       "      <td>Emily</td>\n",
       "      <td>77</td>\n",
       "      <td>0.567130</td>\n",
       "    </tr>\n",
       "  </tbody>\n",
       "</table>\n",
       "</div>"
      ],
      "text/plain": [
       "  Customer  Quantity     Price\n",
       "0    April        54  8.472517\n",
       "1    Brian        57  6.235637\n",
       "2    Clara        74  3.843817\n",
       "3   Daniel        77  2.975346\n",
       "4    Emily        77  0.567130"
      ]
     },
     "execution_count": 58,
     "metadata": {},
     "output_type": "execute_result"
    }
   ],
   "source": [
    "# Using the three arrays above to create a DataFrame called sales with the three columns: Customer, Quantity, and Price. \n",
    "sales =  pd.DataFrame({'Customer': Customer,'Quantity': Quantity,'Price': Price})\n",
    "sales"
   ]
  },
  {
   "cell_type": "code",
   "execution_count": 59,
   "metadata": {},
   "outputs": [
    {
     "data": {
      "text/plain": [
       "array([457.51593894, 355.43130717, 284.4424634 , 229.10164704,\n",
       "        43.66899253])"
      ]
     },
     "execution_count": 59,
     "metadata": {},
     "output_type": "execute_result"
    }
   ],
   "source": [
    "# Calculating ExtendedAmount for each customer. ExtendedAmount is the product of Quantity and Price.  \n",
    "ExtendedAmount= Quantity * Price\n",
    "ExtendedAmount"
   ]
  },
  {
   "cell_type": "code",
   "execution_count": 60,
   "metadata": {},
   "outputs": [
    {
     "data": {
      "text/html": [
       "<div>\n",
       "<style scoped>\n",
       "    .dataframe tbody tr th:only-of-type {\n",
       "        vertical-align: middle;\n",
       "    }\n",
       "\n",
       "    .dataframe tbody tr th {\n",
       "        vertical-align: top;\n",
       "    }\n",
       "\n",
       "    .dataframe thead th {\n",
       "        text-align: right;\n",
       "    }\n",
       "</style>\n",
       "<table border=\"1\" class=\"dataframe\">\n",
       "  <thead>\n",
       "    <tr style=\"text-align: right;\">\n",
       "      <th></th>\n",
       "      <th>Customer</th>\n",
       "      <th>Quantity</th>\n",
       "      <th>Price</th>\n",
       "      <th>ExtendedAmount</th>\n",
       "    </tr>\n",
       "  </thead>\n",
       "  <tbody>\n",
       "    <tr>\n",
       "      <th>0</th>\n",
       "      <td>April</td>\n",
       "      <td>54</td>\n",
       "      <td>8.472517</td>\n",
       "      <td>457.515939</td>\n",
       "    </tr>\n",
       "    <tr>\n",
       "      <th>1</th>\n",
       "      <td>Brian</td>\n",
       "      <td>57</td>\n",
       "      <td>6.235637</td>\n",
       "      <td>355.431307</td>\n",
       "    </tr>\n",
       "    <tr>\n",
       "      <th>2</th>\n",
       "      <td>Clara</td>\n",
       "      <td>74</td>\n",
       "      <td>3.843817</td>\n",
       "      <td>284.442463</td>\n",
       "    </tr>\n",
       "    <tr>\n",
       "      <th>3</th>\n",
       "      <td>Daniel</td>\n",
       "      <td>77</td>\n",
       "      <td>2.975346</td>\n",
       "      <td>229.101647</td>\n",
       "    </tr>\n",
       "    <tr>\n",
       "      <th>4</th>\n",
       "      <td>Emily</td>\n",
       "      <td>77</td>\n",
       "      <td>0.567130</td>\n",
       "      <td>43.668993</td>\n",
       "    </tr>\n",
       "  </tbody>\n",
       "</table>\n",
       "</div>"
      ],
      "text/plain": [
       "  Customer  Quantity     Price  ExtendedAmount\n",
       "0    April        54  8.472517      457.515939\n",
       "1    Brian        57  6.235637      355.431307\n",
       "2    Clara        74  3.843817      284.442463\n",
       "3   Daniel        77  2.975346      229.101647\n",
       "4    Emily        77  0.567130       43.668993"
      ]
     },
     "execution_count": 60,
     "metadata": {},
     "output_type": "execute_result"
    }
   ],
   "source": [
    "# Adding ExtendedAmount as a column to the sales Dataframe\n",
    "sales['ExtendedAmount'] = pd.Series(ExtendedAmount)\n",
    "sales"
   ]
  },
  {
   "cell_type": "code",
   "execution_count": 61,
   "metadata": {},
   "outputs": [],
   "source": [
    "# Creating a function that calculates the discount for each customer based on the following discount rates:  \n",
    "def discount(x):\n",
    "    if x >= 500:\n",
    "        return \"20%\"\n",
    "    elif x >= 400:\n",
    "        return \"15%\"\n",
    "    elif x >= 200:\n",
    "        return \"10%\"\n",
    "    else:\n",
    "        return\"No discount\""
   ]
  },
  {
   "cell_type": "code",
   "execution_count": 62,
   "metadata": {},
   "outputs": [
    {
     "data": {
      "text/html": [
       "<div>\n",
       "<style scoped>\n",
       "    .dataframe tbody tr th:only-of-type {\n",
       "        vertical-align: middle;\n",
       "    }\n",
       "\n",
       "    .dataframe tbody tr th {\n",
       "        vertical-align: top;\n",
       "    }\n",
       "\n",
       "    .dataframe thead th {\n",
       "        text-align: right;\n",
       "    }\n",
       "</style>\n",
       "<table border=\"1\" class=\"dataframe\">\n",
       "  <thead>\n",
       "    <tr style=\"text-align: right;\">\n",
       "      <th></th>\n",
       "      <th>Customer</th>\n",
       "      <th>Quantity</th>\n",
       "      <th>Price</th>\n",
       "      <th>ExtendedAmount</th>\n",
       "      <th>Discounts</th>\n",
       "    </tr>\n",
       "  </thead>\n",
       "  <tbody>\n",
       "    <tr>\n",
       "      <th>0</th>\n",
       "      <td>April</td>\n",
       "      <td>54</td>\n",
       "      <td>8.472517</td>\n",
       "      <td>457.515939</td>\n",
       "      <td>15%</td>\n",
       "    </tr>\n",
       "    <tr>\n",
       "      <th>1</th>\n",
       "      <td>Brian</td>\n",
       "      <td>57</td>\n",
       "      <td>6.235637</td>\n",
       "      <td>355.431307</td>\n",
       "      <td>10%</td>\n",
       "    </tr>\n",
       "    <tr>\n",
       "      <th>2</th>\n",
       "      <td>Clara</td>\n",
       "      <td>74</td>\n",
       "      <td>3.843817</td>\n",
       "      <td>284.442463</td>\n",
       "      <td>10%</td>\n",
       "    </tr>\n",
       "    <tr>\n",
       "      <th>3</th>\n",
       "      <td>Daniel</td>\n",
       "      <td>77</td>\n",
       "      <td>2.975346</td>\n",
       "      <td>229.101647</td>\n",
       "      <td>10%</td>\n",
       "    </tr>\n",
       "    <tr>\n",
       "      <th>4</th>\n",
       "      <td>Emily</td>\n",
       "      <td>77</td>\n",
       "      <td>0.567130</td>\n",
       "      <td>43.668993</td>\n",
       "      <td>No discount</td>\n",
       "    </tr>\n",
       "  </tbody>\n",
       "</table>\n",
       "</div>"
      ],
      "text/plain": [
       "  Customer  Quantity     Price  ExtendedAmount    Discounts\n",
       "0    April        54  8.472517      457.515939          15%\n",
       "1    Brian        57  6.235637      355.431307          10%\n",
       "2    Clara        74  3.843817      284.442463          10%\n",
       "3   Daniel        77  2.975346      229.101647          10%\n",
       "4    Emily        77  0.567130       43.668993  No discount"
      ]
     },
     "execution_count": 62,
     "metadata": {},
     "output_type": "execute_result"
    }
   ],
   "source": [
    "# Applying the discount function to the ExtendedAmount column and add the discounts to a new column called Discounts\n",
    "sales['Discounts'] = sales['ExtendedAmount'].apply(discount)\n",
    "sales"
   ]
  },
  {
   "cell_type": "code",
   "execution_count": 63,
   "metadata": {},
   "outputs": [
    {
     "data": {
      "text/html": [
       "<div>\n",
       "<style scoped>\n",
       "    .dataframe tbody tr th:only-of-type {\n",
       "        vertical-align: middle;\n",
       "    }\n",
       "\n",
       "    .dataframe tbody tr th {\n",
       "        vertical-align: top;\n",
       "    }\n",
       "\n",
       "    .dataframe thead th {\n",
       "        text-align: right;\n",
       "    }\n",
       "</style>\n",
       "<table border=\"1\" class=\"dataframe\">\n",
       "  <thead>\n",
       "    <tr style=\"text-align: right;\">\n",
       "      <th></th>\n",
       "      <th>Customer</th>\n",
       "      <th>Quantity</th>\n",
       "      <th>Price</th>\n",
       "      <th>ExtendedAmount</th>\n",
       "      <th>Discounts</th>\n",
       "      <th>DiscountedAmount</th>\n",
       "    </tr>\n",
       "  </thead>\n",
       "  <tbody>\n",
       "    <tr>\n",
       "      <th>0</th>\n",
       "      <td>April</td>\n",
       "      <td>54</td>\n",
       "      <td>8.472517</td>\n",
       "      <td>457.515939</td>\n",
       "      <td>15%</td>\n",
       "      <td>388.888548</td>\n",
       "    </tr>\n",
       "    <tr>\n",
       "      <th>1</th>\n",
       "      <td>Brian</td>\n",
       "      <td>57</td>\n",
       "      <td>6.235637</td>\n",
       "      <td>355.431307</td>\n",
       "      <td>10%</td>\n",
       "      <td>319.888176</td>\n",
       "    </tr>\n",
       "    <tr>\n",
       "      <th>2</th>\n",
       "      <td>Clara</td>\n",
       "      <td>74</td>\n",
       "      <td>3.843817</td>\n",
       "      <td>284.442463</td>\n",
       "      <td>10%</td>\n",
       "      <td>255.998217</td>\n",
       "    </tr>\n",
       "    <tr>\n",
       "      <th>3</th>\n",
       "      <td>Daniel</td>\n",
       "      <td>77</td>\n",
       "      <td>2.975346</td>\n",
       "      <td>229.101647</td>\n",
       "      <td>10%</td>\n",
       "      <td>206.191482</td>\n",
       "    </tr>\n",
       "    <tr>\n",
       "      <th>4</th>\n",
       "      <td>Emily</td>\n",
       "      <td>77</td>\n",
       "      <td>0.567130</td>\n",
       "      <td>43.668993</td>\n",
       "      <td>No discount</td>\n",
       "      <td>43.668993</td>\n",
       "    </tr>\n",
       "  </tbody>\n",
       "</table>\n",
       "</div>"
      ],
      "text/plain": [
       "  Customer  Quantity     Price  ExtendedAmount    Discounts  DiscountedAmount\n",
       "0    April        54  8.472517      457.515939          15%        388.888548\n",
       "1    Brian        57  6.235637      355.431307          10%        319.888176\n",
       "2    Clara        74  3.843817      284.442463          10%        255.998217\n",
       "3   Daniel        77  2.975346      229.101647          10%        206.191482\n",
       "4    Emily        77  0.567130       43.668993  No discount         43.668993"
      ]
     },
     "execution_count": 63,
     "metadata": {},
     "output_type": "execute_result"
    }
   ],
   "source": [
    "# Adding a new column called DiscountedAmount, subtracting Discounts from ExtendedAmount.\n",
    "discounted_amount = []\n",
    "for x in ExtendedAmount:\n",
    "    if x >= 500:\n",
    "        x = x * .8\n",
    "    elif x >= 400:\n",
    "        x = x * .85\n",
    "    elif x >= 200:\n",
    "        x = x * .9\n",
    "    else:\n",
    "        x = x \n",
    "    discounted_amount.append(x) # Adding x value to the discounted_amount array \n",
    "\n",
    "# Displaying final DataFrame\n",
    "sales['DiscountedAmount'] = discounted_amount \n",
    "sales"
   ]
  },
  {
   "cell_type": "markdown",
   "metadata": {},
   "source": [
    "## Problem 2: Index and slice DataFrame"
   ]
  },
  {
   "cell_type": "code",
   "execution_count": 64,
   "metadata": {},
   "outputs": [
    {
     "data": {
      "text/plain": [
       "(5, 6)"
      ]
     },
     "execution_count": 64,
     "metadata": {},
     "output_type": "execute_result"
    }
   ],
   "source": [
    "# How many columns and how many rows? \n",
    "# .shape command gives row count and column count (row count, column count)\n",
    "sales.shape"
   ]
  },
  {
   "cell_type": "code",
   "execution_count": 65,
   "metadata": {},
   "outputs": [
    {
     "data": {
      "text/plain": [
       "Index(['Customer', 'Quantity', 'Price', 'ExtendedAmount', 'Discounts',\n",
       "       'DiscountedAmount'],\n",
       "      dtype='object')"
      ]
     },
     "execution_count": 65,
     "metadata": {},
     "output_type": "execute_result"
    }
   ],
   "source": [
    "# What are the column names?  \n",
    "# .columns command displays column names of the DataFrame\n",
    "sales.columns"
   ]
  },
  {
   "cell_type": "code",
   "execution_count": 66,
   "metadata": {},
   "outputs": [
    {
     "data": {
      "text/html": [
       "<div>\n",
       "<style scoped>\n",
       "    .dataframe tbody tr th:only-of-type {\n",
       "        vertical-align: middle;\n",
       "    }\n",
       "\n",
       "    .dataframe tbody tr th {\n",
       "        vertical-align: top;\n",
       "    }\n",
       "\n",
       "    .dataframe thead th {\n",
       "        text-align: right;\n",
       "    }\n",
       "</style>\n",
       "<table border=\"1\" class=\"dataframe\">\n",
       "  <thead>\n",
       "    <tr style=\"text-align: right;\">\n",
       "      <th></th>\n",
       "      <th>DiscountedAmount</th>\n",
       "    </tr>\n",
       "  </thead>\n",
       "  <tbody>\n",
       "    <tr>\n",
       "      <th>0</th>\n",
       "      <td>388.888548</td>\n",
       "    </tr>\n",
       "    <tr>\n",
       "      <th>1</th>\n",
       "      <td>319.888176</td>\n",
       "    </tr>\n",
       "    <tr>\n",
       "      <th>2</th>\n",
       "      <td>255.998217</td>\n",
       "    </tr>\n",
       "    <tr>\n",
       "      <th>3</th>\n",
       "      <td>206.191482</td>\n",
       "    </tr>\n",
       "    <tr>\n",
       "      <th>4</th>\n",
       "      <td>43.668993</td>\n",
       "    </tr>\n",
       "  </tbody>\n",
       "</table>\n",
       "</div>"
      ],
      "text/plain": [
       "   DiscountedAmount\n",
       "0        388.888548\n",
       "1        319.888176\n",
       "2        255.998217\n",
       "3        206.191482\n",
       "4         43.668993"
      ]
     },
     "execution_count": 66,
     "metadata": {},
     "output_type": "execute_result"
    }
   ],
   "source": [
    "# How to retrieve the values of the DiscountedAmount column?\n",
    "# [['x']] command retrieves values of specific column (x being column name)\n",
    "sales[['DiscountedAmount']]"
   ]
  },
  {
   "cell_type": "code",
   "execution_count": 67,
   "metadata": {},
   "outputs": [
    {
     "data": {
      "text/html": [
       "<div>\n",
       "<style scoped>\n",
       "    .dataframe tbody tr th:only-of-type {\n",
       "        vertical-align: middle;\n",
       "    }\n",
       "\n",
       "    .dataframe tbody tr th {\n",
       "        vertical-align: top;\n",
       "    }\n",
       "\n",
       "    .dataframe thead th {\n",
       "        text-align: right;\n",
       "    }\n",
       "</style>\n",
       "<table border=\"1\" class=\"dataframe\">\n",
       "  <thead>\n",
       "    <tr style=\"text-align: right;\">\n",
       "      <th></th>\n",
       "      <th>Customer</th>\n",
       "      <th>Quantity</th>\n",
       "    </tr>\n",
       "  </thead>\n",
       "  <tbody>\n",
       "    <tr>\n",
       "      <th>2</th>\n",
       "      <td>Clara</td>\n",
       "      <td>74</td>\n",
       "    </tr>\n",
       "    <tr>\n",
       "      <th>3</th>\n",
       "      <td>Daniel</td>\n",
       "      <td>77</td>\n",
       "    </tr>\n",
       "    <tr>\n",
       "      <th>4</th>\n",
       "      <td>Emily</td>\n",
       "      <td>77</td>\n",
       "    </tr>\n",
       "  </tbody>\n",
       "</table>\n",
       "</div>"
      ],
      "text/plain": [
       "  Customer  Quantity\n",
       "2    Clara        74\n",
       "3   Daniel        77\n",
       "4    Emily        77"
      ]
     },
     "execution_count": 67,
     "metadata": {},
     "output_type": "execute_result"
    }
   ],
   "source": [
    "# Who purchases more 70 units?\n",
    "sales[(sales['Quantity'] > 70)][['Customer', 'Quantity']]"
   ]
  },
  {
   "cell_type": "code",
   "execution_count": 68,
   "metadata": {},
   "outputs": [
    {
     "data": {
      "text/html": [
       "<div>\n",
       "<style scoped>\n",
       "    .dataframe tbody tr th:only-of-type {\n",
       "        vertical-align: middle;\n",
       "    }\n",
       "\n",
       "    .dataframe tbody tr th {\n",
       "        vertical-align: top;\n",
       "    }\n",
       "\n",
       "    .dataframe thead th {\n",
       "        text-align: right;\n",
       "    }\n",
       "</style>\n",
       "<table border=\"1\" class=\"dataframe\">\n",
       "  <thead>\n",
       "    <tr style=\"text-align: right;\">\n",
       "      <th></th>\n",
       "      <th>Customer</th>\n",
       "      <th>DiscountedAmount</th>\n",
       "    </tr>\n",
       "  </thead>\n",
       "  <tbody>\n",
       "    <tr>\n",
       "      <th>1</th>\n",
       "      <td>Brian</td>\n",
       "      <td>319.888176</td>\n",
       "    </tr>\n",
       "  </tbody>\n",
       "</table>\n",
       "</div>"
      ],
      "text/plain": [
       "  Customer  DiscountedAmount\n",
       "1    Brian        319.888176"
      ]
     },
     "execution_count": 68,
     "metadata": {},
     "output_type": "execute_result"
    }
   ],
   "source": [
    "# How much does Brian need to pay?  \n",
    "sales[(sales['Customer'] == 'Brian')][['Customer','DiscountedAmount']]"
   ]
  }
 ],
 "metadata": {
  "kernelspec": {
   "display_name": "Python 3",
   "language": "python",
   "name": "python3"
  },
  "language_info": {
   "codemirror_mode": {
    "name": "ipython",
    "version": 3
   },
   "file_extension": ".py",
   "mimetype": "text/x-python",
   "name": "python",
   "nbconvert_exporter": "python",
   "pygments_lexer": "ipython3",
   "version": "3.8.3"
  }
 },
 "nbformat": 4,
 "nbformat_minor": 4
}
