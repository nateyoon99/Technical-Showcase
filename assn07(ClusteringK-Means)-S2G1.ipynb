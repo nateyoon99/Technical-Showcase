{
 "cells": [
  {
   "cell_type": "markdown",
   "metadata": {},
   "source": [
    "# Assignment 7: Clustering - kmeans\n",
    "* BMIS 342 - Section: 02\n",
    "* Name: Nate Yoon\n",
    "* Due date: 4/17/21 @ Noon\n",
    "* Purpose: To practice and understand the use of clustering and kmeans"
   ]
  },
  {
   "cell_type": "code",
   "execution_count": 2,
   "metadata": {},
   "outputs": [],
   "source": [
    "# -- import the libraries --\n",
    "import numpy as np\n",
    "import pandas as pd\n",
    "import seaborn as sns\n",
    "import matplotlib.pyplot as plt"
   ]
  },
  {
   "cell_type": "code",
   "execution_count": 3,
   "metadata": {},
   "outputs": [],
   "source": [
    "# -- load the dataset --\n",
    "df = pd.read_csv('http://barney.gonzaga.edu/~chuang/data/dmba/Pharmaceuticals.csv')"
   ]
  },
  {
   "cell_type": "code",
   "execution_count": 4,
   "metadata": {},
   "outputs": [
    {
     "data": {
      "text/plain": [
       "(21, 14)"
      ]
     },
     "execution_count": 4,
     "metadata": {},
     "output_type": "execute_result"
    }
   ],
   "source": [
    "# .shape returns the number of (rows, columns) in dataframe\n",
    "df.shape"
   ]
  },
  {
   "cell_type": "code",
   "execution_count": 5,
   "metadata": {
    "scrolled": true
   },
   "outputs": [
    {
     "data": {
      "text/html": [
       "<div>\n",
       "<style scoped>\n",
       "    .dataframe tbody tr th:only-of-type {\n",
       "        vertical-align: middle;\n",
       "    }\n",
       "\n",
       "    .dataframe tbody tr th {\n",
       "        vertical-align: top;\n",
       "    }\n",
       "\n",
       "    .dataframe thead th {\n",
       "        text-align: right;\n",
       "    }\n",
       "</style>\n",
       "<table border=\"1\" class=\"dataframe\">\n",
       "  <thead>\n",
       "    <tr style=\"text-align: right;\">\n",
       "      <th></th>\n",
       "      <th>Symbol</th>\n",
       "      <th>Name</th>\n",
       "      <th>Market_Cap</th>\n",
       "      <th>Beta</th>\n",
       "      <th>PE_Ratio</th>\n",
       "      <th>ROE</th>\n",
       "      <th>ROA</th>\n",
       "      <th>Asset_Turnover</th>\n",
       "      <th>Leverage</th>\n",
       "      <th>Rev_Growth</th>\n",
       "      <th>Net_Profit_Margin</th>\n",
       "      <th>Median_Recommendation</th>\n",
       "      <th>Location</th>\n",
       "      <th>Exchange</th>\n",
       "    </tr>\n",
       "  </thead>\n",
       "  <tbody>\n",
       "    <tr>\n",
       "      <th>0</th>\n",
       "      <td>ABT</td>\n",
       "      <td>Abbott Laboratories</td>\n",
       "      <td>68.44</td>\n",
       "      <td>0.32</td>\n",
       "      <td>24.7</td>\n",
       "      <td>26.4</td>\n",
       "      <td>11.8</td>\n",
       "      <td>0.7</td>\n",
       "      <td>0.42</td>\n",
       "      <td>7.54</td>\n",
       "      <td>16.1</td>\n",
       "      <td>Moderate Buy</td>\n",
       "      <td>US</td>\n",
       "      <td>NYSE</td>\n",
       "    </tr>\n",
       "    <tr>\n",
       "      <th>1</th>\n",
       "      <td>AGN</td>\n",
       "      <td>Allergan, Inc.</td>\n",
       "      <td>7.58</td>\n",
       "      <td>0.41</td>\n",
       "      <td>82.5</td>\n",
       "      <td>12.9</td>\n",
       "      <td>5.5</td>\n",
       "      <td>0.9</td>\n",
       "      <td>0.60</td>\n",
       "      <td>9.16</td>\n",
       "      <td>5.5</td>\n",
       "      <td>Moderate Buy</td>\n",
       "      <td>CANADA</td>\n",
       "      <td>NYSE</td>\n",
       "    </tr>\n",
       "    <tr>\n",
       "      <th>2</th>\n",
       "      <td>AHM</td>\n",
       "      <td>Amersham plc</td>\n",
       "      <td>6.30</td>\n",
       "      <td>0.46</td>\n",
       "      <td>20.7</td>\n",
       "      <td>14.9</td>\n",
       "      <td>7.8</td>\n",
       "      <td>0.9</td>\n",
       "      <td>0.27</td>\n",
       "      <td>7.05</td>\n",
       "      <td>11.2</td>\n",
       "      <td>Strong Buy</td>\n",
       "      <td>UK</td>\n",
       "      <td>NYSE</td>\n",
       "    </tr>\n",
       "    <tr>\n",
       "      <th>3</th>\n",
       "      <td>AZN</td>\n",
       "      <td>AstraZeneca PLC</td>\n",
       "      <td>67.63</td>\n",
       "      <td>0.52</td>\n",
       "      <td>21.5</td>\n",
       "      <td>27.4</td>\n",
       "      <td>15.4</td>\n",
       "      <td>0.9</td>\n",
       "      <td>0.00</td>\n",
       "      <td>15.00</td>\n",
       "      <td>18.0</td>\n",
       "      <td>Moderate Sell</td>\n",
       "      <td>UK</td>\n",
       "      <td>NYSE</td>\n",
       "    </tr>\n",
       "    <tr>\n",
       "      <th>4</th>\n",
       "      <td>AVE</td>\n",
       "      <td>Aventis</td>\n",
       "      <td>47.16</td>\n",
       "      <td>0.32</td>\n",
       "      <td>20.1</td>\n",
       "      <td>21.8</td>\n",
       "      <td>7.5</td>\n",
       "      <td>0.6</td>\n",
       "      <td>0.34</td>\n",
       "      <td>26.81</td>\n",
       "      <td>12.9</td>\n",
       "      <td>Moderate Buy</td>\n",
       "      <td>FRANCE</td>\n",
       "      <td>NYSE</td>\n",
       "    </tr>\n",
       "    <tr>\n",
       "      <th>5</th>\n",
       "      <td>BAY</td>\n",
       "      <td>Bayer AG</td>\n",
       "      <td>16.90</td>\n",
       "      <td>1.11</td>\n",
       "      <td>27.9</td>\n",
       "      <td>3.9</td>\n",
       "      <td>1.4</td>\n",
       "      <td>0.6</td>\n",
       "      <td>0.00</td>\n",
       "      <td>-3.17</td>\n",
       "      <td>2.6</td>\n",
       "      <td>Hold</td>\n",
       "      <td>GERMANY</td>\n",
       "      <td>NYSE</td>\n",
       "    </tr>\n",
       "    <tr>\n",
       "      <th>6</th>\n",
       "      <td>BMY</td>\n",
       "      <td>Bristol-Myers Squibb Company</td>\n",
       "      <td>51.33</td>\n",
       "      <td>0.50</td>\n",
       "      <td>13.9</td>\n",
       "      <td>34.8</td>\n",
       "      <td>15.1</td>\n",
       "      <td>0.9</td>\n",
       "      <td>0.57</td>\n",
       "      <td>2.70</td>\n",
       "      <td>20.6</td>\n",
       "      <td>Moderate Sell</td>\n",
       "      <td>US</td>\n",
       "      <td>NYSE</td>\n",
       "    </tr>\n",
       "    <tr>\n",
       "      <th>7</th>\n",
       "      <td>CHTT</td>\n",
       "      <td>Chattem, Inc</td>\n",
       "      <td>0.41</td>\n",
       "      <td>0.85</td>\n",
       "      <td>26.0</td>\n",
       "      <td>24.1</td>\n",
       "      <td>4.3</td>\n",
       "      <td>0.6</td>\n",
       "      <td>3.51</td>\n",
       "      <td>6.38</td>\n",
       "      <td>7.5</td>\n",
       "      <td>Moderate Buy</td>\n",
       "      <td>US</td>\n",
       "      <td>NASDAQ</td>\n",
       "    </tr>\n",
       "    <tr>\n",
       "      <th>8</th>\n",
       "      <td>ELN</td>\n",
       "      <td>Elan Corporation, plc</td>\n",
       "      <td>0.78</td>\n",
       "      <td>1.08</td>\n",
       "      <td>3.6</td>\n",
       "      <td>15.1</td>\n",
       "      <td>5.1</td>\n",
       "      <td>0.3</td>\n",
       "      <td>1.07</td>\n",
       "      <td>34.21</td>\n",
       "      <td>13.3</td>\n",
       "      <td>Moderate Sell</td>\n",
       "      <td>IRELAND</td>\n",
       "      <td>NYSE</td>\n",
       "    </tr>\n",
       "    <tr>\n",
       "      <th>9</th>\n",
       "      <td>LLY</td>\n",
       "      <td>Eli Lilly and Company</td>\n",
       "      <td>73.84</td>\n",
       "      <td>0.18</td>\n",
       "      <td>27.9</td>\n",
       "      <td>31.0</td>\n",
       "      <td>13.5</td>\n",
       "      <td>0.6</td>\n",
       "      <td>0.53</td>\n",
       "      <td>6.21</td>\n",
       "      <td>23.4</td>\n",
       "      <td>Hold</td>\n",
       "      <td>US</td>\n",
       "      <td>NYSE</td>\n",
       "    </tr>\n",
       "  </tbody>\n",
       "</table>\n",
       "</div>"
      ],
      "text/plain": [
       "  Symbol                          Name  Market_Cap  Beta  PE_Ratio   ROE  \\\n",
       "0    ABT           Abbott Laboratories       68.44  0.32      24.7  26.4   \n",
       "1    AGN                Allergan, Inc.        7.58  0.41      82.5  12.9   \n",
       "2    AHM                  Amersham plc        6.30  0.46      20.7  14.9   \n",
       "3    AZN               AstraZeneca PLC       67.63  0.52      21.5  27.4   \n",
       "4    AVE                       Aventis       47.16  0.32      20.1  21.8   \n",
       "5    BAY                      Bayer AG       16.90  1.11      27.9   3.9   \n",
       "6    BMY  Bristol-Myers Squibb Company       51.33  0.50      13.9  34.8   \n",
       "7   CHTT                  Chattem, Inc        0.41  0.85      26.0  24.1   \n",
       "8    ELN         Elan Corporation, plc        0.78  1.08       3.6  15.1   \n",
       "9    LLY         Eli Lilly and Company       73.84  0.18      27.9  31.0   \n",
       "\n",
       "    ROA  Asset_Turnover  Leverage  Rev_Growth  Net_Profit_Margin  \\\n",
       "0  11.8             0.7      0.42        7.54               16.1   \n",
       "1   5.5             0.9      0.60        9.16                5.5   \n",
       "2   7.8             0.9      0.27        7.05               11.2   \n",
       "3  15.4             0.9      0.00       15.00               18.0   \n",
       "4   7.5             0.6      0.34       26.81               12.9   \n",
       "5   1.4             0.6      0.00       -3.17                2.6   \n",
       "6  15.1             0.9      0.57        2.70               20.6   \n",
       "7   4.3             0.6      3.51        6.38                7.5   \n",
       "8   5.1             0.3      1.07       34.21               13.3   \n",
       "9  13.5             0.6      0.53        6.21               23.4   \n",
       "\n",
       "  Median_Recommendation Location Exchange  \n",
       "0          Moderate Buy       US     NYSE  \n",
       "1          Moderate Buy   CANADA     NYSE  \n",
       "2            Strong Buy       UK     NYSE  \n",
       "3         Moderate Sell       UK     NYSE  \n",
       "4          Moderate Buy   FRANCE     NYSE  \n",
       "5                  Hold  GERMANY     NYSE  \n",
       "6         Moderate Sell       US     NYSE  \n",
       "7          Moderate Buy       US   NASDAQ  \n",
       "8         Moderate Sell  IRELAND     NYSE  \n",
       "9                  Hold       US     NYSE  "
      ]
     },
     "execution_count": 5,
     "metadata": {},
     "output_type": "execute_result"
    }
   ],
   "source": [
    "# printing first 10 rows of dataframe\n",
    "df.head(10)"
   ]
  },
  {
   "cell_type": "markdown",
   "metadata": {},
   "source": [
    "## Exploring The Dataset\n",
    "\n",
    "### Plotting The Data"
   ]
  },
  {
   "cell_type": "code",
   "execution_count": 6,
   "metadata": {},
   "outputs": [],
   "source": [
    "# -- extract categorical variables --\n",
    "X = df[['Market_Cap','Beta', 'PE_Ratio', 'ROE', 'ROA', 'Asset_Turnover', \n",
    "                'Leverage', 'Rev_Growth', 'Net_Profit_Margin']]"
   ]
  },
  {
   "cell_type": "markdown",
   "metadata": {},
   "source": [
    "## Correlation Analysis - Variables (1-9)"
   ]
  },
  {
   "cell_type": "code",
   "execution_count": 7,
   "metadata": {},
   "outputs": [],
   "source": [
    "# Extracting the data for variables 1-9\n",
    "X = df[['Market_Cap','Beta', 'PE_Ratio', 'ROE', 'ROA', 'Asset_Turnover', \n",
    "                'Leverage', 'Rev_Growth', 'Net_Profit_Margin']]"
   ]
  },
  {
   "cell_type": "markdown",
   "metadata": {},
   "source": [
    "### Showing two different correlation martix to better understand the dataset. The first one shows the precise numbers for each box, but is visually a little overwhelming. The second matrix below is easier to look at a high level for data visualization purposes."
   ]
  },
  {
   "cell_type": "code",
   "execution_count": 8,
   "metadata": {},
   "outputs": [
    {
     "data": {
      "image/png": "[encoded data removed]",
      "text/plain": [
       "<Figure size 432x288 with 2 Axes>"
      ]
     },
     "metadata": {
      "needs_background": "light"
     },
     "output_type": "display_data"
    }
   ],
   "source": [
    "correlation = df.corr()\n",
    "sns.heatmap(correlation, annot = True)\n",
    "plt.show()"
   ]
  },
  {
   "cell_type": "code",
   "execution_count": 8,
   "metadata": {
    "scrolled": true
   },
   "outputs": [
    {
     "data": {
      "image/png": "[encoded data removed]",
      "text/plain": [
       "<Figure size 432x288 with 2 Axes>"
      ]
     },
     "metadata": {
      "needs_background": "light"
     },
     "output_type": "display_data"
    }
   ],
   "source": [
    "# Correlation Analysis\n",
    "# We want to show relationship between each of the 9 variables on a -1 to 1 scale\n",
    "corr = X.corr()\n",
    "fig = plt.figure()\n",
    "ax = fig.add_subplot(111)\n",
    "cax = ax.matshow(corr, cmap = 'coolwarm', vmin = -1, vmax = 1)\n",
    "fig.colorbar(cax)\n",
    "ticks = np.arange(0,len(X.columns),1)\n",
    "\n",
    "# Applying labels for ticks\n",
    "\n",
    "ax.set_xticks(ticks)\n",
    "plt.xticks(ticks)\n",
    "\n",
    "# Rotationg x ticks 90 degrees\n",
    "plt.xticks(rotation = 90)\n",
    "ax.set_yticks(ticks)\n",
    "ax.set_xticklabels(X.columns)\n",
    "ax.set_yticklabels(X.columns)\n",
    "plt.show()"
   ]
  },
  {
   "cell_type": "markdown",
   "metadata": {},
   "source": [
    "## Cluster Analysis Section"
   ]
  },
  {
   "cell_type": "markdown",
   "metadata": {},
   "source": [
    "### For our cluster analysis, we are going to pick Market_Cap and Beta. \n",
    "\n",
    "### We are choosing Market_Cap to better understand the total value of the company's shares and size to help understand future risk. \n",
    "\n",
    "### We are choosing Beta because we want to further analyze the volatility and risk in correlation to Market_Cap. Looking further into the relationship between different sized companies, breaking down volatility, and determining how it relates to investors decisions/recommendations."
   ]
  },
  {
   "cell_type": "code",
   "execution_count": 9,
   "metadata": {
    "scrolled": true
   },
   "outputs": [
    {
     "data": {
      "text/plain": [
       "Text(0.5, 1.0, 'Correlation Between Market Cap & Beta')"
      ]
     },
     "execution_count": 9,
     "metadata": {},
     "output_type": "execute_result"
    },
    {
     "data": {
      "image/png": "[encoded data removed]",
      "text/plain": [
       "<Figure size 720x576 with 1 Axes>"
      ]
     },
     "metadata": {
      "needs_background": "light"
     },
     "output_type": "display_data"
    }
   ],
   "source": [
    "# -- Plot the distribution of Market_Cap and Beta (Scatter plot) --\n",
    "%matplotlib inline\n",
    "\n",
    "plt.figure(figsize=(10,8))\n",
    "sns.scatterplot(x=df['Market_Cap'],\n",
    "                y=df['Beta'])\n",
    "plt.title('Correlation Between Market Cap & Beta')"
   ]
  },
  {
   "cell_type": "markdown",
   "metadata": {},
   "source": [
    "### Standardizing The Data"
   ]
  },
  {
   "cell_type": "code",
   "execution_count": 9,
   "metadata": {},
   "outputs": [],
   "source": [
    "# -- Using Sklearn --\n",
    "from sklearn.preprocessing import StandardScaler\n",
    "scaler = StandardScaler()\n",
    "df[['Market_Cap','Beta']] = scaler.fit_transform(df[['Market_Cap','Beta']].to_numpy())\n"
   ]
  },
  {
   "cell_type": "code",
   "execution_count": 10,
   "metadata": {},
   "outputs": [
    {
     "name": "stdout",
     "output_type": "stream",
     "text": [
      "[57.65142857  0.52571429]\n"
     ]
    }
   ],
   "source": [
    "# -- Mean --\n",
    "print(scaler.mean_)"
   ]
  },
  {
   "cell_type": "code",
   "execution_count": 11,
   "metadata": {},
   "outputs": [
    {
     "data": {
      "text/plain": [
       "array([[ 0.18864228, -0.82104058],\n",
       "       [-0.87551801, -0.46183532],\n",
       "       [-0.8978993 , -0.26227685],\n",
       "       [ 0.17447912, -0.02280668],\n",
       "       [-0.18344663, -0.82104058],\n",
       "       [-0.71255426,  2.3319833 ],\n",
       "       [-0.11053259, -0.10263007],\n",
       "       [-1.00088819,  1.29427924],\n",
       "       [-0.9944186 ,  2.21224822],\n",
       "       [ 0.28306334, -1.3798043 ],\n",
       "       [ 1.12708268, -0.70130549],\n",
       "       [-0.9625952 ,  0.49604535],\n",
       "       [ 2.03317513, -0.26227685],\n",
       "       [-0.98707474,  0.89516229],\n",
       "       [ 1.30980491, -0.26227685],\n",
       "       [ 0.68190488, -1.33989261],\n",
       "       [ 2.47975176,  0.49604535],\n",
       "       [-0.02467937, -0.50174702],\n",
       "       [-0.4118057 , -0.06271838],\n",
       "       [-0.95105485, -1.14033413],\n",
       "       [-0.16543668,  0.41622196]])"
      ]
     },
     "execution_count": 11,
     "metadata": {},
     "output_type": "execute_result"
    }
   ],
   "source": [
    "# -- Scale alcohol and sugar --\n",
    "import scipy.stats as stats\n",
    "\n",
    "z_score = stats.zscore(df[['Market_Cap','Beta']])\n",
    "z_score"
   ]
  },
  {
   "cell_type": "code",
   "execution_count": 12,
   "metadata": {
    "scrolled": true
   },
   "outputs": [
    {
     "data": {
      "text/html": [
       "<div>\n",
       "<style scoped>\n",
       "    .dataframe tbody tr th:only-of-type {\n",
       "        vertical-align: middle;\n",
       "    }\n",
       "\n",
       "    .dataframe tbody tr th {\n",
       "        vertical-align: top;\n",
       "    }\n",
       "\n",
       "    .dataframe thead th {\n",
       "        text-align: right;\n",
       "    }\n",
       "</style>\n",
       "<table border=\"1\" class=\"dataframe\">\n",
       "  <thead>\n",
       "    <tr style=\"text-align: right;\">\n",
       "      <th></th>\n",
       "      <th>Market_Cap_z</th>\n",
       "      <th>Beta_z</th>\n",
       "    </tr>\n",
       "  </thead>\n",
       "  <tbody>\n",
       "    <tr>\n",
       "      <th>0</th>\n",
       "      <td>0.188642</td>\n",
       "      <td>-0.821041</td>\n",
       "    </tr>\n",
       "    <tr>\n",
       "      <th>1</th>\n",
       "      <td>-0.875518</td>\n",
       "      <td>-0.461835</td>\n",
       "    </tr>\n",
       "    <tr>\n",
       "      <th>2</th>\n",
       "      <td>-0.897899</td>\n",
       "      <td>-0.262277</td>\n",
       "    </tr>\n",
       "    <tr>\n",
       "      <th>3</th>\n",
       "      <td>0.174479</td>\n",
       "      <td>-0.022807</td>\n",
       "    </tr>\n",
       "    <tr>\n",
       "      <th>4</th>\n",
       "      <td>-0.183447</td>\n",
       "      <td>-0.821041</td>\n",
       "    </tr>\n",
       "  </tbody>\n",
       "</table>\n",
       "</div>"
      ],
      "text/plain": [
       "   Market_Cap_z    Beta_z\n",
       "0      0.188642 -0.821041\n",
       "1     -0.875518 -0.461835\n",
       "2     -0.897899 -0.262277\n",
       "3      0.174479 -0.022807\n",
       "4     -0.183447 -0.821041"
      ]
     },
     "execution_count": 12,
     "metadata": {},
     "output_type": "execute_result"
    }
   ],
   "source": [
    "# -- Save standardized data into a DataFrame --\n",
    "\n",
    "X_z = pd.DataFrame(z_score,columns=['Market_Cap_z','Beta_z'])\n",
    "\n",
    "X_z.head()"
   ]
  },
  {
   "cell_type": "markdown",
   "metadata": {},
   "source": [
    "## Modeling The Data (K = 3, 4, 5)"
   ]
  },
  {
   "cell_type": "code",
   "execution_count": 13,
   "metadata": {},
   "outputs": [],
   "source": [
    "# -- fit the model with data --\n",
    "# -- Creating three clusters --\n",
    "\n",
    "from sklearn.cluster import KMeans\n",
    "k1 = 3\n",
    "kmeans_df1 = KMeans(n_clusters = 3).fit(X_z)"
   ]
  },
  {
   "cell_type": "code",
   "execution_count": 14,
   "metadata": {},
   "outputs": [],
   "source": [
    "# -- fit the model with data --\n",
    "# -- Creating four clusters --\n",
    "\n",
    "from sklearn.cluster import KMeans\n",
    "k2 = 4\n",
    "kmeans_df2 = KMeans(n_clusters = 4).fit(X_z)"
   ]
  },
  {
   "cell_type": "code",
   "execution_count": 15,
   "metadata": {},
   "outputs": [],
   "source": [
    "# -- fit the model with data --\n",
    "# -- Creating five clusters --\n",
    "\n",
    "from sklearn.cluster import KMeans\n",
    "k3 = 5\n",
    "kmeans_df3 = KMeans(n_clusters = 5).fit(X_z)"
   ]
  },
  {
   "cell_type": "markdown",
   "metadata": {},
   "source": [
    "## Cluster Properties"
   ]
  },
  {
   "cell_type": "code",
   "execution_count": 16,
   "metadata": {},
   "outputs": [
    {
     "data": {
      "text/plain": [
       "array([1, 1, 1, 1, 1, 2, 1, 2, 2, 1, 0, 2, 0, 2, 0, 1, 0, 1, 1, 1, 1],\n",
       "      dtype=int32)"
      ]
     },
     "execution_count": 16,
     "metadata": {},
     "output_type": "execute_result"
    }
   ],
   "source": [
    "# -- Obtain the labels --\n",
    "\n",
    "label1 = kmeans_df1.labels_\n",
    "\n",
    "label1"
   ]
  },
  {
   "cell_type": "code",
   "execution_count": 17,
   "metadata": {},
   "outputs": [
    {
     "data": {
      "text/plain": [
       "array([0, 3, 3, 3, 0, 1, 3, 1, 1, 0, 2, 3, 2, 1, 2, 0, 2, 3, 3, 0, 3],\n",
       "      dtype=int32)"
      ]
     },
     "execution_count": 17,
     "metadata": {},
     "output_type": "execute_result"
    }
   ],
   "source": [
    "# -- Obtain the labels --\n",
    "\n",
    "label2 = kmeans_df2.labels_\n",
    "\n",
    "label2"
   ]
  },
  {
   "cell_type": "code",
   "execution_count": 18,
   "metadata": {},
   "outputs": [
    {
     "data": {
      "text/plain": [
       "array([3, 0, 0, 0, 3, 2, 0, 4, 2, 3, 1, 4, 1, 4, 1, 3, 1, 0, 0, 3, 0],\n",
       "      dtype=int32)"
      ]
     },
     "execution_count": 18,
     "metadata": {},
     "output_type": "execute_result"
    }
   ],
   "source": [
    "# -- Obtain the labels --\n",
    "\n",
    "label3 = kmeans_df3.labels_\n",
    "\n",
    "label3"
   ]
  },
  {
   "cell_type": "code",
   "execution_count": 19,
   "metadata": {},
   "outputs": [
    {
     "data": {
      "text/plain": [
       "array([[ 1.73745362, -0.18245346],\n",
       "       [-0.19102362, -0.54165871],\n",
       "       [-0.9315062 ,  1.44594368]])"
      ]
     },
     "execution_count": 19,
     "metadata": {},
     "output_type": "execute_result"
    }
   ],
   "source": [
    "# -- obtain the centroids --\n",
    "cluster_center1 = kmeans_df1.cluster_centers_\n",
    "cluster_center1"
   ]
  },
  {
   "cell_type": "code",
   "execution_count": 20,
   "metadata": {},
   "outputs": [
    {
     "data": {
      "text/plain": [
       "array([[ 0.0038218 , -1.10042244],\n",
       "       [-0.92373395,  1.68341826],\n",
       "       [ 1.73745362, -0.18245346],\n",
       "       [-0.40924847, -0.06271838]])"
      ]
     },
     "execution_count": 20,
     "metadata": {},
     "output_type": "execute_result"
    }
   ],
   "source": [
    "# -- obtain the centroids --\n",
    "\n",
    "cluster_center2 = kmeans_df2.cluster_centers_\n",
    "cluster_center2"
   ]
  },
  {
   "cell_type": "code",
   "execution_count": 21,
   "metadata": {},
   "outputs": [
    {
     "data": {
      "text/plain": [
       "array([[-0.33019893, -0.14254177],\n",
       "       [ 1.73745362, -0.18245346],\n",
       "       [-0.85348643,  2.27211576],\n",
       "       [ 0.0038218 , -1.10042244],\n",
       "       [-0.98351938,  0.89516229]])"
      ]
     },
     "execution_count": 21,
     "metadata": {},
     "output_type": "execute_result"
    }
   ],
   "source": [
    "# -- obtain the centroids --\n",
    "\n",
    "cluster_center3 = kmeans_df3.cluster_centers_\n",
    "cluster_center3"
   ]
  },
  {
   "cell_type": "markdown",
   "metadata": {},
   "source": [
    "## Combining Data"
   ]
  },
  {
   "cell_type": "code",
   "execution_count": 22,
   "metadata": {},
   "outputs": [],
   "source": [
    "# -- Merge original data, rescaled data and cluster labels --\n",
    "\n",
    "clt1 = pd.DataFrame(label1, columns=['label'])\n",
    "\n",
    "df_cluster1 = pd.concat([X,X_z,clt1],axis=1)"
   ]
  },
  {
   "cell_type": "code",
   "execution_count": 24,
   "metadata": {},
   "outputs": [],
   "source": [
    "# -- Merge original data, rescaled data and cluster labels --\n",
    "\n",
    "clt2 = pd.DataFrame(label2, columns=['label'])\n",
    "\n",
    "df_cluster2 = pd.concat([X,X_z,clt2],axis=1)"
   ]
  },
  {
   "cell_type": "code",
   "execution_count": 25,
   "metadata": {},
   "outputs": [],
   "source": [
    "# -- Merge original data, rescaled data and cluster labels --\n",
    "\n",
    "clt3 = pd.DataFrame(label3, columns=['label'])\n",
    "\n",
    "df_cluster3 = pd.concat([X,X_z,clt3],axis=1)"
   ]
  },
  {
   "cell_type": "markdown",
   "metadata": {},
   "source": [
    "## 15.2(b). Interpret the clusters with respect to the categorical variables used in forming the clusters.\n",
    "\n",
    "### Answer: (Cluster Plotting is down below) After plotting cluster analyses for K = 3, 4, 5, we can see a relationship with a smaller market cap there is a higher beta. This means the smaller market cap entails a higher volatilty. The higher the market cap, the beta tends to be on average lower."
   ]
  },
  {
   "cell_type": "markdown",
   "metadata": {},
   "source": [
    "## 15.2(c). Is there a pattern in the clusters with respect to the numerical variables (10-12)?\n",
    "\n",
    "### Answer: Yes, there are several relationships. Usually an investment with a high market cap and a low beta results in a \"hold\" for Median_Recommendation. Also, a high beta and lower market cap results in a \"buy\" recommendation. The correlation with location and stock exchange is harder to judge/interpret."
   ]
  },
  {
   "cell_type": "markdown",
   "metadata": {},
   "source": [
    "## 15.2(d). Provide an appropriate name for each cluster using any or all of the variables in the dataset.\n",
    "\n",
    "### Labels:\n",
    "### 0: Small Cap/Moderate Volatility Investment\n",
    "### 1: Small Cap/High Volatility Investment\n",
    "### 2: Medium Cap/Moderate Volatility Investment\n",
    "### 3: Large Cap/Moderate Volatility Investment\n",
    "### 4: Large Cap/Low Volatility Investment"
   ]
  },
  {
   "cell_type": "markdown",
   "metadata": {},
   "source": [
    "## Plot Clusters"
   ]
  },
  {
   "cell_type": "markdown",
   "metadata": {},
   "source": [
    "## Seaborn"
   ]
  },
  {
   "cell_type": "markdown",
   "metadata": {},
   "source": [
    "## K = 3"
   ]
  },
  {
   "cell_type": "code",
   "execution_count": 26,
   "metadata": {},
   "outputs": [
    {
     "data": {
      "image/png": "[encoded data removed]",
      "text/plain": [
       "<Figure size 720x576 with 1 Axes>"
      ]
     },
     "metadata": {
      "needs_background": "light"
     },
     "output_type": "display_data"
    }
   ],
   "source": [
    "# -- plot clusters --\n",
    "\n",
    "plt.figure(figsize = (10,8))\n",
    "sns.scatterplot(df_cluster1['Market_Cap_z'],\n",
    "               df_cluster1['Beta_z'],\n",
    "               hue = df_cluster1['label']);\n",
    "\n",
    "# -- plot centroids of the clusters --\n",
    "\n",
    "plt.plot(cluster_center1[:,0],\n",
    "        cluster_center1[:,1],\n",
    "        'r*',\n",
    "        markersize = 10);"
   ]
  },
  {
   "cell_type": "markdown",
   "metadata": {},
   "source": [
    "## K = 4"
   ]
  },
  {
   "cell_type": "code",
   "execution_count": 27,
   "metadata": {
    "scrolled": false
   },
   "outputs": [
    {
     "data": {
      "image/png": "[encoded data removed]",
      "text/plain": [
       "<Figure size 720x576 with 1 Axes>"
      ]
     },
     "metadata": {
      "needs_background": "light"
     },
     "output_type": "display_data"
    }
   ],
   "source": [
    "# -- plot clusters --\n",
    "\n",
    "plt.figure(figsize = (10,8))\n",
    "sns.scatterplot(df_cluster2['Market_Cap_z'],\n",
    "               df_cluster2['Beta_z'],\n",
    "               hue = df_cluster2['label']);\n",
    "\n",
    "# -- plot centroids of the clusters --\n",
    "\n",
    "plt.plot(cluster_center2[:,0],\n",
    "        cluster_center2[:,1],\n",
    "        'r*',\n",
    "        markersize = 10);"
   ]
  },
  {
   "cell_type": "markdown",
   "metadata": {},
   "source": [
    "## K = 5"
   ]
  },
  {
   "cell_type": "code",
   "execution_count": 28,
   "metadata": {
    "scrolled": true
   },
   "outputs": [
    {
     "data": {
      "image/png": "[encoded data removed]",
      "text/plain": [
       "<Figure size 720x576 with 1 Axes>"
      ]
     },
     "metadata": {
      "needs_background": "light"
     },
     "output_type": "display_data"
    }
   ],
   "source": [
    "# -- plot clusters --\n",
    "\n",
    "plt.figure(figsize = (10,8))\n",
    "sns.scatterplot(df_cluster3['Market_Cap_z'],\n",
    "               df_cluster3['Beta_z'],\n",
    "               hue = df_cluster3['label']);\n",
    "\n",
    "# -- plot centroids of the clusters --\n",
    "\n",
    "plt.plot(cluster_center3[:,0],\n",
    "        cluster_center3[:,1],\n",
    "        'r*',\n",
    "        markersize = 10);"
   ]
  }
 ],
 "metadata": {
  "kernelspec": {
   "display_name": "Python 3",
   "language": "python",
   "name": "python3"
  },
  "language_info": {
   "codemirror_mode": {
    "name": "ipython",
    "version": 3
   },
   "file_extension": ".py",
   "mimetype": "text/x-python",
   "name": "python",
   "nbconvert_exporter": "python",
   "pygments_lexer": "ipython3",
   "version": "3.8.3"
  }
 },
 "nbformat": 4,
 "nbformat_minor": 4
}
