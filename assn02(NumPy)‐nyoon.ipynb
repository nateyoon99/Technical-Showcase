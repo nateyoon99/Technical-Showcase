{
 "cells": [
  {
   "cell_type": "markdown",
   "metadata": {},
   "source": [
    "# Assignment 2: NumPy\n",
    "\n",
    "* Section: 02\n",
    "* Name: Nate Yoon\n",
    "* Due date: 2/13/21 @ noon\n",
    "* Purpose: Assignment 2 is to enhance our knowledge in slicing, declaring, and indexing numpy arrays. Also, this assignment allowed us to define functions, use if statements, and calculate various problems using the python language."
   ]
  },
  {
   "cell_type": "code",
   "execution_count": 1,
   "metadata": {},
   "outputs": [],
   "source": [
    "# Importing the 4 essential libraries \n",
    "import numpy as np\n",
    "import pandas as pd\n",
    "import matplotlib.pyplot as plt\n",
    "import seaborn as sns"
   ]
  },
  {
   "cell_type": "markdown",
   "metadata": {},
   "source": [
    "## Problem 1: Slicing and Indexing a NumPy Array"
   ]
  },
  {
   "cell_type": "code",
   "execution_count": 2,
   "metadata": {},
   "outputs": [
    {
     "data": {
      "text/plain": [
       "array([[18, 34, 77, 97, 89, 58],\n",
       "       [20, 62, 63, 76, 24, 44],\n",
       "       [34, 25, 70, 68, 26, 19],\n",
       "       [96, 12, 37, 14, 41, 11],\n",
       "       [23, 93, 14, 69, 77, 17],\n",
       "       [59, 57, 75, 71, 24, 65]])"
      ]
     },
     "execution_count": 2,
     "metadata": {},
     "output_type": "execute_result"
    }
   ],
   "source": [
    "# Setting a random seed at 100 and creating a matrix of 6 rows by 6 columns with values between 10 and 99(inclusively)  \n",
    "np.random.seed(100)\n",
    "x2 = np.random.randint(low=10, high=100, size=(6, 6))  # 2D array\n",
    "x2"
   ]
  },
  {
   "cell_type": "code",
   "execution_count": 3,
   "metadata": {},
   "outputs": [
    {
     "data": {
      "text/plain": [
       "array([34, 25, 70, 68, 26, 19])"
      ]
     },
     "execution_count": 3,
     "metadata": {},
     "output_type": "execute_result"
    }
   ],
   "source": [
    "# Retrieving values at the third row\n",
    "x2[2]"
   ]
  },
  {
   "cell_type": "code",
   "execution_count": 4,
   "metadata": {},
   "outputs": [
    {
     "data": {
      "text/plain": [
       "array([97, 76, 68, 14, 69, 71])"
      ]
     },
     "execution_count": 4,
     "metadata": {},
     "output_type": "execute_result"
    }
   ],
   "source": [
    "# Retrieving values at the fourth column\n",
    "x2[:,3]"
   ]
  },
  {
   "cell_type": "code",
   "execution_count": 5,
   "metadata": {},
   "outputs": [
    {
     "data": {
      "text/plain": [
       "array([[18, 34, 77, 97, 89, 58],\n",
       "       [34, 25, 70, 68, 26, 19],\n",
       "       [23, 93, 14, 69, 77, 17]])"
      ]
     },
     "execution_count": 5,
     "metadata": {},
     "output_type": "execute_result"
    }
   ],
   "source": [
    "# Retrieving values at even rows\n",
    "x2[::2]"
   ]
  },
  {
   "cell_type": "code",
   "execution_count": 6,
   "metadata": {},
   "outputs": [
    {
     "data": {
      "text/plain": [
       "array([[18, 97],\n",
       "       [20, 76],\n",
       "       [34, 68],\n",
       "       [96, 14],\n",
       "       [23, 69],\n",
       "       [59, 71]])"
      ]
     },
     "execution_count": 6,
     "metadata": {},
     "output_type": "execute_result"
    }
   ],
   "source": [
    "# Retrieving values at first, and fourth columns\n",
    "x2[:,[0,3]]"
   ]
  },
  {
   "cell_type": "code",
   "execution_count": 7,
   "metadata": {},
   "outputs": [
    {
     "data": {
      "text/plain": [
       "array([[63, 76, 24],\n",
       "       [70, 68, 26],\n",
       "       [37, 14, 41],\n",
       "       [14, 69, 77],\n",
       "       [75, 71, 24]])"
      ]
     },
     "execution_count": 7,
     "metadata": {},
     "output_type": "execute_result"
    }
   ],
   "source": [
    "# Retrieving values at second, third, fourth, fifth and sixth rows, and at third, fourth and fifth columns\n",
    "x2[1:6,[2,3,4]]"
   ]
  },
  {
   "cell_type": "markdown",
   "metadata": {},
   "source": [
    "## Problem 2: Calculate total amount"
   ]
  },
  {
   "cell_type": "code",
   "execution_count": 8,
   "metadata": {},
   "outputs": [
    {
     "data": {
      "text/plain": [
       "array(['April', 'Brian', 'Clara', 'Daniel', 'Emily'], dtype='<U6')"
      ]
     },
     "execution_count": 8,
     "metadata": {},
     "output_type": "execute_result"
    }
   ],
   "source": [
    "# Declaring an array called Customer that includes five customers: April, Brian, Clara, Daniel, and Emily\n",
    "Customer = np.array(['April', 'Brian', 'Clara', 'Daniel', 'Emily'])\n",
    "Customer"
   ]
  },
  {
   "cell_type": "code",
   "execution_count": 9,
   "metadata": {},
   "outputs": [
    {
     "data": {
      "text/plain": [
       "array([82, 85, 91, 70, 73])"
      ]
     },
     "execution_count": 9,
     "metadata": {},
     "output_type": "execute_result"
    }
   ],
   "source": [
    "# Using an integer random generator to produce an array named Quantity with five integers between 70 and 99. \n",
    "# Using a seed of my choice.  \n",
    "np.random.seed(0)\n",
    "Quantity = np.random.randint(70,99,size=5)  # 1D array\n",
    "Quantity"
   ]
  },
  {
   "cell_type": "code",
   "execution_count": 10,
   "metadata": {},
   "outputs": [
    {
     "data": {
      "text/plain": [
       "array([0.85794562, 0.84725174, 0.6235637 , 0.38438171, 0.29753461])"
      ]
     },
     "execution_count": 10,
     "metadata": {},
     "output_type": "execute_result"
    }
   ],
   "source": [
    "# Generating an array using np.random.rand() with 5 values\n",
    "# np.random.rand() is a function that creates an array of a specified shape and fills it with random values as per\n",
    "# standard normal distribution\n",
    "x1 = np.random.rand(5)\n",
    "x1"
   ]
  },
  {
   "cell_type": "code",
   "execution_count": 11,
   "metadata": {},
   "outputs": [
    {
     "data": {
      "text/plain": [
       "array([8.57945618, 8.47251739, 6.23563697, 3.84381707, 2.97534607])"
      ]
     },
     "execution_count": 11,
     "metadata": {},
     "output_type": "execute_result"
    }
   ],
   "source": [
    "# Multiply the array (x1) by 10 to produce an array called Price.\n",
    "y = 10 \n",
    "Price = y*np.array(x1)\n",
    "Price"
   ]
  },
  {
   "cell_type": "code",
   "execution_count": 12,
   "metadata": {},
   "outputs": [
    {
     "data": {
      "text/plain": [
       "array([703.51540645, 720.16397797, 567.44296408, 269.0671951 ,\n",
       "       217.20026278])"
      ]
     },
     "execution_count": 12,
     "metadata": {},
     "output_type": "execute_result"
    }
   ],
   "source": [
    "# Calculating ExtendedAmount for each customer. ExtendedAmount is the product of Quantity and Price.  \n",
    "ExtendedAmount= Quantity * Price\n",
    "ExtendedAmount"
   ]
  },
  {
   "cell_type": "code",
   "execution_count": 13,
   "metadata": {},
   "outputs": [
    {
     "data": {
      "text/plain": [
       "array(['Discount is 20%', 'Discount is 20%', 'Discount is 20%',\n",
       "       'Discount is 10%', 'Discount is 10%'], dtype='<U15')"
      ]
     },
     "execution_count": 13,
     "metadata": {},
     "output_type": "execute_result"
    }
   ],
   "source": [
    "# Creating a function that calculates the discount for each customer based on the following discount rates:  \n",
    "def discount(x):\n",
    "    if x >= 500:\n",
    "        return \"Discount is 20%\"\n",
    "    elif 400 <= x <= 500:\n",
    "        return \"Discount is 15%\"\n",
    "    elif 200 <= x <=400:\n",
    "        return \"Discount is 10%\"\n",
    "    else:\n",
    "        return\"Discount is 0%\"\n",
    "\n",
    "np.array(list(map(discount,ExtendedAmount)))"
   ]
  },
  {
   "cell_type": "code",
   "execution_count": 14,
   "metadata": {},
   "outputs": [
    {
     "name": "stdout",
     "output_type": "stream",
     "text": [
      "Customer Name: April , ExtendedAmount: 703.5154064506606 , Discount is 20% , Final Price: 562.8123251605285\n",
      "------------------------------------------------------------------------------------------------------------\n",
      "Customer Name: Brian , ExtendedAmount: 720.1639779665066 , Discount is 20% , Final Price: 576.1311823732053\n",
      "------------------------------------------------------------------------------------------------------------\n",
      "Customer Name: Clara , ExtendedAmount: 567.4429640752348 , Discount is 20% , Final Price: 453.9543712601879\n",
      "------------------------------------------------------------------------------------------------------------\n",
      "Customer Name: Daniel , ExtendedAmount: 269.0671951048899 , Discount is 10% , Final Price: 242.1604755944009\n",
      "------------------------------------------------------------------------------------------------------------\n",
      "Customer Name: Emily , ExtendedAmount: 217.20026277746476 , Discount is 10% , Final Price: 195.48023649971827\n"
     ]
    }
   ],
   "source": [
    "# Printing out each customer name, extended amount, discount and final price.\n",
    "# Separating each customer’s data with a line, using “‐‐‐” or “===” \n",
    "print(\"Customer Name:\", Customer[0], \",\", \"ExtendedAmount:\", ExtendedAmount[0], \",\", \n",
    "np.array(list(map(discount,ExtendedAmount)))[0], \",\" , \"Final Price:\", ExtendedAmount[0]-(ExtendedAmount[0]*.20))\n",
    "print(\"------------------------------------------------------------------------------------------------------------\")\n",
    "print(\"Customer Name:\", Customer[1], \",\", \"ExtendedAmount:\", ExtendedAmount[1], \",\", \n",
    "np.array(list(map(discount,ExtendedAmount)))[1], \",\" , \"Final Price:\", ExtendedAmount[1]-(ExtendedAmount[1]*.20))\n",
    "print(\"------------------------------------------------------------------------------------------------------------\")\n",
    "print(\"Customer Name:\", Customer[2], \",\", \"ExtendedAmount:\", ExtendedAmount[2], \",\", \n",
    "np.array(list(map(discount,ExtendedAmount)))[2], \",\" , \"Final Price:\", ExtendedAmount[2]-(ExtendedAmount[2]*.20))\n",
    "print(\"------------------------------------------------------------------------------------------------------------\")\n",
    "print(\"Customer Name:\", Customer[3], \",\", \"ExtendedAmount:\", ExtendedAmount[3], \",\", \n",
    "np.array(list(map(discount,ExtendedAmount)))[3], \",\" , \"Final Price:\", ExtendedAmount[3]-(ExtendedAmount[3]*.10))\n",
    "print(\"------------------------------------------------------------------------------------------------------------\")\n",
    "print(\"Customer Name:\", Customer[4], \",\", \"ExtendedAmount:\", ExtendedAmount[4], \",\", \n",
    "np.array(list(map(discount,ExtendedAmount)))[4], \",\" , \"Final Price:\", ExtendedAmount[4]-(ExtendedAmount[4]*.10))"
   ]
  }
 ],
 "metadata": {
  "kernelspec": {
   "display_name": "Python 3",
   "language": "python",
   "name": "python3"
  },
  "language_info": {
   "codemirror_mode": {
    "name": "ipython",
    "version": 3
   },
   "file_extension": ".py",
   "mimetype": "text/x-python",
   "name": "python",
   "nbconvert_exporter": "python",
   "pygments_lexer": "ipython3",
   "version": "3.8.3"
  }
 },
 "nbformat": 4,
 "nbformat_minor": 4
}
